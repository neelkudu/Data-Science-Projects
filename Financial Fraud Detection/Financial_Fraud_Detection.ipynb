{
  "nbformat": 4,
  "nbformat_minor": 0,
  "metadata": {
    "kernelspec": {
      "name": "python3",
      "display_name": "Python 3"
    },
    "language_info": {
      "codemirror_mode": {
        "name": "ipython",
        "version": 3
      },
      "file_extension": ".py",
      "mimetype": "text/x-python",
      "name": "python",
      "nbconvert_exporter": "python",
      "pygments_lexer": "ipython3",
      "version": "3.7.3"
    },
    "colab": {
      "name": "Financial_Fraud_Detection.ipynb",
      "provenance": []
    },
    "accelerator": "GPU"
  },
  "cells": [
    {
      "cell_type": "code",
      "metadata": {
        "id": "CnH5a1GfZykt",
        "colab_type": "code",
        "outputId": "d11c8393-5bb0-456d-c6dd-b5fc86511dc6",
        "colab": {
          "base_uri": "https://localhost:8080/",
          "height": 147
        }
      },
      "source": [
        "import pandas as pd\n",
        "import numpy as np\n",
        "import matplotlib.pyplot as plt\n",
        "import seaborn as sns\n",
        "pd.set_option('display.max_columns', None)\n",
        "from sklearn.preprocessing import LabelEncoder\n",
        "import scipy.stats as ss\n",
        "from scipy.stats import chi2_contingency\n",
        "from sklearn.preprocessing import LabelEncoder, StandardScaler\n",
        "from sklearn.model_selection import train_test_split as tts, GridSearchCV\n",
        "from imblearn.under_sampling import RandomUnderSampler\n",
        "from imblearn.over_sampling import RandomOverSampler,SMOTE\n",
        "from sklearn.linear_model import LogisticRegression\n",
        "from sklearn.tree import DecisionTreeClassifier\n",
        "from sklearn.ensemble import RandomForestClassifier\n",
        "from xgboost import XGBClassifier\n",
        "from sklearn.metrics import accuracy_score,f1_score,precision_score,recall_score,classification_report, confusion_matrix"
      ],
      "execution_count": 1,
      "outputs": [
        {
          "output_type": "stream",
          "text": [
            "/usr/local/lib/python3.6/dist-packages/statsmodels/tools/_testing.py:19: FutureWarning: pandas.util.testing is deprecated. Use the functions in the public API at pandas.testing instead.\n",
            "  import pandas.util.testing as tm\n",
            "/usr/local/lib/python3.6/dist-packages/sklearn/externals/six.py:31: FutureWarning: The module is deprecated in version 0.21 and will be removed in version 0.23 since we've dropped support for Python 2.7. Please rely on the official version of six (https://pypi.org/project/six/).\n",
            "  \"(https://pypi.org/project/six/).\", FutureWarning)\n",
            "/usr/local/lib/python3.6/dist-packages/sklearn/utils/deprecation.py:144: FutureWarning: The sklearn.neighbors.base module is  deprecated in version 0.22 and will be removed in version 0.24. The corresponding classes / functions should instead be imported from sklearn.neighbors. Anything that cannot be imported from sklearn.neighbors is now part of the private API.\n",
            "  warnings.warn(message, FutureWarning)\n"
          ],
          "name": "stderr"
        }
      ]
    },
    {
      "cell_type": "code",
      "metadata": {
        "id": "rJzXxZCNZylB",
        "colab_type": "code",
        "outputId": "5781584b-d4a2-4c32-84ea-2c238518d2ff",
        "colab": {
          "base_uri": "https://localhost:8080/",
          "height": 226
        }
      },
      "source": [
        "data=pd.read_csv(\"/content/drive/My Drive/Boot Camp Hackathon/data.csv\")\n",
        "data.head()"
      ],
      "execution_count": 2,
      "outputs": [
        {
          "output_type": "execute_result",
          "data": {
            "text/html": [
              "<div>\n",
              "<style scoped>\n",
              "    .dataframe tbody tr th:only-of-type {\n",
              "        vertical-align: middle;\n",
              "    }\n",
              "\n",
              "    .dataframe tbody tr th {\n",
              "        vertical-align: top;\n",
              "    }\n",
              "\n",
              "    .dataframe thead th {\n",
              "        text-align: right;\n",
              "    }\n",
              "</style>\n",
              "<table border=\"1\" class=\"dataframe\">\n",
              "  <thead>\n",
              "    <tr style=\"text-align: right;\">\n",
              "      <th></th>\n",
              "      <th>step</th>\n",
              "      <th>type</th>\n",
              "      <th>amount</th>\n",
              "      <th>nameOrig</th>\n",
              "      <th>oldbalanceOrg</th>\n",
              "      <th>newbalanceOrig</th>\n",
              "      <th>nameDest</th>\n",
              "      <th>oldbalanceDest</th>\n",
              "      <th>newbalanceDest</th>\n",
              "      <th>isFraud</th>\n",
              "      <th>isFlaggedFraud</th>\n",
              "    </tr>\n",
              "  </thead>\n",
              "  <tbody>\n",
              "    <tr>\n",
              "      <th>0</th>\n",
              "      <td>1</td>\n",
              "      <td>PAYMENT</td>\n",
              "      <td>9839.64</td>\n",
              "      <td>C1231006815</td>\n",
              "      <td>170136.0</td>\n",
              "      <td>160296.36</td>\n",
              "      <td>M1979787155</td>\n",
              "      <td>0.0</td>\n",
              "      <td>0.0</td>\n",
              "      <td>0</td>\n",
              "      <td>0</td>\n",
              "    </tr>\n",
              "    <tr>\n",
              "      <th>1</th>\n",
              "      <td>1</td>\n",
              "      <td>PAYMENT</td>\n",
              "      <td>1864.28</td>\n",
              "      <td>C1666544295</td>\n",
              "      <td>21249.0</td>\n",
              "      <td>19384.72</td>\n",
              "      <td>M2044282225</td>\n",
              "      <td>0.0</td>\n",
              "      <td>0.0</td>\n",
              "      <td>0</td>\n",
              "      <td>0</td>\n",
              "    </tr>\n",
              "    <tr>\n",
              "      <th>2</th>\n",
              "      <td>1</td>\n",
              "      <td>TRANSFER</td>\n",
              "      <td>181.00</td>\n",
              "      <td>C1305486145</td>\n",
              "      <td>181.0</td>\n",
              "      <td>0.00</td>\n",
              "      <td>C553264065</td>\n",
              "      <td>0.0</td>\n",
              "      <td>0.0</td>\n",
              "      <td>1</td>\n",
              "      <td>0</td>\n",
              "    </tr>\n",
              "    <tr>\n",
              "      <th>3</th>\n",
              "      <td>1</td>\n",
              "      <td>CASH_OUT</td>\n",
              "      <td>181.00</td>\n",
              "      <td>C840083671</td>\n",
              "      <td>181.0</td>\n",
              "      <td>0.00</td>\n",
              "      <td>C38997010</td>\n",
              "      <td>21182.0</td>\n",
              "      <td>0.0</td>\n",
              "      <td>1</td>\n",
              "      <td>0</td>\n",
              "    </tr>\n",
              "    <tr>\n",
              "      <th>4</th>\n",
              "      <td>1</td>\n",
              "      <td>PAYMENT</td>\n",
              "      <td>11668.14</td>\n",
              "      <td>C2048537720</td>\n",
              "      <td>41554.0</td>\n",
              "      <td>29885.86</td>\n",
              "      <td>M1230701703</td>\n",
              "      <td>0.0</td>\n",
              "      <td>0.0</td>\n",
              "      <td>0</td>\n",
              "      <td>0</td>\n",
              "    </tr>\n",
              "  </tbody>\n",
              "</table>\n",
              "</div>"
            ],
            "text/plain": [
              "   step      type    amount     nameOrig  oldbalanceOrg  newbalanceOrig  \\\n",
              "0     1   PAYMENT   9839.64  C1231006815       170136.0       160296.36   \n",
              "1     1   PAYMENT   1864.28  C1666544295        21249.0        19384.72   \n",
              "2     1  TRANSFER    181.00  C1305486145          181.0            0.00   \n",
              "3     1  CASH_OUT    181.00   C840083671          181.0            0.00   \n",
              "4     1   PAYMENT  11668.14  C2048537720        41554.0        29885.86   \n",
              "\n",
              "      nameDest  oldbalanceDest  newbalanceDest  isFraud  isFlaggedFraud  \n",
              "0  M1979787155             0.0             0.0        0               0  \n",
              "1  M2044282225             0.0             0.0        0               0  \n",
              "2   C553264065             0.0             0.0        1               0  \n",
              "3    C38997010         21182.0             0.0        1               0  \n",
              "4  M1230701703             0.0             0.0        0               0  "
            ]
          },
          "metadata": {
            "tags": []
          },
          "execution_count": 2
        }
      ]
    },
    {
      "cell_type": "code",
      "metadata": {
        "id": "O_MKejPrZylZ",
        "colab_type": "code",
        "outputId": "de294bcf-df3d-4416-8172-ea540afefcc2",
        "colab": {
          "base_uri": "https://localhost:8080/",
          "height": 72
        }
      },
      "source": [
        "(data[\"isFlaggedFraud\"].value_counts()/data.shape[0])*100"
      ],
      "execution_count": 3,
      "outputs": [
        {
          "output_type": "execute_result",
          "data": {
            "text/plain": [
              "0    99.999749\n",
              "1     0.000251\n",
              "Name: isFlaggedFraud, dtype: float64"
            ]
          },
          "metadata": {
            "tags": []
          },
          "execution_count": 3
        }
      ]
    },
    {
      "cell_type": "markdown",
      "metadata": {
        "id": "LCNS-DrSupJO",
        "colab_type": "text"
      },
      "source": [
        "Data is a classic case Data Imbalance, we will have to tackle this problem with the help of Over-Sampling or Under-Sampling "
      ]
    },
    {
      "cell_type": "code",
      "metadata": {
        "id": "kiIJfnqnZylr",
        "colab_type": "code",
        "outputId": "f733a42b-e283-4d2a-e53b-672343a33f21",
        "colab": {
          "base_uri": "https://localhost:8080/",
          "height": 237
        }
      },
      "source": [
        "data.isnull().sum()"
      ],
      "execution_count": 4,
      "outputs": [
        {
          "output_type": "execute_result",
          "data": {
            "text/plain": [
              "step              0\n",
              "type              0\n",
              "amount            0\n",
              "nameOrig          0\n",
              "oldbalanceOrg     0\n",
              "newbalanceOrig    0\n",
              "nameDest          0\n",
              "oldbalanceDest    0\n",
              "newbalanceDest    0\n",
              "isFraud           0\n",
              "isFlaggedFraud    0\n",
              "dtype: int64"
            ]
          },
          "metadata": {
            "tags": []
          },
          "execution_count": 4
        }
      ]
    },
    {
      "cell_type": "code",
      "metadata": {
        "id": "295d9dcSukuU",
        "colab_type": "code",
        "colab": {
          "base_uri": "https://localhost:8080/",
          "height": 237
        },
        "outputId": "62ef6c25-9338-4265-a93f-b5c5d2c52535"
      },
      "source": [
        "data.dtypes"
      ],
      "execution_count": 5,
      "outputs": [
        {
          "output_type": "execute_result",
          "data": {
            "text/plain": [
              "step                int64\n",
              "type               object\n",
              "amount            float64\n",
              "nameOrig           object\n",
              "oldbalanceOrg     float64\n",
              "newbalanceOrig    float64\n",
              "nameDest           object\n",
              "oldbalanceDest    float64\n",
              "newbalanceDest    float64\n",
              "isFraud             int64\n",
              "isFlaggedFraud      int64\n",
              "dtype: object"
            ]
          },
          "metadata": {
            "tags": []
          },
          "execution_count": 5
        }
      ]
    },
    {
      "cell_type": "code",
      "metadata": {
        "id": "fco9jS2zvZzM",
        "colab_type": "code",
        "colab": {}
      },
      "source": [
        "new_data=data.copy()\n",
        "le=LabelEncoder()\n",
        "new_data[\"type\"]=le.fit_transform(new_data[\"type\"])"
      ],
      "execution_count": 0,
      "outputs": []
    },
    {
      "cell_type": "markdown",
      "metadata": {
        "id": "DGHSdo9EvVBL",
        "colab_type": "text"
      },
      "source": [
        "Creating Base Model without any Feature Engineering"
      ]
    },
    {
      "cell_type": "code",
      "metadata": {
        "id": "GP8rvCZjvUJk",
        "colab_type": "code",
        "colab": {}
      },
      "source": [
        "std=StandardScaler()\n",
        "X=new_data.drop([\"step\",\"nameOrig\",\"nameDest\",\"isFraud\"],1)\n",
        "X_std=std.fit_transform(X)\n",
        "y=new_data[\"isFraud\"]"
      ],
      "execution_count": 0,
      "outputs": []
    },
    {
      "cell_type": "code",
      "metadata": {
        "id": "MFL7IpBCvUa-",
        "colab_type": "code",
        "colab": {}
      },
      "source": [
        "X_train,X_test,y_train,y_test=tts(X_std,y,test_size=0.25,random_state=6)"
      ],
      "execution_count": 0,
      "outputs": []
    },
    {
      "cell_type": "markdown",
      "metadata": {
        "id": "YjLC1RRxv6Lf",
        "colab_type": "text"
      },
      "source": [
        "For tackling Data Imbalance let's try Random Undersampling first, since we have good amount of data"
      ]
    },
    {
      "cell_type": "code",
      "metadata": {
        "id": "k6e2EVHdvUZH",
        "colab_type": "code",
        "colab": {
          "base_uri": "https://localhost:8080/",
          "height": 74
        },
        "outputId": "f227a723-f4b5-4075-dc45-0d0e632e5012"
      },
      "source": [
        "rus=RandomUnderSampler(random_state=10)\n",
        "X_train,y_train=rus.fit_sample(X_train,y_train)"
      ],
      "execution_count": 9,
      "outputs": [
        {
          "output_type": "stream",
          "text": [
            "/usr/local/lib/python3.6/dist-packages/sklearn/utils/deprecation.py:87: FutureWarning: Function safe_indexing is deprecated; safe_indexing is deprecated in version 0.22 and will be removed in version 0.24.\n",
            "  warnings.warn(msg, category=FutureWarning)\n"
          ],
          "name": "stderr"
        }
      ]
    },
    {
      "cell_type": "markdown",
      "metadata": {
        "id": "WKJiH7D0wUfe",
        "colab_type": "text"
      },
      "source": [
        "### Logistic Regression"
      ]
    },
    {
      "cell_type": "code",
      "metadata": {
        "id": "Gfz068aPvUVl",
        "colab_type": "code",
        "colab": {}
      },
      "source": [
        "logreg=LogisticRegression()\n",
        "logreg.fit(X_train,y_train)\n",
        "y_pred_logreg1=logreg.predict(X_test)"
      ],
      "execution_count": 0,
      "outputs": []
    },
    {
      "cell_type": "code",
      "metadata": {
        "id": "oeTy1b9yvUTm",
        "colab_type": "code",
        "colab": {
          "base_uri": "https://localhost:8080/",
          "height": 72
        },
        "outputId": "a123a83a-bef5-46ae-a27d-dea81b1800c5"
      },
      "source": [
        "print(\"F1 Score for Logistic Regression base model: \",f1_score(y_test,y_pred_logreg1,average='weighted'))\n",
        "print(\"Precision Score for Logistic Regression base model: \",precision_score(y_test,y_pred_logreg1))\n",
        "print(\"Recall Score for Logistic Regression base model: \",recall_score(y_test,y_pred_logreg1))"
      ],
      "execution_count": 11,
      "outputs": [
        {
          "output_type": "stream",
          "text": [
            "F1 Score for Logistic Regression base model:  0.9916005167671116\n",
            "Precision Score for Logistic Regression base model:  0.06349206349206349\n",
            "Recall Score for Logistic Regression base model:  0.7518500246669956\n"
          ],
          "name": "stdout"
        }
      ]
    },
    {
      "cell_type": "code",
      "metadata": {
        "id": "A5iPevOzvURp",
        "colab_type": "code",
        "colab": {
          "base_uri": "https://localhost:8080/",
          "height": 182
        },
        "outputId": "25601086-6e58-4730-d91d-a42c825f9c94"
      },
      "source": [
        "print(classification_report(y_test,y_pred_logreg1))"
      ],
      "execution_count": 12,
      "outputs": [
        {
          "output_type": "stream",
          "text": [
            "              precision    recall  f1-score   support\n",
            "\n",
            "           0       1.00      0.99      0.99   1588628\n",
            "           1       0.06      0.75      0.12      2027\n",
            "\n",
            "    accuracy                           0.99   1590655\n",
            "   macro avg       0.53      0.87      0.55   1590655\n",
            "weighted avg       1.00      0.99      0.99   1590655\n",
            "\n"
          ],
          "name": "stdout"
        }
      ]
    },
    {
      "cell_type": "code",
      "metadata": {
        "id": "nPR3QZNrvUO-",
        "colab_type": "code",
        "colab": {
          "base_uri": "https://localhost:8080/",
          "height": 313
        },
        "outputId": "1cf95075-710d-46c9-d6b1-14cc9cbd73ed"
      },
      "source": [
        "plt.barh(list(X),logreg.coef_[0])\n",
        "plt.title(\"Logistic Regression Base Model Feature Imporatance\")\n",
        "plt.ylabel(\"Feature Names\")\n",
        "plt.xlabel(\"Feature Importance\")"
      ],
      "execution_count": 13,
      "outputs": [
        {
          "output_type": "execute_result",
          "data": {
            "text/plain": [
              "Text(0.5, 0, 'Feature Importance')"
            ]
          },
          "metadata": {
            "tags": []
          },
          "execution_count": 13
        },
        {
          "output_type": "display_data",
          "data": {
            "image/png": "[encoded data removed]",
            "text/plain": [
              "<Figure size 432x288 with 1 Axes>"
            ]
          },
          "metadata": {
            "tags": [],
            "needs_background": "light"
          }
        }
      ]
    },
    {
      "cell_type": "markdown",
      "metadata": {
        "id": "PAI2aUET0qH2",
        "colab_type": "text"
      },
      "source": [
        "### Decision Tree Classifier"
      ]
    },
    {
      "cell_type": "code",
      "metadata": {
        "id": "10uimEvf0Hpd",
        "colab_type": "code",
        "colab": {}
      },
      "source": [
        "dt=DecisionTreeClassifier(random_state=42)\n",
        "dt.fit(X_train,y_train)\n",
        "y_pred_dt1=dt.predict(X_test)"
      ],
      "execution_count": 0,
      "outputs": []
    },
    {
      "cell_type": "code",
      "metadata": {
        "id": "UF5JaGoc0H2W",
        "colab_type": "code",
        "colab": {
          "base_uri": "https://localhost:8080/",
          "height": 72
        },
        "outputId": "75db1974-031d-4f85-b9ce-376ca9b6af25"
      },
      "source": [
        "print(\"F1 Score for Decision Tree base model: \",f1_score(y_test,y_pred_dt1,average='weighted'))\n",
        "print(\"Precision Score for Decision Tree base model: \",precision_score(y_test,y_pred_dt1))\n",
        "print(\"Recall Score for Decision Tree base model: \",recall_score(y_test,y_pred_dt1))"
      ],
      "execution_count": 15,
      "outputs": [
        {
          "output_type": "stream",
          "text": [
            "F1 Score for Decision Tree base model:  0.9946783128096789\n",
            "Precision Score for Decision Tree base model:  0.1280259228667641\n",
            "Recall Score for Decision Tree base model:  0.9940799210656142\n"
          ],
          "name": "stdout"
        }
      ]
    },
    {
      "cell_type": "code",
      "metadata": {
        "id": "eLuu-UiV0IGQ",
        "colab_type": "code",
        "colab": {
          "base_uri": "https://localhost:8080/",
          "height": 182
        },
        "outputId": "f829f9ca-ca91-4b81-9961-c0b4d2f48639"
      },
      "source": [
        "print(classification_report(y_test,y_pred_dt1))"
      ],
      "execution_count": 16,
      "outputs": [
        {
          "output_type": "stream",
          "text": [
            "              precision    recall  f1-score   support\n",
            "\n",
            "           0       1.00      0.99      1.00   1588628\n",
            "           1       0.13      0.99      0.23      2027\n",
            "\n",
            "    accuracy                           0.99   1590655\n",
            "   macro avg       0.56      0.99      0.61   1590655\n",
            "weighted avg       1.00      0.99      0.99   1590655\n",
            "\n"
          ],
          "name": "stdout"
        }
      ]
    },
    {
      "cell_type": "code",
      "metadata": {
        "id": "Hc41S7SB0IMd",
        "colab_type": "code",
        "colab": {
          "base_uri": "https://localhost:8080/",
          "height": 313
        },
        "outputId": "b977f449-b533-47cc-d6cd-6adcc281aa12"
      },
      "source": [
        "plt.barh(list(X),dt.feature_importances_)\n",
        "plt.title(\"Decision Tree Base Model Feature Imporatance\")\n",
        "plt.ylabel(\"Feature Names\")\n",
        "plt.xlabel(\"Feature Importance\")"
      ],
      "execution_count": 17,
      "outputs": [
        {
          "output_type": "execute_result",
          "data": {
            "text/plain": [
              "Text(0.5, 0, 'Feature Importance')"
            ]
          },
          "metadata": {
            "tags": []
          },
          "execution_count": 17
        },
        {
          "output_type": "display_data",
          "data": {
            "image/png": "[encoded data removed]",
            "text/plain": [
              "<Figure size 432x288 with 1 Axes>"
            ]
          },
          "metadata": {
            "tags": [],
            "needs_background": "light"
          }
        }
      ]
    },
    {
      "cell_type": "markdown",
      "metadata": {
        "id": "kiZlG3gJ0ttA",
        "colab_type": "text"
      },
      "source": [
        "### Random Forest Classifier"
      ]
    },
    {
      "cell_type": "code",
      "metadata": {
        "id": "zfQk9UBy0IDi",
        "colab_type": "code",
        "colab": {}
      },
      "source": [
        "rf=RandomForestClassifier(random_state=0)\n",
        "rf.fit(X_train,y_train)\n",
        "y_pred_rf1=rf.predict(X_test)"
      ],
      "execution_count": 0,
      "outputs": []
    },
    {
      "cell_type": "code",
      "metadata": {
        "id": "xXqTv-A-0IBB",
        "colab_type": "code",
        "colab": {
          "base_uri": "https://localhost:8080/",
          "height": 72
        },
        "outputId": "8b6cfb20-5c82-4c04-e533-495684e84348"
      },
      "source": [
        "print(\"F1 Score for Random Forest base model: \",f1_score(y_test,y_pred_rf1,average='weighted'))\n",
        "print(\"Precision Score for Random Forest base model: \",precision_score(y_test,y_pred_rf1))\n",
        "print(\"Recall Score for Random Forest base model: \",recall_score(y_test,y_pred_rf1))"
      ],
      "execution_count": 19,
      "outputs": [
        {
          "output_type": "stream",
          "text": [
            "F1 Score for Random Forest base model:  0.9936367637329911\n",
            "Precision Score for Random Forest base model:  0.10702571156491376\n",
            "Recall Score for Random Forest base model:  0.9980266403552047\n"
          ],
          "name": "stdout"
        }
      ]
    },
    {
      "cell_type": "code",
      "metadata": {
        "id": "qTZO71vr1bOq",
        "colab_type": "code",
        "colab": {
          "base_uri": "https://localhost:8080/",
          "height": 182
        },
        "outputId": "1ac449ce-d38a-4f1c-c2a4-dea822215e1f"
      },
      "source": [
        "print(classification_report(y_test,y_pred_rf1))"
      ],
      "execution_count": 20,
      "outputs": [
        {
          "output_type": "stream",
          "text": [
            "              precision    recall  f1-score   support\n",
            "\n",
            "           0       1.00      0.99      0.99   1588628\n",
            "           1       0.11      1.00      0.19      2027\n",
            "\n",
            "    accuracy                           0.99   1590655\n",
            "   macro avg       0.55      0.99      0.59   1590655\n",
            "weighted avg       1.00      0.99      0.99   1590655\n",
            "\n"
          ],
          "name": "stdout"
        }
      ]
    },
    {
      "cell_type": "code",
      "metadata": {
        "id": "Dkb_oD_e0H-Y",
        "colab_type": "code",
        "colab": {
          "base_uri": "https://localhost:8080/",
          "height": 313
        },
        "outputId": "d842ccec-347d-45aa-aa3c-0c21f300259a"
      },
      "source": [
        "plt.barh(list(X),rf.feature_importances_)\n",
        "plt.title(\"Random Forest Base Model Feature Imporatance\")\n",
        "plt.ylabel(\"Feature Names\")\n",
        "plt.xlabel(\"Feature Importance\")"
      ],
      "execution_count": 21,
      "outputs": [
        {
          "output_type": "execute_result",
          "data": {
            "text/plain": [
              "Text(0.5, 0, 'Feature Importance')"
            ]
          },
          "metadata": {
            "tags": []
          },
          "execution_count": 21
        },
        {
          "output_type": "display_data",
          "data": {
            "image/png": "[encoded data removed]",
            "text/plain": [
              "<Figure size 432x288 with 1 Axes>"
            ]
          },
          "metadata": {
            "tags": [],
            "needs_background": "light"
          }
        }
      ]
    },
    {
      "cell_type": "markdown",
      "metadata": {
        "id": "aQn1M0ya1iYT",
        "colab_type": "text"
      },
      "source": [
        "All these base models have really good F1 and Recall Score but really bad Precision Score.\n",
        "That's the score we need to improve."
      ]
    },
    {
      "cell_type": "markdown",
      "metadata": {
        "id": "YTq9zipSunuL",
        "colab_type": "text"
      },
      "source": [
        "## Feature Engineering "
      ]
    },
    {
      "cell_type": "code",
      "metadata": {
        "id": "OpJy5BsRai_R",
        "colab_type": "code",
        "colab": {}
      },
      "source": [
        "median_amt=data.groupby([\"nameOrig\"]).agg({\"amount\":'median'})\n",
        "mean_amt=data.groupby([\"nameOrig\"]).agg({\"amount\":'mean'})"
      ],
      "execution_count": 0,
      "outputs": []
    },
    {
      "cell_type": "code",
      "metadata": {
        "id": "vj1BitCdbLhG",
        "colab_type": "code",
        "colab": {}
      },
      "source": [
        "median_amt_recv=data.groupby([\"nameDest\"]).agg({\"amount\":'median'})\n",
        "mean_amt_recv=data.groupby([\"nameDest\"]).agg({\"amount\":'mean'})"
      ],
      "execution_count": 0,
      "outputs": []
    },
    {
      "cell_type": "code",
      "metadata": {
        "id": "s2ZViiosbXPE",
        "colab_type": "code",
        "colab": {}
      },
      "source": [
        "origin_mean_median=pd.merge(median_amt,mean_amt,on=\"nameOrig\")\n",
        "dest_mean_median=pd.merge(median_amt_recv,mean_amt_recv,on=\"nameDest\")"
      ],
      "execution_count": 0,
      "outputs": []
    },
    {
      "cell_type": "code",
      "metadata": {
        "id": "3d83iX7LdRd4",
        "colab_type": "code",
        "colab": {}
      },
      "source": [
        "data=pd.merge(data,origin_mean_median,on=\"nameOrig\")"
      ],
      "execution_count": 0,
      "outputs": []
    },
    {
      "cell_type": "code",
      "metadata": {
        "id": "nfc1K33gelpI",
        "colab_type": "code",
        "colab": {}
      },
      "source": [
        "data=pd.merge(data,dest_mean_median,on=\"nameDest\")"
      ],
      "execution_count": 0,
      "outputs": []
    },
    {
      "cell_type": "code",
      "metadata": {
        "id": "bjNtMw4ue5Nw",
        "colab_type": "code",
        "colab": {}
      },
      "source": [
        "data.rename(columns={'amount_x_x':'median_amt_debit',\n",
        "                          'amount_y_x':'mean_amt_debit',\n",
        "                          'amount_x_y':'median_amt_recieved',\n",
        "                          'amount_y_y':'mean_amt_recieved',}, \n",
        "                 inplace=True)"
      ],
      "execution_count": 0,
      "outputs": []
    },
    {
      "cell_type": "code",
      "metadata": {
        "id": "VX8pe0BOhQJS",
        "colab_type": "code",
        "colab": {}
      },
      "source": [
        "data.rename(columns={'nameOrig_y':'No_of_transactions','nameOrig_x':'nameOrig'},inplace=True)"
      ],
      "execution_count": 0,
      "outputs": []
    },
    {
      "cell_type": "code",
      "metadata": {
        "id": "lXIYQwCaheq-",
        "colab_type": "code",
        "outputId": "b387e3b6-f887-48ec-f611-2b65587389d2",
        "colab": {
          "base_uri": "https://localhost:8080/",
          "height": 226
        }
      },
      "source": [
        "data.head()"
      ],
      "execution_count": 29,
      "outputs": [
        {
          "output_type": "execute_result",
          "data": {
            "text/html": [
              "<div>\n",
              "<style scoped>\n",
              "    .dataframe tbody tr th:only-of-type {\n",
              "        vertical-align: middle;\n",
              "    }\n",
              "\n",
              "    .dataframe tbody tr th {\n",
              "        vertical-align: top;\n",
              "    }\n",
              "\n",
              "    .dataframe thead th {\n",
              "        text-align: right;\n",
              "    }\n",
              "</style>\n",
              "<table border=\"1\" class=\"dataframe\">\n",
              "  <thead>\n",
              "    <tr style=\"text-align: right;\">\n",
              "      <th></th>\n",
              "      <th>step</th>\n",
              "      <th>type</th>\n",
              "      <th>amount</th>\n",
              "      <th>nameOrig</th>\n",
              "      <th>oldbalanceOrg</th>\n",
              "      <th>newbalanceOrig</th>\n",
              "      <th>nameDest</th>\n",
              "      <th>oldbalanceDest</th>\n",
              "      <th>newbalanceDest</th>\n",
              "      <th>isFraud</th>\n",
              "      <th>isFlaggedFraud</th>\n",
              "      <th>median_amt_debit</th>\n",
              "      <th>mean_amt_debit</th>\n",
              "      <th>median_amt_recieved</th>\n",
              "      <th>mean_amt_recieved</th>\n",
              "    </tr>\n",
              "  </thead>\n",
              "  <tbody>\n",
              "    <tr>\n",
              "      <th>0</th>\n",
              "      <td>1</td>\n",
              "      <td>PAYMENT</td>\n",
              "      <td>9839.64</td>\n",
              "      <td>C1231006815</td>\n",
              "      <td>170136.00</td>\n",
              "      <td>160296.36</td>\n",
              "      <td>M1979787155</td>\n",
              "      <td>0.00</td>\n",
              "      <td>0.00</td>\n",
              "      <td>0</td>\n",
              "      <td>0</td>\n",
              "      <td>9839.640</td>\n",
              "      <td>9839.640</td>\n",
              "      <td>9839.640</td>\n",
              "      <td>9839.640000</td>\n",
              "    </tr>\n",
              "    <tr>\n",
              "      <th>1</th>\n",
              "      <td>1</td>\n",
              "      <td>PAYMENT</td>\n",
              "      <td>1864.28</td>\n",
              "      <td>C1666544295</td>\n",
              "      <td>21249.00</td>\n",
              "      <td>19384.72</td>\n",
              "      <td>M2044282225</td>\n",
              "      <td>0.00</td>\n",
              "      <td>0.00</td>\n",
              "      <td>0</td>\n",
              "      <td>0</td>\n",
              "      <td>1864.280</td>\n",
              "      <td>1864.280</td>\n",
              "      <td>1864.280</td>\n",
              "      <td>1864.280000</td>\n",
              "    </tr>\n",
              "    <tr>\n",
              "      <th>2</th>\n",
              "      <td>1</td>\n",
              "      <td>TRANSFER</td>\n",
              "      <td>181.00</td>\n",
              "      <td>C1305486145</td>\n",
              "      <td>181.00</td>\n",
              "      <td>0.00</td>\n",
              "      <td>C553264065</td>\n",
              "      <td>0.00</td>\n",
              "      <td>0.00</td>\n",
              "      <td>1</td>\n",
              "      <td>0</td>\n",
              "      <td>181.000</td>\n",
              "      <td>181.000</td>\n",
              "      <td>139366.105</td>\n",
              "      <td>225517.832045</td>\n",
              "    </tr>\n",
              "    <tr>\n",
              "      <th>3</th>\n",
              "      <td>6</td>\n",
              "      <td>TRANSFER</td>\n",
              "      <td>109985.65</td>\n",
              "      <td>C570434649</td>\n",
              "      <td>41851.00</td>\n",
              "      <td>0.00</td>\n",
              "      <td>C553264065</td>\n",
              "      <td>0.00</td>\n",
              "      <td>109985.65</td>\n",
              "      <td>0</td>\n",
              "      <td>0</td>\n",
              "      <td>109985.650</td>\n",
              "      <td>109985.650</td>\n",
              "      <td>139366.105</td>\n",
              "      <td>225517.832045</td>\n",
              "    </tr>\n",
              "    <tr>\n",
              "      <th>4</th>\n",
              "      <td>7</td>\n",
              "      <td>CASH_IN</td>\n",
              "      <td>10256.20</td>\n",
              "      <td>C111105514</td>\n",
              "      <td>3766080.24</td>\n",
              "      <td>3776336.45</td>\n",
              "      <td>C553264065</td>\n",
              "      <td>109985.65</td>\n",
              "      <td>99729.44</td>\n",
              "      <td>0</td>\n",
              "      <td>0</td>\n",
              "      <td>23078.625</td>\n",
              "      <td>23078.625</td>\n",
              "      <td>139366.105</td>\n",
              "      <td>225517.832045</td>\n",
              "    </tr>\n",
              "  </tbody>\n",
              "</table>\n",
              "</div>"
            ],
            "text/plain": [
              "   step      type     amount     nameOrig  oldbalanceOrg  newbalanceOrig  \\\n",
              "0     1   PAYMENT    9839.64  C1231006815      170136.00       160296.36   \n",
              "1     1   PAYMENT    1864.28  C1666544295       21249.00        19384.72   \n",
              "2     1  TRANSFER     181.00  C1305486145         181.00            0.00   \n",
              "3     6  TRANSFER  109985.65   C570434649       41851.00            0.00   \n",
              "4     7   CASH_IN   10256.20   C111105514     3766080.24      3776336.45   \n",
              "\n",
              "      nameDest  oldbalanceDest  newbalanceDest  isFraud  isFlaggedFraud  \\\n",
              "0  M1979787155            0.00            0.00        0               0   \n",
              "1  M2044282225            0.00            0.00        0               0   \n",
              "2   C553264065            0.00            0.00        1               0   \n",
              "3   C553264065            0.00       109985.65        0               0   \n",
              "4   C553264065       109985.65        99729.44        0               0   \n",
              "\n",
              "   median_amt_debit  mean_amt_debit  median_amt_recieved  mean_amt_recieved  \n",
              "0          9839.640        9839.640             9839.640        9839.640000  \n",
              "1          1864.280        1864.280             1864.280        1864.280000  \n",
              "2           181.000         181.000           139366.105      225517.832045  \n",
              "3        109985.650      109985.650           139366.105      225517.832045  \n",
              "4         23078.625       23078.625           139366.105      225517.832045  "
            ]
          },
          "metadata": {
            "tags": []
          },
          "execution_count": 29
        }
      ]
    },
    {
      "cell_type": "code",
      "metadata": {
        "id": "NEvNaZECA4S6",
        "colab_type": "code",
        "colab": {}
      },
      "source": [
        "data[\"Day\"]=((data['step']-1)/24).astype('int')+1\n",
        "data[\"Hour\"]=data['step']-((data['Day']-1)*24)"
      ],
      "execution_count": 0,
      "outputs": []
    },
    {
      "cell_type": "code",
      "metadata": {
        "id": "UB9Y5gbf5j-m",
        "colab_type": "code",
        "colab": {}
      },
      "source": [
        "data['error_Orig'] = data['newbalanceOrig'] + data['amount'] - data['oldbalanceOrg']\n",
        "data['error_Dest'] = data['oldbalanceDest'] + data['amount'] - data['newbalanceDest']"
      ],
      "execution_count": 0,
      "outputs": []
    },
    {
      "cell_type": "code",
      "metadata": {
        "id": "5u8K3-FahkJN",
        "colab_type": "code",
        "colab": {}
      },
      "source": [
        "data.drop(['nameOrig','nameDest'],1,inplace=True)"
      ],
      "execution_count": 0,
      "outputs": []
    },
    {
      "cell_type": "markdown",
      "metadata": {
        "id": "SJxC3go8JBgC",
        "colab_type": "text"
      },
      "source": [
        "## Feature Selection"
      ]
    },
    {
      "cell_type": "code",
      "metadata": {
        "id": "jq068QUL0c5d",
        "colab_type": "code",
        "outputId": "23731c22-5d3e-4404-e6af-ef9230a79cdb",
        "colab": {
          "base_uri": "https://localhost:8080/",
          "height": 599
        }
      },
      "source": [
        "plt.figure(figsize=(20,10))\n",
        "sns.heatmap(data.corr(),annot=True)"
      ],
      "execution_count": 33,
      "outputs": [
        {
          "output_type": "execute_result",
          "data": {
            "text/plain": [
              "<matplotlib.axes._subplots.AxesSubplot at 0x7f3533eec6d8>"
            ]
          },
          "metadata": {
            "tags": []
          },
          "execution_count": 33
        },
        {
          "output_type": "display_data",
          "data": {
            "image/png": "[encoded data removed]",
            "text/plain": [
              "<Figure size 1440x720 with 2 Axes>"
            ]
          },
          "metadata": {
            "tags": [],
            "needs_background": "light"
          }
        }
      ]
    },
    {
      "cell_type": "code",
      "metadata": {
        "id": "lunj280-5k3e",
        "colab_type": "code",
        "colab": {}
      },
      "source": [
        "categorical=data[[\"step\",\"type\",\"isFlaggedFraud\",\"Day\",\"Hour\",\"isFraud\"]]\n",
        "numerical=data[set(list(data))-set(list(categorical))]"
      ],
      "execution_count": 0,
      "outputs": []
    },
    {
      "cell_type": "markdown",
      "metadata": {
        "id": "ak1nVbC2JQpJ",
        "colab_type": "text"
      },
      "source": [
        "#### Feature Selection using Chi-Square Test for Categorical Features"
      ]
    },
    {
      "cell_type": "code",
      "metadata": {
        "id": "JPxiqWyDph3X",
        "colab_type": "code",
        "outputId": "b41ed088-f106-4859-bd20-e7514c0fffc9",
        "colab": {
          "base_uri": "https://localhost:8080/",
          "height": 127
        }
      },
      "source": [
        "def Chi_square(col_1,col_2):\n",
        "    X=data[col_1].astype('str')\n",
        "    Y=data[col_2].astype('str')\n",
        "    observed_values=pd.crosstab(Y,X)\n",
        "    chi2, p, dof, expected = ss.chi2_contingency(observed_values)\n",
        "    if(p>0.05):\n",
        "        print(col_1,\" is not required\")\n",
        "    else:\n",
        "        print(col_1,\" is required\")\n",
        "        \n",
        "for col in categorical:\n",
        "    Chi_square(col,\"isFraud\")"
      ],
      "execution_count": 35,
      "outputs": [
        {
          "output_type": "stream",
          "text": [
            "step  is required\n",
            "type  is required\n",
            "isFlaggedFraud  is required\n",
            "Day  is required\n",
            "Hour  is required\n",
            "isFraud  is required\n"
          ],
          "name": "stdout"
        }
      ]
    },
    {
      "cell_type": "markdown",
      "metadata": {
        "id": "zTH97BDQJaNA",
        "colab_type": "text"
      },
      "source": [
        "#### Feature Selection for Numerical Features using Backward Feature Elimination"
      ]
    },
    {
      "cell_type": "code",
      "metadata": {
        "id": "CTLIKD-a6ZEd",
        "colab_type": "code",
        "colab": {
          "base_uri": "https://localhost:8080/",
          "height": 55
        },
        "outputId": "017b0b8a-f55a-43e8-cdee-ca6390953e99"
      },
      "source": [
        "X=data[list(numerical)]\n",
        "y=data[\"isFraud\"]\n",
        "\n",
        "import statsmodels.api as sm\n",
        "cols = list(X.columns)\n",
        "pmax = 1\n",
        "while (pmax>0.05):\n",
        "    p=[]\n",
        "    X_1 = X[cols]\n",
        "    X_1 = sm.add_constant(X_1)\n",
        "    model = sm.OLS(y,X_1).fit()\n",
        "    p = pd.Series(model.pvalues.values[1:],index = cols)      \n",
        "    pmax = max(p)\n",
        "    feature_with_p_max = p.idxmax()\n",
        "    if(pmax>0.05):\n",
        "        cols.remove(feature_with_p_max)\n",
        "    else:\n",
        "        breakselected_features_BE = cols\n",
        "print(\"Best features using Backward Elimination: \",cols)"
      ],
      "execution_count": 36,
      "outputs": [
        {
          "output_type": "stream",
          "text": [
            "Best features using Backward Elimination:  ['amount', 'newbalanceDest', 'error_Dest', 'error_Orig', 'oldbalanceDest', 'newbalanceOrig', 'oldbalanceOrg', 'mean_amt_recieved', 'median_amt_recieved']\n"
          ],
          "name": "stdout"
        }
      ]
    },
    {
      "cell_type": "markdown",
      "metadata": {
        "id": "JhN_5wZRJMm5",
        "colab_type": "text"
      },
      "source": [
        "## Model Building"
      ]
    },
    {
      "cell_type": "code",
      "metadata": {
        "id": "RmZU8FU4LpOi",
        "colab_type": "code",
        "colab": {}
      },
      "source": [
        "data[\"type\"]=le.fit_transform(data[\"type\"])\n",
        "X=data.drop(['isFraud','mean_amt_recieved','mean_amt_debit','isFlaggedFraud'],1)\n",
        "y=data['isFraud']"
      ],
      "execution_count": 0,
      "outputs": []
    },
    {
      "cell_type": "code",
      "metadata": {
        "id": "UeljoGrNrzFU",
        "colab_type": "code",
        "colab": {}
      },
      "source": [
        "X_train,X_test,y_train,y_test=tts(X,y,test_size=0.25,random_state=0)"
      ],
      "execution_count": 0,
      "outputs": []
    },
    {
      "cell_type": "code",
      "metadata": {
        "id": "IDupdtf1x6dT",
        "colab_type": "code",
        "outputId": "508c904a-9b41-4161-a538-a6d300ab2904",
        "colab": {
          "base_uri": "https://localhost:8080/",
          "height": 72
        }
      },
      "source": [
        "y_train.value_counts()"
      ],
      "execution_count": 39,
      "outputs": [
        {
          "output_type": "execute_result",
          "data": {
            "text/plain": [
              "0    4765767\n",
              "1       6198\n",
              "Name: isFraud, dtype: int64"
            ]
          },
          "metadata": {
            "tags": []
          },
          "execution_count": 39
        }
      ]
    },
    {
      "cell_type": "code",
      "metadata": {
        "id": "5wRJFfbEsEwD",
        "colab_type": "code",
        "colab": {}
      },
      "source": [
        "rs=RandomUnderSampler(random_state=42)"
      ],
      "execution_count": 0,
      "outputs": []
    },
    {
      "cell_type": "code",
      "metadata": {
        "id": "lCgKKLbasryZ",
        "colab_type": "code",
        "outputId": "3293d2ee-53a6-47cc-df1b-c0e70a4b7b12",
        "colab": {
          "base_uri": "https://localhost:8080/",
          "height": 74
        }
      },
      "source": [
        "X_train_rus,y_train_rus=rs.fit_sample(X_train,y_train)"
      ],
      "execution_count": 41,
      "outputs": [
        {
          "output_type": "stream",
          "text": [
            "/usr/local/lib/python3.6/dist-packages/sklearn/utils/deprecation.py:87: FutureWarning: Function safe_indexing is deprecated; safe_indexing is deprecated in version 0.22 and will be removed in version 0.24.\n",
            "  warnings.warn(msg, category=FutureWarning)\n"
          ],
          "name": "stderr"
        }
      ]
    },
    {
      "cell_type": "markdown",
      "metadata": {
        "id": "VTceLmUA9jcW",
        "colab_type": "text"
      },
      "source": [
        "### Decision Tree Classifier "
      ]
    },
    {
      "cell_type": "code",
      "metadata": {
        "id": "CJEZGS9rs4oZ",
        "colab_type": "code",
        "colab": {}
      },
      "source": [
        "dtc=DecisionTreeClassifier(random_state=0)"
      ],
      "execution_count": 0,
      "outputs": []
    },
    {
      "cell_type": "code",
      "metadata": {
        "id": "UR1hneaDtJHj",
        "colab_type": "code",
        "colab": {}
      },
      "source": [
        "dtc.fit(X_train_rus,y_train_rus)\n",
        "y_pred_dtc=dtc.predict(X_test)"
      ],
      "execution_count": 0,
      "outputs": []
    },
    {
      "cell_type": "code",
      "metadata": {
        "id": "z5_Sj5xptfpo",
        "colab_type": "code",
        "outputId": "3668e56d-90da-4478-ae33-38ba7913c954",
        "colab": {
          "base_uri": "https://localhost:8080/",
          "height": 72
        }
      },
      "source": [
        "print(\"F1 Score for Decision Tree Model (with added features): \",f1_score(y_test,y_pred_dtc,average='weighted'))\n",
        "print(\"Precision Score for Decision Tree Model (with added features): \",precision_score(y_test,y_pred_dtc))\n",
        "print(\"Recall Score for Decision Tree Model (with added features): \",recall_score(y_test,y_pred_dtc))"
      ],
      "execution_count": 44,
      "outputs": [
        {
          "output_type": "stream",
          "text": [
            "F1 Score for Decision Tree Model (with added features):  0.9968409690181183\n",
            "Precision Score for Decision Tree Model (with added features):  0.21318611317549635\n",
            "Recall Score for Decision Tree Model (with added features):  0.9965260545905708\n"
          ],
          "name": "stdout"
        }
      ]
    },
    {
      "cell_type": "code",
      "metadata": {
        "id": "o4hi5D5Dtq5a",
        "colab_type": "code",
        "outputId": "55aa063a-29a5-48b7-8198-bfb8a1f1d982",
        "colab": {
          "base_uri": "https://localhost:8080/",
          "height": 182
        }
      },
      "source": [
        "print(classification_report(y_test,y_pred_dtc))"
      ],
      "execution_count": 45,
      "outputs": [
        {
          "output_type": "stream",
          "text": [
            "              precision    recall  f1-score   support\n",
            "\n",
            "           0       1.00      1.00      1.00   1588640\n",
            "           1       0.21      1.00      0.35      2015\n",
            "\n",
            "    accuracy                           1.00   1590655\n",
            "   macro avg       0.61      1.00      0.67   1590655\n",
            "weighted avg       1.00      1.00      1.00   1590655\n",
            "\n"
          ],
          "name": "stdout"
        }
      ]
    },
    {
      "cell_type": "code",
      "metadata": {
        "id": "YXNu-8CcvRXh",
        "colab_type": "code",
        "outputId": "56f2ef57-0541-46c0-fa7e-5c19e01ca389",
        "colab": {
          "base_uri": "https://localhost:8080/",
          "height": 313
        }
      },
      "source": [
        "plt.barh(list(X),list(dtc.feature_importances_))\n",
        "plt.title(\"Decision Tree Feature Imporatance\")\n",
        "plt.ylabel(\"Feature Names\")\n",
        "plt.xlabel(\"Feature Importance\")"
      ],
      "execution_count": 46,
      "outputs": [
        {
          "output_type": "execute_result",
          "data": {
            "text/plain": [
              "Text(0.5, 0, 'Feature Importance')"
            ]
          },
          "metadata": {
            "tags": []
          },
          "execution_count": 46
        },
        {
          "output_type": "display_data",
          "data": {
            "image/png": "[encoded data removed]",
            "text/plain": [
              "<Figure size 432x288 with 1 Axes>"
            ]
          },
          "metadata": {
            "tags": [],
            "needs_background": "light"
          }
        }
      ]
    },
    {
      "cell_type": "markdown",
      "metadata": {
        "id": "3kJz8ZA6GkKx",
        "colab_type": "text"
      },
      "source": [
        "### Decision Tree Classifier Best Model using GridSearchCV"
      ]
    },
    {
      "cell_type": "code",
      "metadata": {
        "id": "WYAQU_dpvqgj",
        "colab_type": "code",
        "colab": {}
      },
      "source": [
        "param_dtc={\"criterion\":['entropy','gini'],\n",
        "           \"max_depth\":np.arange(2,11),\n",
        "           \"min_samples_split\":np.arange(2,6),\n",
        "           'max_features':['auto','sqrt','log2']}"
      ],
      "execution_count": 0,
      "outputs": []
    },
    {
      "cell_type": "code",
      "metadata": {
        "id": "-AwPr51pvqlC",
        "colab_type": "code",
        "colab": {}
      },
      "source": [
        "dtc_cv=GridSearchCV(estimator=dtc,param_grid=param_dtc,cv=5,scoring=\"f1_weighted\")"
      ],
      "execution_count": 0,
      "outputs": []
    },
    {
      "cell_type": "code",
      "metadata": {
        "id": "_84bVsQFvq1G",
        "colab_type": "code",
        "colab": {
          "base_uri": "https://localhost:8080/",
          "height": 366
        },
        "outputId": "3f875824-0496-432a-82f8-96f96acc700d"
      },
      "source": [
        "dtc_cv.fit(X_train_rus,y_train_rus)"
      ],
      "execution_count": 49,
      "outputs": [
        {
          "output_type": "execute_result",
          "data": {
            "text/plain": [
              "GridSearchCV(cv=5, error_score=nan,\n",
              "             estimator=DecisionTreeClassifier(ccp_alpha=0.0, class_weight=None,\n",
              "                                              criterion='gini', max_depth=None,\n",
              "                                              max_features=None,\n",
              "                                              max_leaf_nodes=None,\n",
              "                                              min_impurity_decrease=0.0,\n",
              "                                              min_impurity_split=None,\n",
              "                                              min_samples_leaf=1,\n",
              "                                              min_samples_split=2,\n",
              "                                              min_weight_fraction_leaf=0.0,\n",
              "                                              presort='deprecated',\n",
              "                                              random_state=0, splitter='best'),\n",
              "             iid='deprecated', n_jobs=None,\n",
              "             param_grid={'criterion': ['entropy', 'gini'],\n",
              "                         'max_depth': array([ 2,  3,  4,  5,  6,  7,  8,  9, 10]),\n",
              "                         'max_features': ['auto', 'sqrt', 'log2'],\n",
              "                         'min_samples_split': array([2, 3, 4, 5])},\n",
              "             pre_dispatch='2*n_jobs', refit=True, return_train_score=False,\n",
              "             scoring='f1_weighted', verbose=0)"
            ]
          },
          "metadata": {
            "tags": []
          },
          "execution_count": 49
        }
      ]
    },
    {
      "cell_type": "code",
      "metadata": {
        "id": "jJdT1kmywBuG",
        "colab_type": "code",
        "colab": {
          "base_uri": "https://localhost:8080/",
          "height": 127
        },
        "outputId": "ed85c3c3-3989-4bfa-8e1a-15d53e3f5ebc"
      },
      "source": [
        "dtc_cv.best_estimator_"
      ],
      "execution_count": 50,
      "outputs": [
        {
          "output_type": "execute_result",
          "data": {
            "text/plain": [
              "DecisionTreeClassifier(ccp_alpha=0.0, class_weight=None, criterion='gini',\n",
              "                       max_depth=7, max_features='auto', max_leaf_nodes=None,\n",
              "                       min_impurity_decrease=0.0, min_impurity_split=None,\n",
              "                       min_samples_leaf=1, min_samples_split=4,\n",
              "                       min_weight_fraction_leaf=0.0, presort='deprecated',\n",
              "                       random_state=0, splitter='best')"
            ]
          },
          "metadata": {
            "tags": []
          },
          "execution_count": 50
        }
      ]
    },
    {
      "cell_type": "code",
      "metadata": {
        "id": "hqXTW-BiMCgg",
        "colab_type": "code",
        "colab": {}
      },
      "source": [
        "y_pred_dtcv=dtc_cv.best_estimator_.predict(X_test)"
      ],
      "execution_count": 0,
      "outputs": []
    },
    {
      "cell_type": "code",
      "metadata": {
        "id": "2sC1ZIO1vq8Z",
        "colab_type": "code",
        "colab": {
          "base_uri": "https://localhost:8080/",
          "height": 72
        },
        "outputId": "6d067b8e-01ab-41f0-ddbd-59860ba38963"
      },
      "source": [
        "print(\"F1 Score for Decision Tree Best Estimator (with added features): \",f1_score(y_test,y_pred_dtcv,average='weighted'))\n",
        "print(\"Precision Score for Decision Tree Best Estimator (with added features): \",precision_score(y_test,y_pred_dtcv))\n",
        "print(\"Recall Score for Decision Tree Estimator (with added features): \",recall_score(y_test,y_pred_dtcv))"
      ],
      "execution_count": 53,
      "outputs": [
        {
          "output_type": "stream",
          "text": [
            "F1 Score for Decision Tree Best Estimator (with added features):  0.9978416223407832\n",
            "Precision Score for Decision Tree Best Estimator (with added features):  0.300074794315632\n",
            "Recall Score for Decision Tree Estimator (with added features):  0.9955334987593052\n"
          ],
          "name": "stdout"
        }
      ]
    },
    {
      "cell_type": "code",
      "metadata": {
        "id": "41cueJysHzSY",
        "colab_type": "code",
        "colab": {
          "base_uri": "https://localhost:8080/",
          "height": 182
        },
        "outputId": "d131e649-d8d3-48f7-9c0c-fb157747e2e0"
      },
      "source": [
        "print(classification_report(y_test,y_pred_dtcv))"
      ],
      "execution_count": 54,
      "outputs": [
        {
          "output_type": "stream",
          "text": [
            "              precision    recall  f1-score   support\n",
            "\n",
            "           0       1.00      1.00      1.00   1588640\n",
            "           1       0.30      1.00      0.46      2015\n",
            "\n",
            "    accuracy                           1.00   1590655\n",
            "   macro avg       0.65      1.00      0.73   1590655\n",
            "weighted avg       1.00      1.00      1.00   1590655\n",
            "\n"
          ],
          "name": "stdout"
        }
      ]
    },
    {
      "cell_type": "code",
      "metadata": {
        "id": "CeB9x8-cyTZK",
        "colab_type": "code",
        "colab": {
          "base_uri": "https://localhost:8080/",
          "height": 313
        },
        "outputId": "b708af75-b128-4831-e40c-e61465ce110d"
      },
      "source": [
        "plt.barh(list(X),list(dtc_cv.best_estimator_.feature_importances_))\n",
        "plt.title(\"Decision Tree Best Estimator Feature Imporatance\")\n",
        "plt.ylabel(\"Feature Names\")\n",
        "plt.xlabel(\"Feature Importance\")"
      ],
      "execution_count": 55,
      "outputs": [
        {
          "output_type": "execute_result",
          "data": {
            "text/plain": [
              "Text(0.5, 0, 'Feature Importance')"
            ]
          },
          "metadata": {
            "tags": []
          },
          "execution_count": 55
        },
        {
          "output_type": "display_data",
          "data": {
            "image/png": "[encoded data removed]",
            "text/plain": [
              "<Figure size 432x288 with 1 Axes>"
            ]
          },
          "metadata": {
            "tags": [],
            "needs_background": "light"
          }
        }
      ]
    },
    {
      "cell_type": "markdown",
      "metadata": {
        "id": "8NL6uCNr-dXP",
        "colab_type": "text"
      },
      "source": [
        "### Random Forest Classifier"
      ]
    },
    {
      "cell_type": "code",
      "metadata": {
        "id": "ml9mURFWt2WT",
        "colab_type": "code",
        "colab": {}
      },
      "source": [
        "rfc=RandomForestClassifier(random_state=0)"
      ],
      "execution_count": 0,
      "outputs": []
    },
    {
      "cell_type": "code",
      "metadata": {
        "id": "uZ0dXEUjuCRa",
        "colab_type": "code",
        "colab": {}
      },
      "source": [
        "rfc.fit(X_train_rus,y_train_rus)\n",
        "y_pred_rfc=rfc.predict(X_test)"
      ],
      "execution_count": 0,
      "outputs": []
    },
    {
      "cell_type": "code",
      "metadata": {
        "id": "p3tXX92D09EN",
        "colab_type": "code",
        "outputId": "92d456f8-6913-4d4d-dc67-b09831f5104b",
        "colab": {
          "base_uri": "https://localhost:8080/",
          "height": 72
        }
      },
      "source": [
        "print(\"F1 Score for Random Forest Estimator (with added features): \",f1_score(y_test,y_pred_rfc,average='weighted'))\n",
        "print(\"F1 Score for Random Forest Estimator (with added features): \",precision_score(y_test,y_pred_rfc))\n",
        "print(\"F1 Score for Random Forest Estimator (with added features): \",recall_score(y_test,y_pred_rfc))"
      ],
      "execution_count": 58,
      "outputs": [
        {
          "output_type": "stream",
          "text": [
            "F1 Score for Random Forest Estimator (with added features):  0.9999108628517847\n",
            "F1 Score for Random Forest Estimator (with added features):  0.9365375641623892\n",
            "F1 Score for Random Forest Estimator (with added features):  0.996029776674938\n"
          ],
          "name": "stdout"
        }
      ]
    },
    {
      "cell_type": "code",
      "metadata": {
        "id": "cZ8it4XBueh9",
        "colab_type": "code",
        "outputId": "abf4eef8-0d85-41e7-a56b-e9c1d6278c00",
        "colab": {
          "base_uri": "https://localhost:8080/",
          "height": 313
        }
      },
      "source": [
        "plt.barh(list(X),list(rfc.feature_importances_))\n",
        "plt.title(\"Random Forest Feature Imporatance\")\n",
        "plt.ylabel(\"Feature Names\")\n",
        "plt.xlabel(\"Feature Importance\")"
      ],
      "execution_count": 59,
      "outputs": [
        {
          "output_type": "execute_result",
          "data": {
            "text/plain": [
              "Text(0.5, 0, 'Feature Importance')"
            ]
          },
          "metadata": {
            "tags": []
          },
          "execution_count": 59
        },
        {
          "output_type": "display_data",
          "data": {
            "image/png": "[encoded data removed]",
            "text/plain": [
              "<Figure size 432x288 with 1 Axes>"
            ]
          },
          "metadata": {
            "tags": [],
            "needs_background": "light"
          }
        }
      ]
    },
    {
      "cell_type": "code",
      "metadata": {
        "id": "oBJAOpm-1QLq",
        "colab_type": "code",
        "outputId": "9b79cca5-fa82-4447-ed39-5609cb4f195f",
        "colab": {
          "base_uri": "https://localhost:8080/",
          "height": 182
        }
      },
      "source": [
        "print(classification_report(y_test,y_pred_rfc))"
      ],
      "execution_count": 60,
      "outputs": [
        {
          "output_type": "stream",
          "text": [
            "              precision    recall  f1-score   support\n",
            "\n",
            "           0       1.00      1.00      1.00   1588640\n",
            "           1       0.94      1.00      0.97      2015\n",
            "\n",
            "    accuracy                           1.00   1590655\n",
            "   macro avg       0.97      1.00      0.98   1590655\n",
            "weighted avg       1.00      1.00      1.00   1590655\n",
            "\n"
          ],
          "name": "stdout"
        }
      ]
    },
    {
      "cell_type": "markdown",
      "metadata": {
        "id": "Km_zfUc8MQnS",
        "colab_type": "text"
      },
      "source": [
        "### Random Forest Best Model using GridSearchCV"
      ]
    },
    {
      "cell_type": "code",
      "metadata": {
        "id": "qsvq79CFurQw",
        "colab_type": "code",
        "colab": {}
      },
      "source": [
        "param_rfc={\"criterion\":['entropy','gini'],\n",
        "           \"max_depth\":np.arange(2,11),\n",
        "           \"min_samples_split\":np.arange(2,6),\n",
        "           'max_features':['auto','sqrt','log2']}"
      ],
      "execution_count": 0,
      "outputs": []
    },
    {
      "cell_type": "code",
      "metadata": {
        "id": "zZD_x3XrGppM",
        "colab_type": "code",
        "colab": {}
      },
      "source": [
        "rfc_cv=GridSearchCV(estimator=rfc,param_grid=param_rfc,cv=5)"
      ],
      "execution_count": 0,
      "outputs": []
    },
    {
      "cell_type": "code",
      "metadata": {
        "id": "UM2-cOmYGpvL",
        "colab_type": "code",
        "outputId": "1f3105d7-6980-4624-a1dd-7275ffde3bd8",
        "colab": {
          "base_uri": "https://localhost:8080/",
          "height": 421
        }
      },
      "source": [
        "rfc_cv.fit(X_train_rus,y_train_rus)"
      ],
      "execution_count": 63,
      "outputs": [
        {
          "output_type": "execute_result",
          "data": {
            "text/plain": [
              "GridSearchCV(cv=5, error_score=nan,\n",
              "             estimator=RandomForestClassifier(bootstrap=True, ccp_alpha=0.0,\n",
              "                                              class_weight=None,\n",
              "                                              criterion='gini', max_depth=None,\n",
              "                                              max_features='auto',\n",
              "                                              max_leaf_nodes=None,\n",
              "                                              max_samples=None,\n",
              "                                              min_impurity_decrease=0.0,\n",
              "                                              min_impurity_split=None,\n",
              "                                              min_samples_leaf=1,\n",
              "                                              min_samples_split=2,\n",
              "                                              min_weight_fraction_leaf=0.0,\n",
              "                                              n_estimators=100, n_jobs=None,\n",
              "                                              oob_score=False, random_state=0,\n",
              "                                              verbose=0, warm_start=False),\n",
              "             iid='deprecated', n_jobs=None,\n",
              "             param_grid={'criterion': ['entropy', 'gini'],\n",
              "                         'max_depth': array([ 2,  3,  4,  5,  6,  7,  8,  9, 10]),\n",
              "                         'max_features': ['auto', 'sqrt', 'log2'],\n",
              "                         'min_samples_split': array([2, 3, 4, 5])},\n",
              "             pre_dispatch='2*n_jobs', refit=True, return_train_score=False,\n",
              "             scoring=None, verbose=0)"
            ]
          },
          "metadata": {
            "tags": []
          },
          "execution_count": 63
        }
      ]
    },
    {
      "cell_type": "code",
      "metadata": {
        "id": "BZcYE2ZFGptI",
        "colab_type": "code",
        "outputId": "540f3965-37e0-4b63-e85b-7284f3e30f51",
        "colab": {
          "base_uri": "https://localhost:8080/",
          "height": 164
        }
      },
      "source": [
        "rfc_cv.best_estimator_"
      ],
      "execution_count": 64,
      "outputs": [
        {
          "output_type": "execute_result",
          "data": {
            "text/plain": [
              "RandomForestClassifier(bootstrap=True, ccp_alpha=0.0, class_weight=None,\n",
              "                       criterion='entropy', max_depth=4, max_features='auto',\n",
              "                       max_leaf_nodes=None, max_samples=None,\n",
              "                       min_impurity_decrease=0.0, min_impurity_split=None,\n",
              "                       min_samples_leaf=1, min_samples_split=3,\n",
              "                       min_weight_fraction_leaf=0.0, n_estimators=100,\n",
              "                       n_jobs=None, oob_score=False, random_state=0, verbose=0,\n",
              "                       warm_start=False)"
            ]
          },
          "metadata": {
            "tags": []
          },
          "execution_count": 64
        }
      ]
    },
    {
      "cell_type": "code",
      "metadata": {
        "id": "FWYEnnDXGpmm",
        "colab_type": "code",
        "colab": {}
      },
      "source": [
        "y_pred_rfcv=rfc_cv.best_estimator_.predict(X_test)"
      ],
      "execution_count": 0,
      "outputs": []
    },
    {
      "cell_type": "code",
      "metadata": {
        "id": "0Jv3Ath9KLCj",
        "colab_type": "code",
        "outputId": "c076fe9b-e2cc-4168-8e8c-673e6930efbf",
        "colab": {
          "base_uri": "https://localhost:8080/",
          "height": 72
        }
      },
      "source": [
        "print(\"F1 Score for Random Forest Best Estimator (with added features): \",f1_score(y_test,y_pred_rfcv,average='weighted'))\n",
        "print(\"Precision Score for Random Forest Best Estimator (with added features): \",precision_score(y_test,y_pred_rfcv))\n",
        "print(\"Recall Score for Random Forest Best Estimator (with added features): \",recall_score(y_test,y_pred_rfcv))"
      ],
      "execution_count": 66,
      "outputs": [
        {
          "output_type": "stream",
          "text": [
            "F1 Score for Random Forest Best Estimator (with added features):  0.999950716658243\n",
            "Precision Score for Random Forest Best Estimator (with added features):  0.965832531280077\n",
            "Recall Score for Random Forest Best Estimator (with added features):  0.996029776674938\n"
          ],
          "name": "stdout"
        }
      ]
    },
    {
      "cell_type": "code",
      "metadata": {
        "id": "omo4gmhTLEro",
        "colab_type": "code",
        "outputId": "f57276fa-b822-4434-80ff-bd0b064de2fa",
        "colab": {
          "base_uri": "https://localhost:8080/",
          "height": 313
        }
      },
      "source": [
        "plt.barh(list(X),list(rfc_cv.best_estimator_.feature_importances_))\n",
        "plt.title(\"Random Forest Best Estimator Feature Importance\")\n",
        "plt.ylabel(\"Feature Names\")\n",
        "plt.xlabel(\"Feature Importance\")"
      ],
      "execution_count": 67,
      "outputs": [
        {
          "output_type": "execute_result",
          "data": {
            "text/plain": [
              "Text(0.5, 0, 'Feature Importance')"
            ]
          },
          "metadata": {
            "tags": []
          },
          "execution_count": 67
        },
        {
          "output_type": "display_data",
          "data": {
            "image/png": "[encoded data removed]",
            "text/plain": [
              "<Figure size 432x288 with 1 Axes>"
            ]
          },
          "metadata": {
            "tags": [],
            "needs_background": "light"
          }
        }
      ]
    },
    {
      "cell_type": "code",
      "metadata": {
        "id": "7FNkxvkIKLRC",
        "colab_type": "code",
        "outputId": "4e13b738-08be-4844-ef3c-0232c3dfaa5e",
        "colab": {
          "base_uri": "https://localhost:8080/",
          "height": 182
        }
      },
      "source": [
        "print(classification_report(y_test,y_pred_rfcv))"
      ],
      "execution_count": 68,
      "outputs": [
        {
          "output_type": "stream",
          "text": [
            "              precision    recall  f1-score   support\n",
            "\n",
            "           0       1.00      1.00      1.00   1588640\n",
            "           1       0.97      1.00      0.98      2015\n",
            "\n",
            "    accuracy                           1.00   1590655\n",
            "   macro avg       0.98      1.00      0.99   1590655\n",
            "weighted avg       1.00      1.00      1.00   1590655\n",
            "\n"
          ],
          "name": "stdout"
        }
      ]
    }
  ]
}