{
 "cells": [
  {
   "cell_type": "code",
   "execution_count": 18,
   "metadata": {
    "colab": {
     "base_uri": "https://localhost:8080/",
     "height": 74
    },
    "colab_type": "code",
    "id": "J1JKfTiIo_sw",
    "outputId": "00432fee-4c16-4564-99d8-d461f0bb7922"
   },
   "outputs": [],
   "source": [
    "#importing required packages\n",
    "import warnings\n",
    "warnings.simplefilter('ignore')\n",
    "import pandas as pd\n",
    "import numpy as np \n",
    "import matplotlib.pyplot as plt\n",
    "import seaborn as sns\n",
    "import scipy.stats as ss\n",
    "from sklearn.metrics import roc_curve\n",
    "from sklearn.preprocessing import StandardScaler,MinMaxScaler,LabelEncoder\n",
    "from sklearn.model_selection import train_test_split as tts, GridSearchCV\n",
    "from imblearn.over_sampling import SMOTE\n",
    "from sklearn.linear_model import LogisticRegression\n",
    "from sklearn.tree import DecisionTreeClassifier\n",
    "from sklearn.ensemble import RandomForestClassifier\n",
    "from sklearn.naive_bayes import GaussianNB\n",
    "from xgboost import XGBClassifier\n",
    "from sklearn.metrics import accuracy_score,f1_score,classification_report,roc_auc_score"
   ]
  },
  {
   "cell_type": "code",
   "execution_count": 19,
   "metadata": {
    "colab": {
     "base_uri": "https://localhost:8080/",
     "height": 296
    },
    "colab_type": "code",
    "id": "g3HP8TRJpMY-",
    "outputId": "da898864-84a8-4f88-b64f-ab2fecad0c87"
   },
   "outputs": [
    {
     "data": {
      "text/html": [
       "<div>\n",
       "<style scoped>\n",
       "    .dataframe tbody tr th:only-of-type {\n",
       "        vertical-align: middle;\n",
       "    }\n",
       "\n",
       "    .dataframe tbody tr th {\n",
       "        vertical-align: top;\n",
       "    }\n",
       "\n",
       "    .dataframe thead th {\n",
       "        text-align: right;\n",
       "    }\n",
       "</style>\n",
       "<table border=\"1\" class=\"dataframe\">\n",
       "  <thead>\n",
       "    <tr style=\"text-align: right;\">\n",
       "      <th></th>\n",
       "      <th>employee_id</th>\n",
       "      <th>department</th>\n",
       "      <th>region</th>\n",
       "      <th>education</th>\n",
       "      <th>gender</th>\n",
       "      <th>recruitment_channel</th>\n",
       "      <th>no_of_trainings</th>\n",
       "      <th>age</th>\n",
       "      <th>previous_year_rating</th>\n",
       "      <th>length_of_service</th>\n",
       "      <th>KPIs_met &gt;80%</th>\n",
       "      <th>awards_won?</th>\n",
       "      <th>avg_training_score</th>\n",
       "      <th>is_promoted</th>\n",
       "    </tr>\n",
       "  </thead>\n",
       "  <tbody>\n",
       "    <tr>\n",
       "      <th>0</th>\n",
       "      <td>65438</td>\n",
       "      <td>Sales &amp; Marketing</td>\n",
       "      <td>region_7</td>\n",
       "      <td>Master's &amp; above</td>\n",
       "      <td>f</td>\n",
       "      <td>sourcing</td>\n",
       "      <td>1</td>\n",
       "      <td>35</td>\n",
       "      <td>5.0</td>\n",
       "      <td>8</td>\n",
       "      <td>1</td>\n",
       "      <td>0</td>\n",
       "      <td>49</td>\n",
       "      <td>0</td>\n",
       "    </tr>\n",
       "    <tr>\n",
       "      <th>1</th>\n",
       "      <td>65141</td>\n",
       "      <td>Operations</td>\n",
       "      <td>region_22</td>\n",
       "      <td>Bachelor's</td>\n",
       "      <td>m</td>\n",
       "      <td>other</td>\n",
       "      <td>1</td>\n",
       "      <td>30</td>\n",
       "      <td>5.0</td>\n",
       "      <td>4</td>\n",
       "      <td>0</td>\n",
       "      <td>0</td>\n",
       "      <td>60</td>\n",
       "      <td>0</td>\n",
       "    </tr>\n",
       "    <tr>\n",
       "      <th>2</th>\n",
       "      <td>7513</td>\n",
       "      <td>Sales &amp; Marketing</td>\n",
       "      <td>region_19</td>\n",
       "      <td>Bachelor's</td>\n",
       "      <td>m</td>\n",
       "      <td>sourcing</td>\n",
       "      <td>1</td>\n",
       "      <td>34</td>\n",
       "      <td>3.0</td>\n",
       "      <td>7</td>\n",
       "      <td>0</td>\n",
       "      <td>0</td>\n",
       "      <td>50</td>\n",
       "      <td>0</td>\n",
       "    </tr>\n",
       "    <tr>\n",
       "      <th>3</th>\n",
       "      <td>2542</td>\n",
       "      <td>Sales &amp; Marketing</td>\n",
       "      <td>region_23</td>\n",
       "      <td>Bachelor's</td>\n",
       "      <td>m</td>\n",
       "      <td>other</td>\n",
       "      <td>2</td>\n",
       "      <td>39</td>\n",
       "      <td>1.0</td>\n",
       "      <td>10</td>\n",
       "      <td>0</td>\n",
       "      <td>0</td>\n",
       "      <td>50</td>\n",
       "      <td>0</td>\n",
       "    </tr>\n",
       "    <tr>\n",
       "      <th>4</th>\n",
       "      <td>48945</td>\n",
       "      <td>Technology</td>\n",
       "      <td>region_26</td>\n",
       "      <td>Bachelor's</td>\n",
       "      <td>m</td>\n",
       "      <td>other</td>\n",
       "      <td>1</td>\n",
       "      <td>45</td>\n",
       "      <td>3.0</td>\n",
       "      <td>2</td>\n",
       "      <td>0</td>\n",
       "      <td>0</td>\n",
       "      <td>73</td>\n",
       "      <td>0</td>\n",
       "    </tr>\n",
       "  </tbody>\n",
       "</table>\n",
       "</div>"
      ],
      "text/plain": [
       "   employee_id         department     region         education gender  \\\n",
       "0        65438  Sales & Marketing   region_7  Master's & above      f   \n",
       "1        65141         Operations  region_22        Bachelor's      m   \n",
       "2         7513  Sales & Marketing  region_19        Bachelor's      m   \n",
       "3         2542  Sales & Marketing  region_23        Bachelor's      m   \n",
       "4        48945         Technology  region_26        Bachelor's      m   \n",
       "\n",
       "  recruitment_channel  no_of_trainings  age  previous_year_rating  \\\n",
       "0            sourcing                1   35                   5.0   \n",
       "1               other                1   30                   5.0   \n",
       "2            sourcing                1   34                   3.0   \n",
       "3               other                2   39                   1.0   \n",
       "4               other                1   45                   3.0   \n",
       "\n",
       "   length_of_service  KPIs_met >80%  awards_won?  avg_training_score  \\\n",
       "0                  8              1            0                  49   \n",
       "1                  4              0            0                  60   \n",
       "2                  7              0            0                  50   \n",
       "3                 10              0            0                  50   \n",
       "4                  2              0            0                  73   \n",
       "\n",
       "   is_promoted  \n",
       "0            0  \n",
       "1            0  \n",
       "2            0  \n",
       "3            0  \n",
       "4            0  "
      ]
     },
     "execution_count": 19,
     "metadata": {},
     "output_type": "execute_result"
    }
   ],
   "source": [
    "#Loading train set\n",
    "train=pd.read_csv(\"../input/train_LZdllcl.csv\")\n",
    "train.head()"
   ]
  },
  {
   "cell_type": "code",
   "execution_count": 20,
   "metadata": {
    "colab": {
     "base_uri": "https://localhost:8080/",
     "height": 35
    },
    "colab_type": "code",
    "id": "2f8w1-itpT3J",
    "outputId": "31831bd7-a35e-4a6d-dc43-632a0476b1f3"
   },
   "outputs": [
    {
     "data": {
      "text/plain": [
       "(54808, 14)"
      ]
     },
     "execution_count": 20,
     "metadata": {},
     "output_type": "execute_result"
    }
   ],
   "source": [
    "#Checking size of datset \n",
    "train.shape"
   ]
  },
  {
   "cell_type": "code",
   "execution_count": 21,
   "metadata": {
    "colab": {
     "base_uri": "https://localhost:8080/",
     "height": 293
    },
    "colab_type": "code",
    "id": "84UzJKcHpXSG",
    "outputId": "e993aa81-25b9-41dc-c8a7-5b2e6d9dd21a"
   },
   "outputs": [
    {
     "data": {
      "text/plain": [
       "employee_id               int64\n",
       "department               object\n",
       "region                   object\n",
       "education                object\n",
       "gender                   object\n",
       "recruitment_channel      object\n",
       "no_of_trainings           int64\n",
       "age                       int64\n",
       "previous_year_rating    float64\n",
       "length_of_service         int64\n",
       "KPIs_met >80%             int64\n",
       "awards_won?               int64\n",
       "avg_training_score        int64\n",
       "is_promoted               int64\n",
       "dtype: object"
      ]
     },
     "execution_count": 21,
     "metadata": {},
     "output_type": "execute_result"
    }
   ],
   "source": [
    "#Checking for different datypes of different features\n",
    "train.dtypes"
   ]
  },
  {
   "cell_type": "code",
   "execution_count": 22,
   "metadata": {
    "colab": {
     "base_uri": "https://localhost:8080/",
     "height": 293
    },
    "colab_type": "code",
    "id": "uB9Ny9wRpY7j",
    "outputId": "4f9f3ede-ef28-4b48-fa44-872b787d168b"
   },
   "outputs": [
    {
     "data": {
      "text/plain": [
       "employee_id             0.000000\n",
       "department              0.000000\n",
       "region                  0.000000\n",
       "education               4.395344\n",
       "gender                  0.000000\n",
       "recruitment_channel     0.000000\n",
       "no_of_trainings         0.000000\n",
       "age                     0.000000\n",
       "previous_year_rating    7.524449\n",
       "length_of_service       0.000000\n",
       "KPIs_met >80%           0.000000\n",
       "awards_won?             0.000000\n",
       "avg_training_score      0.000000\n",
       "is_promoted             0.000000\n",
       "dtype: float64"
      ]
     },
     "execution_count": 22,
     "metadata": {},
     "output_type": "execute_result"
    }
   ],
   "source": [
    "#Checking for missing values\n",
    "(train.isnull().sum()/train.shape[0])*100"
   ]
  },
  {
   "cell_type": "code",
   "execution_count": 23,
   "metadata": {
    "colab": {},
    "colab_type": "code",
    "id": "T9FqXlXTpmx_"
   },
   "outputs": [],
   "source": [
    "#Imputing missing values with mode of respective columns\n",
    "train[\"education\"].fillna(train[\"education\"].mode()[0],inplace=True)\n",
    "train[\"previous_year_rating\"].fillna(train[\"previous_year_rating\"].mode()[0],inplace=True)"
   ]
  },
  {
   "cell_type": "code",
   "execution_count": 24,
   "metadata": {
    "colab": {
     "base_uri": "https://localhost:8080/",
     "height": 293
    },
    "colab_type": "code",
    "id": "2a8wgjP-p5hs",
    "outputId": "4fd6c9fc-244c-48fa-80ff-1ed3cb31a427"
   },
   "outputs": [
    {
     "data": {
      "text/plain": [
       "employee_id             0\n",
       "department              0\n",
       "region                  0\n",
       "education               0\n",
       "gender                  0\n",
       "recruitment_channel     0\n",
       "no_of_trainings         0\n",
       "age                     0\n",
       "previous_year_rating    0\n",
       "length_of_service       0\n",
       "KPIs_met >80%           0\n",
       "awards_won?             0\n",
       "avg_training_score      0\n",
       "is_promoted             0\n",
       "dtype: int64"
      ]
     },
     "execution_count": 24,
     "metadata": {},
     "output_type": "execute_result"
    }
   ],
   "source": [
    "#Checking for missing values after imputation\n",
    "train.isnull().sum()"
   ]
  },
  {
   "cell_type": "code",
   "execution_count": 25,
   "metadata": {
    "colab": {},
    "colab_type": "code",
    "id": "UeyIZSJFqGBq"
   },
   "outputs": [],
   "source": [
    "#Dividing dataset into numerical and categorical columns\n",
    "numerical=train.select_dtypes(include=np.number)\n",
    "categorical=train.select_dtypes(exclude=np.number)"
   ]
  },
  {
   "cell_type": "code",
   "execution_count": 26,
   "metadata": {
    "colab": {
     "base_uri": "https://localhost:8080/",
     "height": 244
    },
    "colab_type": "code",
    "id": "uAeoeGzoqbYS",
    "outputId": "f08b3bb1-0689-4e71-80a9-845cd69fa081"
   },
   "outputs": [
    {
     "data": {
      "text/html": [
       "<div>\n",
       "<style scoped>\n",
       "    .dataframe tbody tr th:only-of-type {\n",
       "        vertical-align: middle;\n",
       "    }\n",
       "\n",
       "    .dataframe tbody tr th {\n",
       "        vertical-align: top;\n",
       "    }\n",
       "\n",
       "    .dataframe thead th {\n",
       "        text-align: right;\n",
       "    }\n",
       "</style>\n",
       "<table border=\"1\" class=\"dataframe\">\n",
       "  <thead>\n",
       "    <tr style=\"text-align: right;\">\n",
       "      <th></th>\n",
       "      <th>employee_id</th>\n",
       "      <th>no_of_trainings</th>\n",
       "      <th>age</th>\n",
       "      <th>previous_year_rating</th>\n",
       "      <th>length_of_service</th>\n",
       "      <th>KPIs_met &gt;80%</th>\n",
       "      <th>awards_won?</th>\n",
       "      <th>avg_training_score</th>\n",
       "      <th>is_promoted</th>\n",
       "    </tr>\n",
       "  </thead>\n",
       "  <tbody>\n",
       "    <tr>\n",
       "      <th>0</th>\n",
       "      <td>65438</td>\n",
       "      <td>1</td>\n",
       "      <td>35</td>\n",
       "      <td>5.0</td>\n",
       "      <td>8</td>\n",
       "      <td>1</td>\n",
       "      <td>0</td>\n",
       "      <td>49</td>\n",
       "      <td>0</td>\n",
       "    </tr>\n",
       "    <tr>\n",
       "      <th>1</th>\n",
       "      <td>65141</td>\n",
       "      <td>1</td>\n",
       "      <td>30</td>\n",
       "      <td>5.0</td>\n",
       "      <td>4</td>\n",
       "      <td>0</td>\n",
       "      <td>0</td>\n",
       "      <td>60</td>\n",
       "      <td>0</td>\n",
       "    </tr>\n",
       "    <tr>\n",
       "      <th>2</th>\n",
       "      <td>7513</td>\n",
       "      <td>1</td>\n",
       "      <td>34</td>\n",
       "      <td>3.0</td>\n",
       "      <td>7</td>\n",
       "      <td>0</td>\n",
       "      <td>0</td>\n",
       "      <td>50</td>\n",
       "      <td>0</td>\n",
       "    </tr>\n",
       "    <tr>\n",
       "      <th>3</th>\n",
       "      <td>2542</td>\n",
       "      <td>2</td>\n",
       "      <td>39</td>\n",
       "      <td>1.0</td>\n",
       "      <td>10</td>\n",
       "      <td>0</td>\n",
       "      <td>0</td>\n",
       "      <td>50</td>\n",
       "      <td>0</td>\n",
       "    </tr>\n",
       "    <tr>\n",
       "      <th>4</th>\n",
       "      <td>48945</td>\n",
       "      <td>1</td>\n",
       "      <td>45</td>\n",
       "      <td>3.0</td>\n",
       "      <td>2</td>\n",
       "      <td>0</td>\n",
       "      <td>0</td>\n",
       "      <td>73</td>\n",
       "      <td>0</td>\n",
       "    </tr>\n",
       "  </tbody>\n",
       "</table>\n",
       "</div>"
      ],
      "text/plain": [
       "   employee_id  no_of_trainings  age  previous_year_rating  length_of_service  \\\n",
       "0        65438                1   35                   5.0                  8   \n",
       "1        65141                1   30                   5.0                  4   \n",
       "2         7513                1   34                   3.0                  7   \n",
       "3         2542                2   39                   1.0                 10   \n",
       "4        48945                1   45                   3.0                  2   \n",
       "\n",
       "   KPIs_met >80%  awards_won?  avg_training_score  is_promoted  \n",
       "0              1            0                  49            0  \n",
       "1              0            0                  60            0  \n",
       "2              0            0                  50            0  \n",
       "3              0            0                  50            0  \n",
       "4              0            0                  73            0  "
      ]
     },
     "execution_count": 26,
     "metadata": {},
     "output_type": "execute_result"
    }
   ],
   "source": [
    "numerical.head()"
   ]
  },
  {
   "cell_type": "code",
   "execution_count": 27,
   "metadata": {
    "colab": {
     "base_uri": "https://localhost:8080/",
     "height": 206
    },
    "colab_type": "code",
    "id": "49qNa9Moqc2b",
    "outputId": "35d6044f-36c9-43a8-ac34-3e49b36aa818"
   },
   "outputs": [
    {
     "data": {
      "text/html": [
       "<div>\n",
       "<style scoped>\n",
       "    .dataframe tbody tr th:only-of-type {\n",
       "        vertical-align: middle;\n",
       "    }\n",
       "\n",
       "    .dataframe tbody tr th {\n",
       "        vertical-align: top;\n",
       "    }\n",
       "\n",
       "    .dataframe thead th {\n",
       "        text-align: right;\n",
       "    }\n",
       "</style>\n",
       "<table border=\"1\" class=\"dataframe\">\n",
       "  <thead>\n",
       "    <tr style=\"text-align: right;\">\n",
       "      <th></th>\n",
       "      <th>department</th>\n",
       "      <th>region</th>\n",
       "      <th>education</th>\n",
       "      <th>gender</th>\n",
       "      <th>recruitment_channel</th>\n",
       "    </tr>\n",
       "  </thead>\n",
       "  <tbody>\n",
       "    <tr>\n",
       "      <th>0</th>\n",
       "      <td>Sales &amp; Marketing</td>\n",
       "      <td>region_7</td>\n",
       "      <td>Master's &amp; above</td>\n",
       "      <td>f</td>\n",
       "      <td>sourcing</td>\n",
       "    </tr>\n",
       "    <tr>\n",
       "      <th>1</th>\n",
       "      <td>Operations</td>\n",
       "      <td>region_22</td>\n",
       "      <td>Bachelor's</td>\n",
       "      <td>m</td>\n",
       "      <td>other</td>\n",
       "    </tr>\n",
       "    <tr>\n",
       "      <th>2</th>\n",
       "      <td>Sales &amp; Marketing</td>\n",
       "      <td>region_19</td>\n",
       "      <td>Bachelor's</td>\n",
       "      <td>m</td>\n",
       "      <td>sourcing</td>\n",
       "    </tr>\n",
       "    <tr>\n",
       "      <th>3</th>\n",
       "      <td>Sales &amp; Marketing</td>\n",
       "      <td>region_23</td>\n",
       "      <td>Bachelor's</td>\n",
       "      <td>m</td>\n",
       "      <td>other</td>\n",
       "    </tr>\n",
       "    <tr>\n",
       "      <th>4</th>\n",
       "      <td>Technology</td>\n",
       "      <td>region_26</td>\n",
       "      <td>Bachelor's</td>\n",
       "      <td>m</td>\n",
       "      <td>other</td>\n",
       "    </tr>\n",
       "  </tbody>\n",
       "</table>\n",
       "</div>"
      ],
      "text/plain": [
       "          department     region         education gender recruitment_channel\n",
       "0  Sales & Marketing   region_7  Master's & above      f            sourcing\n",
       "1         Operations  region_22        Bachelor's      m               other\n",
       "2  Sales & Marketing  region_19        Bachelor's      m            sourcing\n",
       "3  Sales & Marketing  region_23        Bachelor's      m               other\n",
       "4         Technology  region_26        Bachelor's      m               other"
      ]
     },
     "execution_count": 27,
     "metadata": {},
     "output_type": "execute_result"
    }
   ],
   "source": [
    "categorical.head()"
   ]
  },
  {
   "cell_type": "code",
   "execution_count": 28,
   "metadata": {
    "colab": {},
    "colab_type": "code",
    "id": "l_P4kZz6qf-1"
   },
   "outputs": [],
   "source": [
    "#Function to calculate Cramer's Correlation Co-efficient \n",
    "def cramers_v_correlation(col1, col2):\n",
    "    matrix = pd.crosstab(train[col1],train[col2])\n",
    "    chi2 = ss.chi2_contingency(matrix)[0]\n",
    "    n = matrix.sum().sum()\n",
    "    phi2 = chi2/n\n",
    "    r,k = matrix.shape\n",
    "    phi2corr = max(0, phi2-((k-1)*(r-1))/(n-1))\n",
    "    rcorr = r-((r-1)**2)/(n-1)\n",
    "    kcorr = k-((k-1)**2)/(n-1)\n",
    "    return np.sqrt(phi2corr/min((kcorr-1),(rcorr-1)))"
   ]
  },
  {
   "cell_type": "code",
   "execution_count": 29,
   "metadata": {
    "colab": {
     "base_uri": "https://localhost:8080/",
     "height": 384
    },
    "colab_type": "code",
    "id": "2vifTAyPri7R",
    "outputId": "ffba8b2d-c895-4fc2-f5c6-e8acac0ca2f0"
   },
   "outputs": [
    {
     "name": "stdout",
     "output_type": "stream",
     "text": [
      "department to region correlation is 0.13192511922640962\n",
      "department to education correlation is 0.12822141249182845\n",
      "department to gender correlation is 0.28638314457029806\n",
      "department to recruitment_channel correlation is 0.0622030578722607\n",
      "region to department correlation is 0.13192511922640962\n",
      "region to education correlation is 0.1753863495058916\n",
      "region to gender correlation is 0.16147466835421295\n",
      "region to recruitment_channel correlation is 0.1104784207664475\n",
      "education to department correlation is 0.12822141249182845\n",
      "education to region correlation is 0.17538634950589158\n",
      "education to gender correlation is 0.03493329552792097\n",
      "education to recruitment_channel correlation is 0.024854735570967432\n",
      "gender to department correlation is 0.28638314457029806\n",
      "gender to region correlation is 0.16147466835421295\n",
      "gender to education correlation is 0.03493329552792096\n",
      "gender to recruitment_channel correlation is 0.007556611146353458\n",
      "recruitment_channel to department correlation is 0.06220305787226071\n",
      "recruitment_channel to region correlation is 0.1104784207664475\n",
      "recruitment_channel to education correlation is 0.024854735570967432\n",
      "recruitment_channel to gender correlation is 0.007556611146353459\n"
     ]
    }
   ],
   "source": [
    "#Calculating correlation for categorical variables\n",
    "for col_1 in list(categorical):\n",
    "    for col_2 in list(categorical):\n",
    "        #if((cramers_v_correlation(col_1,col_2)>0.8) and (col_1!=col_2)):\n",
    "        if(col_1!=col_2):\n",
    "            print(col_1,\"to\",col_2,\"correlation is\",cramers_v_correlation(col_1,col_2))"
   ]
  },
  {
   "cell_type": "code",
   "execution_count": 30,
   "metadata": {
    "colab": {},
    "colab_type": "code",
    "id": "9I0bB27JrsiV"
   },
   "outputs": [],
   "source": [
    "#Function for Chi-Square test for feature importance\n",
    "def Chi_square(col_1,col_2):\n",
    "    X=train[col_1].astype('str')\n",
    "    Y=train[col_2].astype('str')\n",
    "    observed_values=pd.crosstab(Y,X)\n",
    "    chi2, p, dof, expected = ss.chi2_contingency(observed_values)\n",
    "    if(p>0.05):\n",
    "        print(col_1,\" is not required\")\n",
    "    else:\n",
    "        print(col_1,\" is required\")"
   ]
  },
  {
   "cell_type": "code",
   "execution_count": 31,
   "metadata": {
    "colab": {
     "base_uri": "https://localhost:8080/",
     "height": 109
    },
    "colab_type": "code",
    "id": "74zmnZbxr-72",
    "outputId": "ee58477b-d37b-4cc5-bf71-370577d7e504"
   },
   "outputs": [
    {
     "name": "stdout",
     "output_type": "stream",
     "text": [
      "department  is required\n",
      "region  is required\n",
      "education  is required\n",
      "gender  is required\n",
      "recruitment_channel  is required\n"
     ]
    }
   ],
   "source": [
    "#Calculating feature importance for features \n",
    "for col in list(categorical):\n",
    "    Chi_square(col,\"is_promoted\")"
   ]
  },
  {
   "cell_type": "code",
   "execution_count": 32,
   "metadata": {
    "colab": {},
    "colab_type": "code",
    "id": "YG0iTYKxsDSv"
   },
   "outputs": [],
   "source": [
    "#Drop \"employee_id\" as indivisual's id should not decided whether the promotion should be granted or not\n",
    "train.drop([\"employee_id\"],1,inplace=True)\n",
    "numerical.drop([\"employee_id\"],1,inplace=True)"
   ]
  },
  {
   "cell_type": "code",
   "execution_count": 33,
   "metadata": {
    "colab": {
     "base_uri": "https://localhost:8080/",
     "height": 338
    },
    "colab_type": "code",
    "id": "EZVr50nZsUMt",
    "outputId": "19dc6cbe-22d7-44f8-d581-51d33d52460d"
   },
   "outputs": [
    {
     "data": {
      "text/html": [
       "<div>\n",
       "<style scoped>\n",
       "    .dataframe tbody tr th:only-of-type {\n",
       "        vertical-align: middle;\n",
       "    }\n",
       "\n",
       "    .dataframe tbody tr th {\n",
       "        vertical-align: top;\n",
       "    }\n",
       "\n",
       "    .dataframe thead th {\n",
       "        text-align: right;\n",
       "    }\n",
       "</style>\n",
       "<table border=\"1\" class=\"dataframe\">\n",
       "  <thead>\n",
       "    <tr style=\"text-align: right;\">\n",
       "      <th></th>\n",
       "      <th>no_of_trainings</th>\n",
       "      <th>age</th>\n",
       "      <th>previous_year_rating</th>\n",
       "      <th>length_of_service</th>\n",
       "      <th>KPIs_met &gt;80%</th>\n",
       "      <th>awards_won?</th>\n",
       "      <th>avg_training_score</th>\n",
       "      <th>is_promoted</th>\n",
       "    </tr>\n",
       "  </thead>\n",
       "  <tbody>\n",
       "    <tr>\n",
       "      <th>no_of_trainings</th>\n",
       "      <td>1.000000</td>\n",
       "      <td>-0.081278</td>\n",
       "      <td>-0.061564</td>\n",
       "      <td>-0.057275</td>\n",
       "      <td>-0.045576</td>\n",
       "      <td>-0.007628</td>\n",
       "      <td>0.042517</td>\n",
       "      <td>-0.024896</td>\n",
       "    </tr>\n",
       "    <tr>\n",
       "      <th>age</th>\n",
       "      <td>-0.081278</td>\n",
       "      <td>1.000000</td>\n",
       "      <td>0.026810</td>\n",
       "      <td>0.657111</td>\n",
       "      <td>-0.025592</td>\n",
       "      <td>-0.008169</td>\n",
       "      <td>-0.048380</td>\n",
       "      <td>-0.017166</td>\n",
       "    </tr>\n",
       "    <tr>\n",
       "      <th>previous_year_rating</th>\n",
       "      <td>-0.061564</td>\n",
       "      <td>0.026810</td>\n",
       "      <td>1.000000</td>\n",
       "      <td>0.023504</td>\n",
       "      <td>0.337367</td>\n",
       "      <td>0.026587</td>\n",
       "      <td>0.071926</td>\n",
       "      <td>0.153230</td>\n",
       "    </tr>\n",
       "    <tr>\n",
       "      <th>length_of_service</th>\n",
       "      <td>-0.057275</td>\n",
       "      <td>0.657111</td>\n",
       "      <td>0.023504</td>\n",
       "      <td>1.000000</td>\n",
       "      <td>-0.077693</td>\n",
       "      <td>-0.039927</td>\n",
       "      <td>-0.038122</td>\n",
       "      <td>-0.010670</td>\n",
       "    </tr>\n",
       "    <tr>\n",
       "      <th>KPIs_met &gt;80%</th>\n",
       "      <td>-0.045576</td>\n",
       "      <td>-0.025592</td>\n",
       "      <td>0.337367</td>\n",
       "      <td>-0.077693</td>\n",
       "      <td>1.000000</td>\n",
       "      <td>0.097000</td>\n",
       "      <td>0.078391</td>\n",
       "      <td>0.221582</td>\n",
       "    </tr>\n",
       "    <tr>\n",
       "      <th>awards_won?</th>\n",
       "      <td>-0.007628</td>\n",
       "      <td>-0.008169</td>\n",
       "      <td>0.026587</td>\n",
       "      <td>-0.039927</td>\n",
       "      <td>0.097000</td>\n",
       "      <td>1.000000</td>\n",
       "      <td>0.072138</td>\n",
       "      <td>0.195871</td>\n",
       "    </tr>\n",
       "    <tr>\n",
       "      <th>avg_training_score</th>\n",
       "      <td>0.042517</td>\n",
       "      <td>-0.048380</td>\n",
       "      <td>0.071926</td>\n",
       "      <td>-0.038122</td>\n",
       "      <td>0.078391</td>\n",
       "      <td>0.072138</td>\n",
       "      <td>1.000000</td>\n",
       "      <td>0.181147</td>\n",
       "    </tr>\n",
       "    <tr>\n",
       "      <th>is_promoted</th>\n",
       "      <td>-0.024896</td>\n",
       "      <td>-0.017166</td>\n",
       "      <td>0.153230</td>\n",
       "      <td>-0.010670</td>\n",
       "      <td>0.221582</td>\n",
       "      <td>0.195871</td>\n",
       "      <td>0.181147</td>\n",
       "      <td>1.000000</td>\n",
       "    </tr>\n",
       "  </tbody>\n",
       "</table>\n",
       "</div>"
      ],
      "text/plain": [
       "                      no_of_trainings       age  previous_year_rating  \\\n",
       "no_of_trainings              1.000000 -0.081278             -0.061564   \n",
       "age                         -0.081278  1.000000              0.026810   \n",
       "previous_year_rating        -0.061564  0.026810              1.000000   \n",
       "length_of_service           -0.057275  0.657111              0.023504   \n",
       "KPIs_met >80%               -0.045576 -0.025592              0.337367   \n",
       "awards_won?                 -0.007628 -0.008169              0.026587   \n",
       "avg_training_score           0.042517 -0.048380              0.071926   \n",
       "is_promoted                 -0.024896 -0.017166              0.153230   \n",
       "\n",
       "                      length_of_service  KPIs_met >80%  awards_won?  \\\n",
       "no_of_trainings               -0.057275      -0.045576    -0.007628   \n",
       "age                            0.657111      -0.025592    -0.008169   \n",
       "previous_year_rating           0.023504       0.337367     0.026587   \n",
       "length_of_service              1.000000      -0.077693    -0.039927   \n",
       "KPIs_met >80%                 -0.077693       1.000000     0.097000   \n",
       "awards_won?                   -0.039927       0.097000     1.000000   \n",
       "avg_training_score            -0.038122       0.078391     0.072138   \n",
       "is_promoted                   -0.010670       0.221582     0.195871   \n",
       "\n",
       "                      avg_training_score  is_promoted  \n",
       "no_of_trainings                 0.042517    -0.024896  \n",
       "age                            -0.048380    -0.017166  \n",
       "previous_year_rating            0.071926     0.153230  \n",
       "length_of_service              -0.038122    -0.010670  \n",
       "KPIs_met >80%                   0.078391     0.221582  \n",
       "awards_won?                     0.072138     0.195871  \n",
       "avg_training_score              1.000000     0.181147  \n",
       "is_promoted                     0.181147     1.000000  "
      ]
     },
     "execution_count": 33,
     "metadata": {},
     "output_type": "execute_result"
    }
   ],
   "source": [
    "#Correlation of numerical/continuous features\n",
    "numerical.corr()"
   ]
  },
  {
   "cell_type": "code",
   "execution_count": 34,
   "metadata": {
    "colab": {},
    "colab_type": "code",
    "id": "bzCMnBDysVww"
   },
   "outputs": [],
   "source": [
    "#Changing data type of categorical variable to 'category'\n",
    "for col in list(train.select_dtypes(include='object')):\n",
    "  train[col]=train[col].astype('category')"
   ]
  },
  {
   "cell_type": "code",
   "execution_count": 35,
   "metadata": {
    "colab": {},
    "colab_type": "code",
    "id": "KQkZgOVlsduG"
   },
   "outputs": [],
   "source": [
    "#One-Hot Encoding the dataset\n",
    "train_dummy=pd.get_dummies(train)"
   ]
  },
  {
   "cell_type": "code",
   "execution_count": 36,
   "metadata": {
    "colab": {
     "base_uri": "https://localhost:8080/",
     "height": 35
    },
    "colab_type": "code",
    "id": "W5Tw4gw-svv9",
    "outputId": "7a3a3110-ee70-4b8f-a61c-5eebd865d43f"
   },
   "outputs": [
    {
     "data": {
      "text/plain": [
       "(54808, 59)"
      ]
     },
     "execution_count": 36,
     "metadata": {},
     "output_type": "execute_result"
    }
   ],
   "source": [
    "#Checking for shape of dataset after One-Hot Encodinf\n",
    "train_dummy.shape"
   ]
  },
  {
   "cell_type": "code",
   "execution_count": 37,
   "metadata": {
    "colab": {},
    "colab_type": "code",
    "id": "Zq46Fds5s38r"
   },
   "outputs": [],
   "source": [
    "to_scale=train_dummy.select_dtypes(exclude='uint8')\n",
    "not_scale=train_dummy.select_dtypes(include='uint8')"
   ]
  },
  {
   "cell_type": "code",
   "execution_count": 38,
   "metadata": {
    "colab": {},
    "colab_type": "code",
    "id": "Himc-yH8tXQE"
   },
   "outputs": [],
   "source": [
    "#Initializaing StandardScaler function\n",
    "scaler=StandardScaler()"
   ]
  },
  {
   "cell_type": "code",
   "execution_count": 39,
   "metadata": {
    "colab": {},
    "colab_type": "code",
    "id": "c58-eNKPtmbN"
   },
   "outputs": [],
   "source": [
    "#Applying scaling on numerical/continuous features\n",
    "num_scaled=pd.DataFrame(scaler.fit_transform(to_scale),columns=list(to_scale))"
   ]
  },
  {
   "cell_type": "code",
   "execution_count": 40,
   "metadata": {
    "colab": {},
    "colab_type": "code",
    "id": "yEkyYs9Atyps"
   },
   "outputs": [],
   "source": [
    "train_scaled=pd.concat([num_scaled,not_scale],1)"
   ]
  },
  {
   "cell_type": "code",
   "execution_count": 41,
   "metadata": {
    "colab": {
     "base_uri": "https://localhost:8080/",
     "height": 35
    },
    "colab_type": "code",
    "id": "EjcnNuxKuG7z",
    "outputId": "55cd1904-e80b-4ca6-b8b1-be530518e4ab"
   },
   "outputs": [
    {
     "data": {
      "text/plain": [
       "(54808, 59)"
      ]
     },
     "execution_count": 41,
     "metadata": {},
     "output_type": "execute_result"
    }
   ],
   "source": [
    "train_scaled.shape"
   ]
  },
  {
   "cell_type": "code",
   "execution_count": 42,
   "metadata": {
    "colab": {},
    "colab_type": "code",
    "id": "aVxyY_HYG0E8"
   },
   "outputs": [],
   "source": [
    "#Dropping unwanted columns after One-Hot encoding\n",
    "train_scaled.drop([\"department_Analytics\",'region_region_1',\"education_Below Secondary\",\"gender_f\",\"recruitment_channel_other\"],1,inplace=True)"
   ]
  },
  {
   "cell_type": "code",
   "execution_count": 43,
   "metadata": {
    "colab": {
     "base_uri": "https://localhost:8080/",
     "height": 35
    },
    "colab_type": "code",
    "id": "0abSob42IJvD",
    "outputId": "5bf14137-5baa-4d9c-8ac7-b19c72805554"
   },
   "outputs": [
    {
     "data": {
      "text/plain": [
       "(54808, 54)"
      ]
     },
     "execution_count": 43,
     "metadata": {},
     "output_type": "execute_result"
    }
   ],
   "source": [
    "train_scaled.shape"
   ]
  },
  {
   "cell_type": "markdown",
   "metadata": {
    "colab_type": "text",
    "id": "Y4vF1GF29HQ0"
   },
   "source": [
    "# Logistic Regression"
   ]
  },
  {
   "cell_type": "code",
   "execution_count": 44,
   "metadata": {
    "colab": {},
    "colab_type": "code",
    "id": "uHbql0l9uoSD"
   },
   "outputs": [],
   "source": [
    "#Defining X (features) and y (traget feature)\n",
    "X=train_scaled.drop([\"is_promoted\"],1)\n",
    "y=train[\"is_promoted\"]"
   ]
  },
  {
   "cell_type": "code",
   "execution_count": 45,
   "metadata": {
    "colab": {
     "base_uri": "https://localhost:8080/",
     "height": 55
    },
    "colab_type": "code",
    "id": "iDE0405gxrH3",
    "outputId": "ced245f1-a6ea-4083-8fb3-f2829c85445a"
   },
   "outputs": [
    {
     "name": "stdout",
     "output_type": "stream",
     "text": [
      "Best features using Backward Elimination:  ['no_of_trainings', 'age', 'previous_year_rating', 'length_of_service', 'KPIs_met >80%', 'awards_won?', 'avg_training_score', 'department_Finance', 'department_HR', 'department_Legal', 'department_Operations', 'department_Procurement', 'department_R&D', 'department_Sales & Marketing', 'department_Technology', 'region_region_13', 'region_region_15', 'region_region_17', 'region_region_2', 'region_region_22', 'region_region_23', 'region_region_25', 'region_region_27', 'region_region_28', 'region_region_3', 'region_region_30', 'region_region_4', 'region_region_7', 'region_region_9', \"education_Master's & above\"]\n"
     ]
    }
   ],
   "source": [
    "#Function for feature selection using backward elimination\n",
    "import statsmodels.api as sm\n",
    "cols = list(X.columns)\n",
    "pmax = 1\n",
    "while (pmax>0.05):\n",
    "    p=[]\n",
    "    X_1 = X[cols]\n",
    "    X_1 = sm.add_constant(X_1)\n",
    "    model = sm.OLS(y,X_1).fit()\n",
    "    p = pd.Series(model.pvalues.values[1:],index = cols)      \n",
    "    pmax = max(p)\n",
    "    feature_with_p_max = p.idxmax()\n",
    "    if(pmax>0.05):\n",
    "        cols.remove(feature_with_p_max)\n",
    "    else:\n",
    "        breakselected_features_BE = cols\n",
    "print(\"Best features using Backward Elimination: \",cols)"
   ]
  },
  {
   "cell_type": "code",
   "execution_count": 46,
   "metadata": {
    "colab": {
     "base_uri": "https://localhost:8080/",
     "height": 35
    },
    "colab_type": "code",
    "id": "lpajNImjIt34",
    "outputId": "c5967cb5-b912-4628-dda5-2b51fce92bd3"
   },
   "outputs": [
    {
     "name": "stdout",
     "output_type": "stream",
     "text": [
      "Number of important features are : 30\n"
     ]
    }
   ],
   "source": [
    "print(\"Number of important features are :\",len(cols))"
   ]
  },
  {
   "cell_type": "code",
   "execution_count": 47,
   "metadata": {
    "colab": {},
    "colab_type": "code",
    "id": "X1Mtxmstx_RO"
   },
   "outputs": [],
   "source": [
    "#Defining X (features) and y (target feature) for Logistic Regression\n",
    "X_log=train_scaled[cols]\n",
    "y_log=train['is_promoted']"
   ]
  },
  {
   "cell_type": "code",
   "execution_count": 48,
   "metadata": {
    "colab": {},
    "colab_type": "code",
    "id": "ZR_LwGy5u27p"
   },
   "outputs": [],
   "source": [
    "#Splitting Dataset into train and test\n",
    "X_train,X_test,y_train,y_test=tts(X_log,y_log,test_size=0.25,random_state=0)"
   ]
  },
  {
   "cell_type": "code",
   "execution_count": 49,
   "metadata": {
    "colab": {
     "base_uri": "https://localhost:8080/",
     "height": 72
    },
    "colab_type": "code",
    "id": "FO-VsqGayLTa",
    "outputId": "5823960e-fb6a-4659-90a7-8830151859e1"
   },
   "outputs": [
    {
     "data": {
      "text/plain": [
       "0    37592\n",
       "1     3514\n",
       "Name: is_promoted, dtype: int64"
      ]
     },
     "execution_count": 49,
     "metadata": {},
     "output_type": "execute_result"
    }
   ],
   "source": [
    "#Checking for Data imbalance\n",
    "y_train.value_counts()"
   ]
  },
  {
   "cell_type": "code",
   "execution_count": 50,
   "metadata": {
    "colab": {},
    "colab_type": "code",
    "id": "sxZ-5a2Yu4yE"
   },
   "outputs": [],
   "source": [
    "#Intializaing SMOTE \n",
    "sm=SMOTE(random_state=42)"
   ]
  },
  {
   "cell_type": "code",
   "execution_count": 51,
   "metadata": {
    "colab": {},
    "colab_type": "code",
    "id": "dLB6zYT4vK00"
   },
   "outputs": [],
   "source": [
    "#Applying SMOTE oversampling technique only on Training set formed after splitting of dataset\n",
    "X_train,y_train=sm.fit_sample(X_train,y_train)"
   ]
  },
  {
   "cell_type": "code",
   "execution_count": 52,
   "metadata": {
    "colab": {
     "base_uri": "https://localhost:8080/",
     "height": 72
    },
    "colab_type": "code",
    "id": "M45JyIz1vh1W",
    "outputId": "2da5159e-c502-42d3-81c7-c32912ad2a84"
   },
   "outputs": [
    {
     "data": {
      "text/plain": [
       "1    37592\n",
       "0    37592\n",
       "dtype: int64"
      ]
     },
     "execution_count": 52,
     "metadata": {},
     "output_type": "execute_result"
    }
   ],
   "source": [
    "#Checking for Data imbalance after applying SMOTE\n",
    "pd.Series(y_train).value_counts()"
   ]
  },
  {
   "cell_type": "code",
   "execution_count": 53,
   "metadata": {
    "colab": {},
    "colab_type": "code",
    "id": "kqhBcUXTyV7v"
   },
   "outputs": [],
   "source": [
    "#Initializing Logistic Regression Model with random state 42\n",
    "logreg=LogisticRegression(random_state=42)"
   ]
  },
  {
   "cell_type": "code",
   "execution_count": 54,
   "metadata": {
    "colab": {
     "base_uri": "https://localhost:8080/",
     "height": 109
    },
    "colab_type": "code",
    "id": "BLtCvESEyo8X",
    "outputId": "f7630941-18a4-4c9c-b21f-e233dee74255"
   },
   "outputs": [
    {
     "data": {
      "text/plain": [
       "LogisticRegression(C=1.0, class_weight=None, dual=False, fit_intercept=True,\n",
       "                   intercept_scaling=1, l1_ratio=None, max_iter=100,\n",
       "                   multi_class='warn', n_jobs=None, penalty='l2',\n",
       "                   random_state=42, solver='warn', tol=0.0001, verbose=0,\n",
       "                   warm_start=False)"
      ]
     },
     "execution_count": 54,
     "metadata": {},
     "output_type": "execute_result"
    }
   ],
   "source": [
    "#Fitting Logistic Regression model on Training set\n",
    "logreg.fit(X_train,y_train)"
   ]
  },
  {
   "cell_type": "code",
   "execution_count": 55,
   "metadata": {
    "colab": {},
    "colab_type": "code",
    "id": "Hxrb4ebxywBg"
   },
   "outputs": [],
   "source": [
    "#Predicting values for Testing set\n",
    "y_pred_logreg=logreg.predict(X_test)"
   ]
  },
  {
   "cell_type": "code",
   "execution_count": 56,
   "metadata": {
    "colab": {
     "base_uri": "https://localhost:8080/",
     "height": 35
    },
    "colab_type": "code",
    "id": "yV-nShVEy1gv",
    "outputId": "d180cbe4-139f-4750-f640-388356d1ae4e"
   },
   "outputs": [
    {
     "data": {
      "text/plain": [
       "0.7715661947160999"
      ]
     },
     "execution_count": 56,
     "metadata": {},
     "output_type": "execute_result"
    }
   ],
   "source": [
    "#Calculating accuracy score for model\n",
    "accuracy_score(y_test,y_pred_logreg)"
   ]
  },
  {
   "cell_type": "code",
   "execution_count": 57,
   "metadata": {
    "colab": {
     "base_uri": "https://localhost:8080/",
     "height": 35
    },
    "colab_type": "code",
    "id": "IOatW6GTy4Qu",
    "outputId": "2cab7736-adcd-47dd-a7c8-d18cc2be2dbc"
   },
   "outputs": [
    {
     "data": {
      "text/plain": [
       "0.3697140555779299"
      ]
     },
     "execution_count": 57,
     "metadata": {},
     "output_type": "execute_result"
    }
   ],
   "source": [
    "#Calculating f1 score for model\n",
    "f1_score(y_test,y_pred_logreg)"
   ]
  },
  {
   "cell_type": "code",
   "execution_count": 58,
   "metadata": {
    "colab": {
     "base_uri": "https://localhost:8080/",
     "height": 182
    },
    "colab_type": "code",
    "id": "TRRD_uojy9YP",
    "outputId": "250b8847-e27d-42e6-b085-b2ab8879be46"
   },
   "outputs": [
    {
     "name": "stdout",
     "output_type": "stream",
     "text": [
      "              precision    recall  f1-score   support\n",
      "\n",
      "           0       0.98      0.77      0.86     12548\n",
      "           1       0.24      0.80      0.37      1154\n",
      "\n",
      "    accuracy                           0.77     13702\n",
      "   macro avg       0.61      0.78      0.62     13702\n",
      "weighted avg       0.91      0.77      0.82     13702\n",
      "\n"
     ]
    }
   ],
   "source": [
    "#Printing classification report for model to evalucate performace of model\n",
    "print(classification_report(y_test,y_pred_logreg))"
   ]
  },
  {
   "cell_type": "code",
   "execution_count": 59,
   "metadata": {
    "colab": {
     "base_uri": "https://localhost:8080/",
     "height": 35
    },
    "colab_type": "code",
    "id": "yYx6uFpfzCx9",
    "outputId": "f84fcfa7-e4e6-4241-c78b-0f57e5976768"
   },
   "outputs": [
    {
     "data": {
      "text/plain": [
       "0.7824297850500178"
      ]
     },
     "execution_count": 59,
     "metadata": {},
     "output_type": "execute_result"
    }
   ],
   "source": [
    "#Calculating ROC-AUC score\n",
    "roc_auc_score(y_test,y_pred_logreg)"
   ]
  },
  {
   "cell_type": "code",
   "execution_count": 60,
   "metadata": {
    "colab": {},
    "colab_type": "code",
    "id": "HrwSyGpmSmXW"
   },
   "outputs": [],
   "source": [
    "#Function to plot ROC-AUC curve \n",
    "def curve_roc(model,X_test,y_test):\n",
    "    probs=model.predict_proba(X_test)\n",
    "    probs = probs[:, 1]\n",
    "    probs.shape\n",
    "    fpr, tpr, thresholds = roc_curve(y_test, probs)\n",
    "    plt.plot([0, 1], [0, 1], linestyle='--')\n",
    "    plt.plot(fpr, tpr)\n",
    "    plt.ylabel(\"True Positive Rate\")\n",
    "    plt.xlabel(\"False Positive Rate\")\n",
    "    plt.show()"
   ]
  },
  {
   "cell_type": "markdown",
   "metadata": {
    "colab_type": "text",
    "id": "LIJ1GOWu9AIQ"
   },
   "source": [
    "# Logistic Regression using GridSearchCV"
   ]
  },
  {
   "cell_type": "code",
   "execution_count": 61,
   "metadata": {
    "colab": {},
    "colab_type": "code",
    "id": "l_VwI-MAzFIe"
   },
   "outputs": [],
   "source": [
    "#Defining parameters for GridSearchCV of Logistic Regression\n",
    "param_logreg={\"C\":np.arange(0.1,1,0.01),\n",
    "             \"penalty\":['l1','l2']}"
   ]
  },
  {
   "cell_type": "code",
   "execution_count": 62,
   "metadata": {
    "colab": {},
    "colab_type": "code",
    "id": "87BeKHIWzYrt"
   },
   "outputs": [],
   "source": [
    "#Defining GridSearchCV with base estimator and 5-Fold Cross Validation\n",
    "logreg_cv=GridSearchCV(estimator=logreg,param_grid=param_logreg,cv=5)"
   ]
  },
  {
   "cell_type": "code",
   "execution_count": 63,
   "metadata": {
    "colab": {
     "base_uri": "https://localhost:8080/",
     "height": 384
    },
    "colab_type": "code",
    "id": "RBoKiZ-9ze91",
    "outputId": "329ef8da-c908-40d8-9f57-6275fe01a309"
   },
   "outputs": [
    {
     "data": {
      "text/plain": [
       "GridSearchCV(cv=5, error_score='raise-deprecating',\n",
       "             estimator=LogisticRegression(C=1.0, class_weight=None, dual=False,\n",
       "                                          fit_intercept=True,\n",
       "                                          intercept_scaling=1, l1_ratio=None,\n",
       "                                          max_iter=100, multi_class='warn',\n",
       "                                          n_jobs=None, penalty='l2',\n",
       "                                          random_state=42, solver='warn',\n",
       "                                          tol=0.0001, verbose=0,\n",
       "                                          warm_start=False),\n",
       "             iid='warn', n_jobs=None,\n",
       "             param_grid={'C': array([0.1 , 0.11, 0....\n",
       "       0.43, 0.44, 0.45, 0.46, 0.47, 0.48, 0.49, 0.5 , 0.51, 0.52, 0.53,\n",
       "       0.54, 0.55, 0.56, 0.57, 0.58, 0.59, 0.6 , 0.61, 0.62, 0.63, 0.64,\n",
       "       0.65, 0.66, 0.67, 0.68, 0.69, 0.7 , 0.71, 0.72, 0.73, 0.74, 0.75,\n",
       "       0.76, 0.77, 0.78, 0.79, 0.8 , 0.81, 0.82, 0.83, 0.84, 0.85, 0.86,\n",
       "       0.87, 0.88, 0.89, 0.9 , 0.91, 0.92, 0.93, 0.94, 0.95, 0.96, 0.97,\n",
       "       0.98, 0.99]),\n",
       "                         'penalty': ['l1', 'l2']},\n",
       "             pre_dispatch='2*n_jobs', refit=True, return_train_score=False,\n",
       "             scoring=None, verbose=0)"
      ]
     },
     "execution_count": 63,
     "metadata": {},
     "output_type": "execute_result"
    }
   ],
   "source": [
    "#Applying GridSearchCV model on Training set \n",
    "logreg_cv.fit(X_train,y_train)"
   ]
  },
  {
   "cell_type": "code",
   "execution_count": 64,
   "metadata": {
    "colab": {
     "base_uri": "https://localhost:8080/",
     "height": 109
    },
    "colab_type": "code",
    "id": "UqIX1a0Mzi4V",
    "outputId": "088ce194-2492-4076-b60b-588db92b7a03"
   },
   "outputs": [
    {
     "data": {
      "text/plain": [
       "LogisticRegression(C=0.7499999999999997, class_weight=None, dual=False,\n",
       "                   fit_intercept=True, intercept_scaling=1, l1_ratio=None,\n",
       "                   max_iter=100, multi_class='warn', n_jobs=None, penalty='l1',\n",
       "                   random_state=42, solver='warn', tol=0.0001, verbose=0,\n",
       "                   warm_start=False)"
      ]
     },
     "execution_count": 64,
     "metadata": {},
     "output_type": "execute_result"
    }
   ],
   "source": [
    "#Best Estimator for Logistic Regression after GridSearchCV\n",
    "logreg_cv.best_estimator_"
   ]
  },
  {
   "cell_type": "code",
   "execution_count": 65,
   "metadata": {
    "colab": {},
    "colab_type": "code",
    "id": "qFuMayLZ4IOQ"
   },
   "outputs": [],
   "source": [
    "#Predicting values of Test set using Best Estimator\n",
    "y_pred_logregcv=logreg_cv.best_estimator_.predict(X_test)"
   ]
  },
  {
   "cell_type": "code",
   "execution_count": 66,
   "metadata": {
    "colab": {
     "base_uri": "https://localhost:8080/",
     "height": 35
    },
    "colab_type": "code",
    "id": "iWxydEHD4PJo",
    "outputId": "972eb1de-d506-4b04-8221-9a4f07112ead"
   },
   "outputs": [
    {
     "data": {
      "text/plain": [
       "0.771712158808933"
      ]
     },
     "execution_count": 66,
     "metadata": {},
     "output_type": "execute_result"
    }
   ],
   "source": [
    "#Checking accuracy score for Best model of Logistic Regression\n",
    "accuracy_score(y_test,y_pred_logregcv)"
   ]
  },
  {
   "cell_type": "code",
   "execution_count": 67,
   "metadata": {
    "colab": {
     "base_uri": "https://localhost:8080/",
     "height": 35
    },
    "colab_type": "code",
    "id": "ATAKLR3h4SOj",
    "outputId": "69dc1380-9f2c-4051-bc73-b9e2801f809e"
   },
   "outputs": [
    {
     "data": {
      "text/plain": [
       "0.3693548387096774"
      ]
     },
     "execution_count": 67,
     "metadata": {},
     "output_type": "execute_result"
    }
   ],
   "source": [
    "#Checking f1 score for Best Model of Logistic Regression\n",
    "f1_score(y_test,y_pred_logregcv)"
   ]
  },
  {
   "cell_type": "code",
   "execution_count": 68,
   "metadata": {
    "colab": {
     "base_uri": "https://localhost:8080/",
     "height": 182
    },
    "colab_type": "code",
    "id": "NhxZWWHG4X6V",
    "outputId": "26cf6484-f665-4201-e2be-424d2acb3aaf"
   },
   "outputs": [
    {
     "name": "stdout",
     "output_type": "stream",
     "text": [
      "              precision    recall  f1-score   support\n",
      "\n",
      "           0       0.98      0.77      0.86     12548\n",
      "           1       0.24      0.79      0.37      1154\n",
      "\n",
      "    accuracy                           0.77     13702\n",
      "   macro avg       0.61      0.78      0.61     13702\n",
      "weighted avg       0.91      0.77      0.82     13702\n",
      "\n"
     ]
    }
   ],
   "source": [
    "#Printing classification report for Best model of Logistic Regression for evaluation\n",
    "print(classification_report(y_test,y_pred_logregcv))"
   ]
  },
  {
   "cell_type": "code",
   "execution_count": 69,
   "metadata": {
    "colab": {
     "base_uri": "https://localhost:8080/",
     "height": 35
    },
    "colab_type": "code",
    "id": "B2Kz-zO74dZU",
    "outputId": "56265ae9-8f36-4c5b-c3e8-6e1cde49acf5"
   },
   "outputs": [
    {
     "data": {
      "text/plain": [
       "0.7817226218737724"
      ]
     },
     "execution_count": 69,
     "metadata": {},
     "output_type": "execute_result"
    }
   ],
   "source": [
    "#Check ROC-AUC score for Best model for Logistic Regression\n",
    "roc_auc_score(y_test,y_pred_logregcv)"
   ]
  },
  {
   "cell_type": "code",
   "execution_count": 70,
   "metadata": {
    "colab": {},
    "colab_type": "code",
    "id": "ihFovq954hU_"
   },
   "outputs": [],
   "source": [
    "#Intializing LabelEncoder\n",
    "le=LabelEncoder()"
   ]
  },
  {
   "cell_type": "code",
   "execution_count": 71,
   "metadata": {
    "colab": {},
    "colab_type": "code",
    "id": "jhxDfvFo5Rfg"
   },
   "outputs": [],
   "source": [
    "#Make a copy of train\n",
    "train_le=train.copy()"
   ]
  },
  {
   "cell_type": "code",
   "execution_count": 72,
   "metadata": {
    "colab": {},
    "colab_type": "code",
    "id": "stEtdI-75YGW"
   },
   "outputs": [],
   "source": [
    "#Label encode all categorical features\n",
    "for col in list(train_le.select_dtypes(include='category')):\n",
    "  train_le[col]=le.fit_transform(train_le[col])"
   ]
  },
  {
   "cell_type": "markdown",
   "metadata": {
    "colab_type": "text",
    "id": "myc8aUa687Ar"
   },
   "source": [
    "# Decision Tree Classifier"
   ]
  },
  {
   "cell_type": "code",
   "execution_count": 73,
   "metadata": {
    "colab": {},
    "colab_type": "code",
    "id": "Cj4yJK635kcJ"
   },
   "outputs": [],
   "source": [
    "#Defining X (features) and y (traget feature) for Decision Tree Model\n",
    "X_dt=train_le.drop([\"is_promoted\"],1)\n",
    "y_dt=train[\"is_promoted\"]"
   ]
  },
  {
   "cell_type": "code",
   "execution_count": 74,
   "metadata": {
    "colab": {},
    "colab_type": "code",
    "id": "TKxuss6-5thU"
   },
   "outputs": [],
   "source": [
    "#Applying train-test split on Label encoded data\n",
    "X_train,X_test,y_train,y_test=tts(X_dt,y_dt,test_size=0.25,random_state=0)"
   ]
  },
  {
   "cell_type": "code",
   "execution_count": 75,
   "metadata": {
    "colab": {},
    "colab_type": "code",
    "id": "ADe_seZL6EAz"
   },
   "outputs": [],
   "source": [
    "#Applying SMOTE on label encoded training set\n",
    "X_train,y_train=sm.fit_sample(X_train,y_train)"
   ]
  },
  {
   "cell_type": "code",
   "execution_count": 76,
   "metadata": {
    "colab": {},
    "colab_type": "code",
    "id": "BtdkgSD06Inc"
   },
   "outputs": [],
   "source": [
    "#Intializing Decision Tree Model with random state 0\n",
    "dtc=DecisionTreeClassifier(random_state=0)"
   ]
  },
  {
   "cell_type": "code",
   "execution_count": 77,
   "metadata": {
    "colab": {
     "base_uri": "https://localhost:8080/",
     "height": 127
    },
    "colab_type": "code",
    "id": "P6qXMBdJ6Q5e",
    "outputId": "5a3b5c16-1bac-4ac1-a4ce-178e2a6a62d6"
   },
   "outputs": [
    {
     "data": {
      "text/plain": [
       "DecisionTreeClassifier(class_weight=None, criterion='gini', max_depth=None,\n",
       "                       max_features=None, max_leaf_nodes=None,\n",
       "                       min_impurity_decrease=0.0, min_impurity_split=None,\n",
       "                       min_samples_leaf=1, min_samples_split=2,\n",
       "                       min_weight_fraction_leaf=0.0, presort=False,\n",
       "                       random_state=0, splitter='best')"
      ]
     },
     "execution_count": 77,
     "metadata": {},
     "output_type": "execute_result"
    }
   ],
   "source": [
    "#Fitting Decision Tree Model on training set\n",
    "dtc.fit(X_train,y_train)"
   ]
  },
  {
   "cell_type": "code",
   "execution_count": 78,
   "metadata": {
    "colab": {},
    "colab_type": "code",
    "id": "pyrBMXZW6fKF"
   },
   "outputs": [],
   "source": [
    "#Predicting values for test set\n",
    "y_pred_dt=dtc.predict(X_test)"
   ]
  },
  {
   "cell_type": "code",
   "execution_count": 79,
   "metadata": {
    "colab": {
     "base_uri": "https://localhost:8080/",
     "height": 35
    },
    "colab_type": "code",
    "id": "oruUfDap6lxs",
    "outputId": "82ae1f49-1059-49d6-81f9-271355b9156b"
   },
   "outputs": [
    {
     "data": {
      "text/plain": [
       "0.8931542840461246"
      ]
     },
     "execution_count": 79,
     "metadata": {},
     "output_type": "execute_result"
    }
   ],
   "source": [
    "#Calculating accuracy score for Decision Tree model\n",
    "accuracy_score(y_test,y_pred_dt)"
   ]
  },
  {
   "cell_type": "code",
   "execution_count": 80,
   "metadata": {
    "colab": {
     "base_uri": "https://localhost:8080/",
     "height": 35
    },
    "colab_type": "code",
    "id": "vUPoprIf6onC",
    "outputId": "1ca0a70c-0b2a-47e6-c2c4-4cba5f7f6292"
   },
   "outputs": [
    {
     "data": {
      "text/plain": [
       "0.4181240063593004"
      ]
     },
     "execution_count": 80,
     "metadata": {},
     "output_type": "execute_result"
    }
   ],
   "source": [
    "#Calculating f1 score for Decision Tree model\n",
    "f1_score(y_test,y_pred_dt)"
   ]
  },
  {
   "cell_type": "code",
   "execution_count": 81,
   "metadata": {
    "colab": {
     "base_uri": "https://localhost:8080/",
     "height": 182
    },
    "colab_type": "code",
    "id": "zR9hezA96r2b",
    "outputId": "f2dd629d-1f32-4bb7-b510-d100460cd82f"
   },
   "outputs": [
    {
     "name": "stdout",
     "output_type": "stream",
     "text": [
      "              precision    recall  f1-score   support\n",
      "\n",
      "           0       0.95      0.93      0.94     12548\n",
      "           1       0.39      0.46      0.42      1154\n",
      "\n",
      "    accuracy                           0.89     13702\n",
      "   macro avg       0.67      0.69      0.68     13702\n",
      "weighted avg       0.90      0.89      0.90     13702\n",
      "\n"
     ]
    }
   ],
   "source": [
    "#Printing Classification report of Decision Tree model for evaluation\n",
    "print(classification_report(y_test,y_pred_dt))"
   ]
  },
  {
   "cell_type": "code",
   "execution_count": 82,
   "metadata": {
    "colab": {
     "base_uri": "https://localhost:8080/",
     "height": 35
    },
    "colab_type": "code",
    "id": "trwK1iJ06t92",
    "outputId": "129fe2f5-8a3c-48ae-95bc-2b8aa9629c9d"
   },
   "outputs": [
    {
     "data": {
      "text/plain": [
       "0.6945908646671997"
      ]
     },
     "execution_count": 82,
     "metadata": {},
     "output_type": "execute_result"
    }
   ],
   "source": [
    "#ROC-AUC score for Decision Tree model\n",
    "roc_auc_score(y_test,y_pred_dt)"
   ]
  },
  {
   "cell_type": "code",
   "execution_count": 83,
   "metadata": {
    "colab": {
     "base_uri": "https://localhost:8080/",
     "height": 392
    },
    "colab_type": "code",
    "id": "zn-wxt1MaX3U",
    "outputId": "b3875cba-9227-4551-a748-8e0681704ff0"
   },
   "outputs": [
    {
     "data": {
      "text/plain": [
       "<matplotlib.axes._subplots.AxesSubplot at 0x7f97ae6e9710>"
      ]
     },
     "execution_count": 83,
     "metadata": {},
     "output_type": "execute_result"
    },
    {
     "data": {
      "image/png": "[encoded data removed]",
      "text/plain": [
       "<Figure size 432x432 with 1 Axes>"
      ]
     },
     "metadata": {
      "needs_background": "light"
     },
     "output_type": "display_data"
    }
   ],
   "source": [
    "#Feature importance using Decision Tree model\n",
    "import matplotlib\n",
    "matplotlib.rcParams['figure.figsize'] = (6,6)\n",
    "coef=pd.Series(dtc.feature_importances_,index=X_dt.columns)\n",
    "coef.plot(kind='barh')"
   ]
  },
  {
   "cell_type": "code",
   "execution_count": 84,
   "metadata": {
    "colab": {
     "base_uri": "https://localhost:8080/",
     "height": 35
    },
    "colab_type": "code",
    "id": "8vBS7e6dOFTS",
    "outputId": "cc4eb6a2-cd06-4519-975b-b8b1570050cb"
   },
   "outputs": [
    {
     "name": "stdout",
     "output_type": "stream",
     "text": [
      "Top three features are:  ['KPIs_met >80%', 'avg_training_score', 'previous_year_rating']\n"
     ]
    }
   ],
   "source": [
    "print(\"Top three features are: \", list(coef.nlargest(3).index))"
   ]
  },
  {
   "cell_type": "code",
   "execution_count": 85,
   "metadata": {
    "colab": {
     "base_uri": "https://localhost:8080/",
     "height": 388
    },
    "colab_type": "code",
    "id": "wjZBwQPAkgjQ",
    "outputId": "41a4e95b-6dd0-4551-905d-b27c25b048f3"
   },
   "outputs": [
    {
     "data": {
      "image/png": "[encoded data removed]",
      "text/plain": [
       "<Figure size 432x432 with 1 Axes>"
      ]
     },
     "metadata": {
      "needs_background": "light"
     },
     "output_type": "display_data"
    }
   ],
   "source": [
    "#ROC-AUC curve for Decision Tree Model\n",
    "curve_roc(dtc,X_test.as_matrix(),y_test)"
   ]
  },
  {
   "cell_type": "markdown",
   "metadata": {
    "colab_type": "text",
    "id": "mTkXqGh68ruo"
   },
   "source": [
    "# Decision Tree Classifier with GridSearchCV"
   ]
  },
  {
   "cell_type": "code",
   "execution_count": 86,
   "metadata": {
    "colab": {},
    "colab_type": "code",
    "id": "lBr_adgH84d3"
   },
   "outputs": [],
   "source": [
    "#Defining parameters for GridSearchCV of Decision Tree\n",
    "param_dtc={\"criterion\":['entropy','gini'],\n",
    "           \"max_depth\":np.arange(25,31),\n",
    "          \"max_features\":['auto','log2','sqrt'],\n",
    "          \"min_samples_split\":np.arange(8,11)}"
   ]
  },
  {
   "cell_type": "code",
   "execution_count": 87,
   "metadata": {
    "colab": {},
    "colab_type": "code",
    "id": "yu93uz1Y9YsE"
   },
   "outputs": [],
   "source": [
    "#Intializaing GridSearchCV with base estimator as Decision Tree and with 5 Fold Cross validation\n",
    "dtc_cv=GridSearchCV(estimator=dtc,param_grid=param_dtc,cv=5)"
   ]
  },
  {
   "cell_type": "code",
   "execution_count": 88,
   "metadata": {
    "colab": {
     "base_uri": "https://localhost:8080/",
     "height": 366
    },
    "colab_type": "code",
    "id": "Ow-HpdD59iD4",
    "outputId": "f230e803-3b9d-4d3f-f241-80e26596e25d"
   },
   "outputs": [
    {
     "data": {
      "text/plain": [
       "GridSearchCV(cv=5, error_score='raise-deprecating',\n",
       "             estimator=DecisionTreeClassifier(class_weight=None,\n",
       "                                              criterion='gini', max_depth=None,\n",
       "                                              max_features=None,\n",
       "                                              max_leaf_nodes=None,\n",
       "                                              min_impurity_decrease=0.0,\n",
       "                                              min_impurity_split=None,\n",
       "                                              min_samples_leaf=1,\n",
       "                                              min_samples_split=2,\n",
       "                                              min_weight_fraction_leaf=0.0,\n",
       "                                              presort=False, random_state=0,\n",
       "                                              splitter='best'),\n",
       "             iid='warn', n_jobs=None,\n",
       "             param_grid={'criterion': ['entropy', 'gini'],\n",
       "                         'max_depth': array([25, 26, 27, 28, 29, 30]),\n",
       "                         'max_features': ['auto', 'log2', 'sqrt'],\n",
       "                         'min_samples_split': array([ 8,  9, 10])},\n",
       "             pre_dispatch='2*n_jobs', refit=True, return_train_score=False,\n",
       "             scoring=None, verbose=0)"
      ]
     },
     "execution_count": 88,
     "metadata": {},
     "output_type": "execute_result"
    }
   ],
   "source": [
    "#Applying GridSearchCV model on Training set\n",
    "dtc_cv.fit(X_train,y_train)"
   ]
  },
  {
   "cell_type": "code",
   "execution_count": 89,
   "metadata": {
    "colab": {
     "base_uri": "https://localhost:8080/",
     "height": 127
    },
    "colab_type": "code",
    "id": "cRlbacEv9kmC",
    "outputId": "4c1b4434-f051-4d4e-e97b-cf8473b8114a"
   },
   "outputs": [
    {
     "data": {
      "text/plain": [
       "DecisionTreeClassifier(class_weight=None, criterion='entropy', max_depth=28,\n",
       "                       max_features='auto', max_leaf_nodes=None,\n",
       "                       min_impurity_decrease=0.0, min_impurity_split=None,\n",
       "                       min_samples_leaf=1, min_samples_split=8,\n",
       "                       min_weight_fraction_leaf=0.0, presort=False,\n",
       "                       random_state=0, splitter='best')"
      ]
     },
     "execution_count": 89,
     "metadata": {},
     "output_type": "execute_result"
    }
   ],
   "source": [
    "#Best estimator (Model) from GridSearchCV of Decision Tree model\n",
    "dtc_cv.best_estimator_"
   ]
  },
  {
   "cell_type": "code",
   "execution_count": 90,
   "metadata": {
    "colab": {},
    "colab_type": "code",
    "id": "fanaDjCY-QXK"
   },
   "outputs": [],
   "source": [
    "#Prediction on test using Best Model of Decision Tree\n",
    "y_pred_dtcv=dtc_cv.best_estimator_.predict(X_test)"
   ]
  },
  {
   "cell_type": "code",
   "execution_count": 91,
   "metadata": {
    "colab": {
     "base_uri": "https://localhost:8080/",
     "height": 35
    },
    "colab_type": "code",
    "id": "Kj6dl6Kf-aAZ",
    "outputId": "fa2baf66-4730-4e8e-d70a-056c4d243a77"
   },
   "outputs": [
    {
     "data": {
      "text/plain": [
       "0.897460224784703"
      ]
     },
     "execution_count": 91,
     "metadata": {},
     "output_type": "execute_result"
    }
   ],
   "source": [
    "#Calculating Accuracy score for Best Decision Tree model\n",
    "accuracy_score(y_test,y_pred_dtcv)"
   ]
  },
  {
   "cell_type": "code",
   "execution_count": 92,
   "metadata": {
    "colab": {
     "base_uri": "https://localhost:8080/",
     "height": 35
    },
    "colab_type": "code",
    "id": "MCCPDE2g-iGe",
    "outputId": "071ab6bf-355a-4bba-aa8e-20af88edad92"
   },
   "outputs": [
    {
     "data": {
      "text/plain": [
       "0.3685393258426966"
      ]
     },
     "execution_count": 92,
     "metadata": {},
     "output_type": "execute_result"
    }
   ],
   "source": [
    "#Calculating f1 score for Best Decision Tree model\n",
    "f1_score(y_test,y_pred_dtcv)"
   ]
  },
  {
   "cell_type": "code",
   "execution_count": 93,
   "metadata": {
    "colab": {
     "base_uri": "https://localhost:8080/",
     "height": 182
    },
    "colab_type": "code",
    "id": "hW_ZqdJb-wUd",
    "outputId": "56e2856b-d985-482c-c31f-ccc2c89c6846"
   },
   "outputs": [
    {
     "name": "stdout",
     "output_type": "stream",
     "text": [
      "              precision    recall  f1-score   support\n",
      "\n",
      "           0       0.94      0.95      0.94     12548\n",
      "           1       0.38      0.36      0.37      1154\n",
      "\n",
      "    accuracy                           0.90     13702\n",
      "   macro avg       0.66      0.65      0.66     13702\n",
      "weighted avg       0.89      0.90      0.90     13702\n",
      "\n"
     ]
    }
   ],
   "source": [
    "#Printing classification report for best decision tree model for evaluation\n",
    "print(classification_report(y_test,y_pred_dtcv))"
   ]
  },
  {
   "cell_type": "code",
   "execution_count": 94,
   "metadata": {
    "colab": {
     "base_uri": "https://localhost:8080/",
     "height": 35
    },
    "colab_type": "code",
    "id": "jHdxmFZc-1vg",
    "outputId": "48204a84-d5e8-4122-b602-dc81638497be"
   },
   "outputs": [
    {
     "data": {
      "text/plain": [
       "0.6513041221535993"
      ]
     },
     "execution_count": 94,
     "metadata": {},
     "output_type": "execute_result"
    }
   ],
   "source": [
    "#ROC-AUC score for best decision tree model\n",
    "roc_auc_score(y_test,y_pred_dtcv)"
   ]
  },
  {
   "cell_type": "code",
   "execution_count": 95,
   "metadata": {
    "colab": {
     "base_uri": "https://localhost:8080/",
     "height": 392
    },
    "colab_type": "code",
    "id": "AUQ5uXGzamFq",
    "outputId": "b11c435f-1b8d-4052-a8dd-c1f160821216"
   },
   "outputs": [
    {
     "data": {
      "text/plain": [
       "<matplotlib.axes._subplots.AxesSubplot at 0x7f97ae5ac198>"
      ]
     },
     "execution_count": 95,
     "metadata": {},
     "output_type": "execute_result"
    },
    {
     "data": {
      "image/png": "[encoded data removed]",
      "text/plain": [
       "<Figure size 432x432 with 1 Axes>"
      ]
     },
     "metadata": {
      "needs_background": "light"
     },
     "output_type": "display_data"
    }
   ],
   "source": [
    "#Feature importance using best Decision Tree model\n",
    "matplotlib.rcParams['figure.figsize'] = (6,6)\n",
    "coef=pd.Series(dtc_cv.best_estimator_.feature_importances_,index=X_dt.columns)\n",
    "coef.plot(kind='barh')"
   ]
  },
  {
   "cell_type": "code",
   "execution_count": 96,
   "metadata": {
    "colab": {
     "base_uri": "https://localhost:8080/",
     "height": 35
    },
    "colab_type": "code",
    "id": "KYDZiVTuQxU6",
    "outputId": "d0f8c1d0-d652-45cf-943e-320170fe7849"
   },
   "outputs": [
    {
     "name": "stdout",
     "output_type": "stream",
     "text": [
      "Top three features are:  ['KPIs_met >80%', 'avg_training_score', 'gender']\n"
     ]
    }
   ],
   "source": [
    "print(\"Top three features are: \", list(coef.nlargest(3).index))"
   ]
  },
  {
   "cell_type": "code",
   "execution_count": 97,
   "metadata": {
    "colab": {
     "base_uri": "https://localhost:8080/",
     "height": 388
    },
    "colab_type": "code",
    "id": "B1qB41dglFMJ",
    "outputId": "d1dc19b1-27b2-4f8e-a261-af489ee54b71"
   },
   "outputs": [
    {
     "data": {
      "image/png": "[encoded data removed]",
      "text/plain": [
       "<Figure size 432x432 with 1 Axes>"
      ]
     },
     "metadata": {
      "needs_background": "light"
     },
     "output_type": "display_data"
    }
   ],
   "source": [
    "#ROC-AUC curve for best decision tree model\n",
    "curve_roc(dtc_cv.best_estimator_,X_test.as_matrix(),y_test)"
   ]
  },
  {
   "cell_type": "markdown",
   "metadata": {
    "colab_type": "text",
    "id": "n5mZzugBLfGt"
   },
   "source": [
    "# Random Forest Classifier"
   ]
  },
  {
   "cell_type": "code",
   "execution_count": 98,
   "metadata": {
    "colab": {},
    "colab_type": "code",
    "id": "iTiGEmLDLiOT"
   },
   "outputs": [],
   "source": [
    "#Initializing Random Forest Classifier model\n",
    "rfc=RandomForestClassifier(random_state=6)"
   ]
  },
  {
   "cell_type": "code",
   "execution_count": 99,
   "metadata": {
    "colab": {
     "base_uri": "https://localhost:8080/",
     "height": 146
    },
    "colab_type": "code",
    "id": "GrEZP6cpLqkr",
    "outputId": "bc6f7433-1bc2-4cc7-af88-4f4392ba7778"
   },
   "outputs": [
    {
     "data": {
      "text/plain": [
       "RandomForestClassifier(bootstrap=True, class_weight=None, criterion='gini',\n",
       "                       max_depth=None, max_features='auto', max_leaf_nodes=None,\n",
       "                       min_impurity_decrease=0.0, min_impurity_split=None,\n",
       "                       min_samples_leaf=1, min_samples_split=2,\n",
       "                       min_weight_fraction_leaf=0.0, n_estimators=10,\n",
       "                       n_jobs=None, oob_score=False, random_state=6, verbose=0,\n",
       "                       warm_start=False)"
      ]
     },
     "execution_count": 99,
     "metadata": {},
     "output_type": "execute_result"
    }
   ],
   "source": [
    "#Fitting RFC model on training (without hyper parameter tunning)\n",
    "rfc.fit(X_train,y_train)"
   ]
  },
  {
   "cell_type": "code",
   "execution_count": 100,
   "metadata": {
    "colab": {},
    "colab_type": "code",
    "id": "NkQ7VLk8Ltab"
   },
   "outputs": [],
   "source": [
    "#Predictiing values of test set using basic RFC Model\n",
    "y_pred_rfc=rfc.predict(X_test)"
   ]
  },
  {
   "cell_type": "code",
   "execution_count": 101,
   "metadata": {
    "colab": {
     "base_uri": "https://localhost:8080/",
     "height": 35
    },
    "colab_type": "code",
    "id": "lB1i4QWALxRB",
    "outputId": "88603e4f-6b97-4370-bb92-803167bcc930"
   },
   "outputs": [
    {
     "data": {
      "text/plain": [
       "0.9267990074441688"
      ]
     },
     "execution_count": 101,
     "metadata": {},
     "output_type": "execute_result"
    }
   ],
   "source": [
    "#Accuracy score of Basic RFC model\n",
    "accuracy_score(y_test,y_pred_rfc)"
   ]
  },
  {
   "cell_type": "code",
   "execution_count": 102,
   "metadata": {
    "colab": {
     "base_uri": "https://localhost:8080/",
     "height": 35
    },
    "colab_type": "code",
    "id": "tU9pTwb5L023",
    "outputId": "1cffa41b-2749-439e-9443-2b4083ddbbd0"
   },
   "outputs": [
    {
     "data": {
      "text/plain": [
       "0.4019081693500298"
      ]
     },
     "execution_count": 102,
     "metadata": {},
     "output_type": "execute_result"
    }
   ],
   "source": [
    "#f1 score fro basic RFC model\n",
    "f1_score(y_test,y_pred_rfc)"
   ]
  },
  {
   "cell_type": "code",
   "execution_count": 103,
   "metadata": {
    "colab": {
     "base_uri": "https://localhost:8080/",
     "height": 182
    },
    "colab_type": "code",
    "id": "J79Y70pIL426",
    "outputId": "356f5cd0-1bce-4bd2-f87e-2a0961de9db8"
   },
   "outputs": [
    {
     "name": "stdout",
     "output_type": "stream",
     "text": [
      "              precision    recall  f1-score   support\n",
      "\n",
      "           0       0.94      0.99      0.96     12548\n",
      "           1       0.64      0.29      0.40      1154\n",
      "\n",
      "    accuracy                           0.93     13702\n",
      "   macro avg       0.79      0.64      0.68     13702\n",
      "weighted avg       0.91      0.93      0.91     13702\n",
      "\n"
     ]
    }
   ],
   "source": [
    "#Classification report for basic RFC model\n",
    "print(classification_report(y_test,y_pred_rfc))"
   ]
  },
  {
   "cell_type": "code",
   "execution_count": 104,
   "metadata": {
    "colab": {
     "base_uri": "https://localhost:8080/",
     "height": 35
    },
    "colab_type": "code",
    "id": "ZQ6EOfXgL7mL",
    "outputId": "41a6bc77-3093-45ef-f39f-79c21383aadc"
   },
   "outputs": [
    {
     "data": {
      "text/plain": [
       "0.6386023251304247"
      ]
     },
     "execution_count": 104,
     "metadata": {},
     "output_type": "execute_result"
    }
   ],
   "source": [
    "#ROC-AUC score for basic RFC model\n",
    "roc_auc_score(y_test,y_pred_rfc)"
   ]
  },
  {
   "cell_type": "code",
   "execution_count": 105,
   "metadata": {
    "colab": {
     "base_uri": "https://localhost:8080/",
     "height": 392
    },
    "colab_type": "code",
    "id": "LiqtpbDaazfe",
    "outputId": "dd7431d7-0b42-4057-ecb7-e10d8ffef301"
   },
   "outputs": [
    {
     "data": {
      "text/plain": [
       "<matplotlib.axes._subplots.AxesSubplot at 0x7f97ae49acf8>"
      ]
     },
     "execution_count": 105,
     "metadata": {},
     "output_type": "execute_result"
    },
    {
     "data": {
      "image/png": "[encoded data removed]",
      "text/plain": [
       "<Figure size 432x432 with 1 Axes>"
      ]
     },
     "metadata": {
      "needs_background": "light"
     },
     "output_type": "display_data"
    }
   ],
   "source": [
    "#Feature imporatance using basic RFC model\n",
    "matplotlib.rcParams['figure.figsize'] = (6,6)\n",
    "coef=pd.Series(rfc.feature_importances_,index=X_dt.columns)\n",
    "coef.plot(kind='barh')"
   ]
  },
  {
   "cell_type": "code",
   "execution_count": 106,
   "metadata": {
    "colab": {
     "base_uri": "https://localhost:8080/",
     "height": 35
    },
    "colab_type": "code",
    "id": "JbZlDNJzQzgY",
    "outputId": "8c5b737b-33c6-447b-d20b-8abfbc4a8024"
   },
   "outputs": [
    {
     "name": "stdout",
     "output_type": "stream",
     "text": [
      "Top three features are:  ['KPIs_met >80%', 'avg_training_score', 'previous_year_rating']\n"
     ]
    }
   ],
   "source": [
    "print(\"Top three features are: \", list(coef.nlargest(3).index))"
   ]
  },
  {
   "cell_type": "code",
   "execution_count": 107,
   "metadata": {
    "colab": {
     "base_uri": "https://localhost:8080/",
     "height": 388
    },
    "colab_type": "code",
    "id": "DfWLUFpjltOG",
    "outputId": "b22e3ca7-0df8-44e1-b848-1e75c4e266af"
   },
   "outputs": [
    {
     "data": {
      "image/png": "[encoded data removed]",
      "text/plain": [
       "<Figure size 432x432 with 1 Axes>"
      ]
     },
     "metadata": {
      "needs_background": "light"
     },
     "output_type": "display_data"
    }
   ],
   "source": [
    "#ROC-AUC curve for basic RFC model\n",
    "curve_roc(rfc,X_test.as_matrix(),y_test)"
   ]
  },
  {
   "cell_type": "markdown",
   "metadata": {
    "colab_type": "text",
    "id": "I-73uZEMMCBA"
   },
   "source": [
    "# Random Forest Classifier using GridSearchCV"
   ]
  },
  {
   "cell_type": "code",
   "execution_count": 108,
   "metadata": {
    "colab": {},
    "colab_type": "code",
    "id": "QkO5CXT_MGqT"
   },
   "outputs": [],
   "source": [
    "#Defining Hyper parameters for GridSearchCV of Random Forest Classifier\n",
    "param_rfc={\"criterion\":['entropy','gini'],\n",
    "           \"max_depth\":np.arange(20,24),\n",
    "          \"max_features\":['auto','log2','sqrt'],\n",
    "          \"min_samples_split\":np.arange(7,10)}"
   ]
  },
  {
   "cell_type": "code",
   "execution_count": 109,
   "metadata": {
    "colab": {},
    "colab_type": "code",
    "id": "NebrSwTeMUrM"
   },
   "outputs": [],
   "source": [
    "#Intializaing GridSearchCV model with RFC as base estimator and 5-fold cross validation\n",
    "rfc_cv=GridSearchCV(estimator=rfc,param_grid=param_rfc,cv=5)"
   ]
  },
  {
   "cell_type": "code",
   "execution_count": 110,
   "metadata": {
    "colab": {
     "base_uri": "https://localhost:8080/",
     "height": 384
    },
    "colab_type": "code",
    "id": "Bhe5U3OlMcLl",
    "outputId": "2c3c535b-d278-4bb0-d7ad-c914fb907d9f"
   },
   "outputs": [
    {
     "data": {
      "text/plain": [
       "GridSearchCV(cv=5, error_score='raise-deprecating',\n",
       "             estimator=RandomForestClassifier(bootstrap=True, class_weight=None,\n",
       "                                              criterion='gini', max_depth=None,\n",
       "                                              max_features='auto',\n",
       "                                              max_leaf_nodes=None,\n",
       "                                              min_impurity_decrease=0.0,\n",
       "                                              min_impurity_split=None,\n",
       "                                              min_samples_leaf=1,\n",
       "                                              min_samples_split=2,\n",
       "                                              min_weight_fraction_leaf=0.0,\n",
       "                                              n_estimators=10, n_jobs=None,\n",
       "                                              oob_score=False, random_state=6,\n",
       "                                              verbose=0, warm_start=False),\n",
       "             iid='warn', n_jobs=None,\n",
       "             param_grid={'criterion': ['entropy', 'gini'],\n",
       "                         'max_depth': array([20, 21, 22, 23]),\n",
       "                         'max_features': ['auto', 'log2', 'sqrt'],\n",
       "                         'min_samples_split': array([7, 8, 9])},\n",
       "             pre_dispatch='2*n_jobs', refit=True, return_train_score=False,\n",
       "             scoring=None, verbose=0)"
      ]
     },
     "execution_count": 110,
     "metadata": {},
     "output_type": "execute_result"
    }
   ],
   "source": [
    "#Fitting GridSearchCV RFC model on training set\n",
    "rfc_cv.fit(X_train,y_train)"
   ]
  },
  {
   "cell_type": "code",
   "execution_count": 111,
   "metadata": {
    "colab": {
     "base_uri": "https://localhost:8080/",
     "height": 146
    },
    "colab_type": "code",
    "id": "C6YN0vTIMgqN",
    "outputId": "6d28bf34-d7d2-4286-aa74-33aff95bcffe"
   },
   "outputs": [
    {
     "data": {
      "text/plain": [
       "RandomForestClassifier(bootstrap=True, class_weight=None, criterion='entropy',\n",
       "                       max_depth=22, max_features='auto', max_leaf_nodes=None,\n",
       "                       min_impurity_decrease=0.0, min_impurity_split=None,\n",
       "                       min_samples_leaf=1, min_samples_split=8,\n",
       "                       min_weight_fraction_leaf=0.0, n_estimators=10,\n",
       "                       n_jobs=None, oob_score=False, random_state=6, verbose=0,\n",
       "                       warm_start=False)"
      ]
     },
     "execution_count": 111,
     "metadata": {},
     "output_type": "execute_result"
    }
   ],
   "source": [
    "#Best estimator for RFC after applying GridSearchCV\n",
    "rfc_cv.best_estimator_"
   ]
  },
  {
   "cell_type": "code",
   "execution_count": 112,
   "metadata": {
    "colab": {},
    "colab_type": "code",
    "id": "4N9F39qXMmp3"
   },
   "outputs": [],
   "source": [
    "#Predicting values for test set using best model of RFC\n",
    "y_pred_rfccv=rfc_cv.best_estimator_.predict(X_test)"
   ]
  },
  {
   "cell_type": "code",
   "execution_count": 113,
   "metadata": {
    "colab": {
     "base_uri": "https://localhost:8080/",
     "height": 35
    },
    "colab_type": "code",
    "id": "7XERxfT2NpBq",
    "outputId": "94fb5dbe-a1bb-44de-fb5c-585ba625430b"
   },
   "outputs": [
    {
     "data": {
      "text/plain": [
       "0.9286965406509998"
      ]
     },
     "execution_count": 113,
     "metadata": {},
     "output_type": "execute_result"
    }
   ],
   "source": [
    "#Accuracy score for best model of RFC\n",
    "accuracy_score(y_test,y_pred_rfccv)"
   ]
  },
  {
   "cell_type": "code",
   "execution_count": 114,
   "metadata": {
    "colab": {
     "base_uri": "https://localhost:8080/",
     "height": 35
    },
    "colab_type": "code",
    "id": "C7E0z5EtNuDK",
    "outputId": "4ae633b8-3848-4fe7-b7eb-5dbc18dbb2a2"
   },
   "outputs": [
    {
     "data": {
      "text/plain": [
       "0.41601912731619844"
      ]
     },
     "execution_count": 114,
     "metadata": {},
     "output_type": "execute_result"
    }
   ],
   "source": [
    "#f1 score for best model of RFC\n",
    "f1_score(y_test,y_pred_rfccv)"
   ]
  },
  {
   "cell_type": "code",
   "execution_count": 115,
   "metadata": {
    "colab": {
     "base_uri": "https://localhost:8080/",
     "height": 182
    },
    "colab_type": "code",
    "id": "IgJ_UfnzNzHv",
    "outputId": "0d98d83c-fc78-412a-b265-2b8378059642"
   },
   "outputs": [
    {
     "name": "stdout",
     "output_type": "stream",
     "text": [
      "              precision    recall  f1-score   support\n",
      "\n",
      "           0       0.94      0.99      0.96     12548\n",
      "           1       0.67      0.30      0.42      1154\n",
      "\n",
      "    accuracy                           0.93     13702\n",
      "   macro avg       0.80      0.64      0.69     13702\n",
      "weighted avg       0.92      0.93      0.92     13702\n",
      "\n"
     ]
    }
   ],
   "source": [
    "#Printing classification report best model of RFC\n",
    "print(classification_report(y_test,y_pred_rfccv))"
   ]
  },
  {
   "cell_type": "code",
   "execution_count": 116,
   "metadata": {
    "colab": {
     "base_uri": "https://localhost:8080/",
     "height": 35
    },
    "colab_type": "code",
    "id": "ARrpfzadN1eR",
    "outputId": "50a59c3c-08f0-4b78-f2ed-8fedb6badb14"
   },
   "outputs": [
    {
     "data": {
      "text/plain": [
       "0.6439660611397813"
      ]
     },
     "execution_count": 116,
     "metadata": {},
     "output_type": "execute_result"
    }
   ],
   "source": [
    "#ROC-AUC score for best model of RFC\n",
    "roc_auc_score(y_test,y_pred_rfccv)"
   ]
  },
  {
   "cell_type": "code",
   "execution_count": 117,
   "metadata": {
    "colab": {
     "base_uri": "https://localhost:8080/",
     "height": 392
    },
    "colab_type": "code",
    "id": "whkSpkWxN4QQ",
    "outputId": "87aaf72b-9db3-447a-9bf0-cd6b542ae886"
   },
   "outputs": [
    {
     "data": {
      "text/plain": [
       "<matplotlib.axes._subplots.AxesSubplot at 0x7f97ae3ef7f0>"
      ]
     },
     "execution_count": 117,
     "metadata": {},
     "output_type": "execute_result"
    },
    {
     "data": {
      "image/png": "[encoded data removed]",
      "text/plain": [
       "<Figure size 432x432 with 1 Axes>"
      ]
     },
     "metadata": {
      "needs_background": "light"
     },
     "output_type": "display_data"
    }
   ],
   "source": [
    "#Feature importance for best model of RFC\n",
    "matplotlib.rcParams['figure.figsize'] = (6,6)\n",
    "coef=pd.Series(rfc_cv.best_estimator_.feature_importances_,index=X_dt.columns)\n",
    "coef.plot(kind='barh')"
   ]
  },
  {
   "cell_type": "code",
   "execution_count": 118,
   "metadata": {
    "colab": {
     "base_uri": "https://localhost:8080/",
     "height": 35
    },
    "colab_type": "code",
    "id": "I7p3qvV_Q2a3",
    "outputId": "709377c7-da07-4d3b-bae5-b4f912a91051"
   },
   "outputs": [
    {
     "name": "stdout",
     "output_type": "stream",
     "text": [
      "Top three features are:  ['KPIs_met >80%', 'previous_year_rating', 'avg_training_score']\n"
     ]
    }
   ],
   "source": [
    "print(\"Top three features are: \", list(coef.nlargest(3).index))"
   ]
  },
  {
   "cell_type": "code",
   "execution_count": 119,
   "metadata": {
    "colab": {
     "base_uri": "https://localhost:8080/",
     "height": 388
    },
    "colab_type": "code",
    "id": "dc8yJPFyTsZF",
    "outputId": "122c3dad-de32-461e-b21f-4c8f0274edd2"
   },
   "outputs": [
    {
     "data": {
      "image/png": "[encoded data removed]",
      "text/plain": [
       "<Figure size 432x432 with 1 Axes>"
      ]
     },
     "metadata": {
      "needs_background": "light"
     },
     "output_type": "display_data"
    }
   ],
   "source": [
    "#ROC-AUC score for best model of RFC\n",
    "curve_roc(rfc_cv.best_estimator_,X_test.as_matrix(),y_test)"
   ]
  },
  {
   "cell_type": "markdown",
   "metadata": {
    "colab_type": "text",
    "id": "vSim0jctbKN2"
   },
   "source": [
    "# XGBoost Classifier"
   ]
  },
  {
   "cell_type": "code",
   "execution_count": 120,
   "metadata": {
    "colab": {},
    "colab_type": "code",
    "id": "uxrCg9oWbMA6"
   },
   "outputs": [],
   "source": [
    "#Initializing XGBoost model with random state 0\n",
    "xgb=XGBClassifier(random_state=0)"
   ]
  },
  {
   "cell_type": "code",
   "execution_count": 121,
   "metadata": {
    "colab": {
     "base_uri": "https://localhost:8080/",
     "height": 146
    },
    "colab_type": "code",
    "id": "XVYQATFMbOIA",
    "outputId": "32554008-c4c7-4a74-b7cb-2744840ffeb6"
   },
   "outputs": [
    {
     "data": {
      "text/plain": [
       "XGBClassifier(base_score=0.5, booster='gbtree', colsample_bylevel=1,\n",
       "              colsample_bynode=1, colsample_bytree=1, gamma=0,\n",
       "              learning_rate=0.1, max_delta_step=0, max_depth=3,\n",
       "              min_child_weight=1, missing=None, n_estimators=100, n_jobs=1,\n",
       "              nthread=None, objective='binary:logistic', random_state=0,\n",
       "              reg_alpha=0, reg_lambda=1, scale_pos_weight=1, seed=None,\n",
       "              silent=None, subsample=1, verbosity=1)"
      ]
     },
     "execution_count": 121,
     "metadata": {},
     "output_type": "execute_result"
    }
   ],
   "source": [
    "#Fitting basic XGBoost model on training set\n",
    "xgb.fit(X_train,y_train)"
   ]
  },
  {
   "cell_type": "code",
   "execution_count": 122,
   "metadata": {
    "colab": {},
    "colab_type": "code",
    "id": "t7OBDD8abQYC"
   },
   "outputs": [],
   "source": [
    "#Prediciting values for test set using basic XGBoost model\n",
    "y_pred_xgb=xgb.predict(X_test.as_matrix())"
   ]
  },
  {
   "cell_type": "code",
   "execution_count": 123,
   "metadata": {
    "colab": {
     "base_uri": "https://localhost:8080/",
     "height": 35
    },
    "colab_type": "code",
    "id": "ssU4rTB8bVvx",
    "outputId": "05e2b5a4-a994-45ff-ae35-bae5d8b343e5"
   },
   "outputs": [
    {
     "data": {
      "text/plain": [
       "0.9226390307984236"
      ]
     },
     "execution_count": 123,
     "metadata": {},
     "output_type": "execute_result"
    }
   ],
   "source": [
    "#Accuracy score for basic XGBoost model\n",
    "accuracy_score(y_test,y_pred_xgb)"
   ]
  },
  {
   "cell_type": "code",
   "execution_count": 124,
   "metadata": {
    "colab": {
     "base_uri": "https://localhost:8080/",
     "height": 35
    },
    "colab_type": "code",
    "id": "0gi0XoJKbdXd",
    "outputId": "ea0d60e3-2dc6-4187-845d-224153c71656"
   },
   "outputs": [
    {
     "data": {
      "text/plain": [
       "0.3299620733249052"
      ]
     },
     "execution_count": 124,
     "metadata": {},
     "output_type": "execute_result"
    }
   ],
   "source": [
    "#f1 score for basic XGBoost model\n",
    "f1_score(y_test,y_pred_xgb)"
   ]
  },
  {
   "cell_type": "code",
   "execution_count": 125,
   "metadata": {
    "colab": {
     "base_uri": "https://localhost:8080/",
     "height": 182
    },
    "colab_type": "code",
    "id": "q6KgT2Yhbhks",
    "outputId": "56f81e43-1f5d-4988-f511-ea6cd34b3a64"
   },
   "outputs": [
    {
     "name": "stdout",
     "output_type": "stream",
     "text": [
      "              precision    recall  f1-score   support\n",
      "\n",
      "           0       0.93      0.99      0.96     12548\n",
      "           1       0.61      0.23      0.33      1154\n",
      "\n",
      "    accuracy                           0.92     13702\n",
      "   macro avg       0.77      0.61      0.64     13702\n",
      "weighted avg       0.91      0.92      0.91     13702\n",
      "\n"
     ]
    }
   ],
   "source": [
    "#Printing classification report for basic XGBoost model for evaluation\n",
    "print(classification_report(y_test,y_pred_xgb))"
   ]
  },
  {
   "cell_type": "code",
   "execution_count": 126,
   "metadata": {
    "colab": {
     "base_uri": "https://localhost:8080/",
     "height": 35
    },
    "colab_type": "code",
    "id": "QaNf9E1jbkvW",
    "outputId": "c0583bb4-4f5d-4d4e-cfb3-8c0367e52f23"
   },
   "outputs": [
    {
     "data": {
      "text/plain": [
       "0.6064304750865861"
      ]
     },
     "execution_count": 126,
     "metadata": {},
     "output_type": "execute_result"
    }
   ],
   "source": [
    "#ROC-AUC score for basic XGBoost model\n",
    "roc_auc_score(y_test,y_pred_xgb)"
   ]
  },
  {
   "cell_type": "code",
   "execution_count": 127,
   "metadata": {
    "colab": {
     "base_uri": "https://localhost:8080/",
     "height": 392
    },
    "colab_type": "code",
    "id": "44M75StvbnHa",
    "outputId": "8fe8881c-87a2-47ba-bc57-31870ec4cf86"
   },
   "outputs": [
    {
     "data": {
      "text/plain": [
       "<matplotlib.axes._subplots.AxesSubplot at 0x7f97ae2d8cf8>"
      ]
     },
     "execution_count": 127,
     "metadata": {},
     "output_type": "execute_result"
    },
    {
     "data": {
      "image/png": "[encoded data removed]",
      "text/plain": [
       "<Figure size 432x432 with 1 Axes>"
      ]
     },
     "metadata": {
      "needs_background": "light"
     },
     "output_type": "display_data"
    }
   ],
   "source": [
    "#Feature importance using basic XGBoost model\n",
    "import matplotlib\n",
    "matplotlib.rcParams['figure.figsize'] = (6,6)\n",
    "coef=pd.Series(xgb.feature_importances_,index=X_dt.columns)\n",
    "coef.plot(kind='barh')"
   ]
  },
  {
   "cell_type": "code",
   "execution_count": 128,
   "metadata": {
    "colab": {
     "base_uri": "https://localhost:8080/",
     "height": 35
    },
    "colab_type": "code",
    "id": "fkrx0wl8Q4HU",
    "outputId": "17688bf2-2e31-4852-c934-e996cf5c3246"
   },
   "outputs": [
    {
     "name": "stdout",
     "output_type": "stream",
     "text": [
      "Top three features are:  ['KPIs_met >80%', 'gender', 'recruitment_channel']\n"
     ]
    }
   ],
   "source": [
    "print(\"Top three features are: \", list(coef.nlargest(3).index))"
   ]
  },
  {
   "cell_type": "code",
   "execution_count": 129,
   "metadata": {
    "colab": {
     "base_uri": "https://localhost:8080/",
     "height": 388
    },
    "colab_type": "code",
    "id": "yoy_AC1yTc4D",
    "outputId": "feb69041-2f95-4384-d38f-eef2e465291d"
   },
   "outputs": [
    {
     "data": {
      "image/png": "[encoded data removed]",
      "text/plain": [
       "<Figure size 432x432 with 1 Axes>"
      ]
     },
     "metadata": {
      "needs_background": "light"
     },
     "output_type": "display_data"
    }
   ],
   "source": [
    "#ROC-AUC curve for basic XGBoost model\n",
    "curve_roc(xgb,X_test.as_matrix(),y_test)"
   ]
  },
  {
   "cell_type": "markdown",
   "metadata": {
    "colab_type": "text",
    "id": "E23F8BCJbv8W"
   },
   "source": [
    "# XGBoost Classifier using GridSearchCV"
   ]
  },
  {
   "cell_type": "code",
   "execution_count": 130,
   "metadata": {
    "colab": {},
    "colab_type": "code",
    "id": "elj7Tlfybt_J"
   },
   "outputs": [],
   "source": [
    "#Defining hyper parameters for GridSearchCV of XGBoost Classifier\n",
    "param_xgb={\"max_depth\":np.arange(11,13),\n",
    "          \"learning_rate\":np.arange(0.01,0.1,0.01),\n",
    "          \"n_estimators\":[250,300]}"
   ]
  },
  {
   "cell_type": "code",
   "execution_count": 131,
   "metadata": {
    "colab": {},
    "colab_type": "code",
    "id": "OlbbBUvDb2_E"
   },
   "outputs": [],
   "source": [
    "#Initializing GridSearchCV model with base estimator as XGBoost Classifier and 5-Fold Cross validation\n",
    "xgb_cv=GridSearchCV(estimator=xgb,param_grid=param_xgb,cv=5)"
   ]
  },
  {
   "cell_type": "code",
   "execution_count": 132,
   "metadata": {
    "colab": {},
    "colab_type": "code",
    "id": "c9KalqjIb3mC"
   },
   "outputs": [
    {
     "data": {
      "text/plain": [
       "GridSearchCV(cv=5, error_score='raise-deprecating',\n",
       "             estimator=XGBClassifier(base_score=0.5, booster='gbtree',\n",
       "                                     colsample_bylevel=1, colsample_bynode=1,\n",
       "                                     colsample_bytree=1, gamma=0,\n",
       "                                     learning_rate=0.1, max_delta_step=0,\n",
       "                                     max_depth=3, min_child_weight=1,\n",
       "                                     missing=None, n_estimators=100, n_jobs=1,\n",
       "                                     nthread=None, objective='binary:logistic',\n",
       "                                     random_state=0, reg_alpha=0, reg_lambda=1,\n",
       "                                     scale_pos_weight=1, seed=None, silent=None,\n",
       "                                     subsample=1, verbosity=1),\n",
       "             iid='warn', n_jobs=None,\n",
       "             param_grid={'learning_rate': array([0.01, 0.02, 0.03, 0.04, 0.05, 0.06, 0.07, 0.08, 0.09]),\n",
       "                         'max_depth': array([11, 12]),\n",
       "                         'n_estimators': [250, 300]},\n",
       "             pre_dispatch='2*n_jobs', refit=True, return_train_score=False,\n",
       "             scoring=None, verbose=0)"
      ]
     },
     "execution_count": 132,
     "metadata": {},
     "output_type": "execute_result"
    }
   ],
   "source": [
    "#Fitting GridSearchCV model on training set\n",
    "xgb_cv.fit(X_train,y_train)"
   ]
  },
  {
   "cell_type": "code",
   "execution_count": 133,
   "metadata": {
    "colab": {},
    "colab_type": "code",
    "id": "76xrEes1c7TP"
   },
   "outputs": [
    {
     "data": {
      "text/plain": [
       "XGBClassifier(base_score=0.5, booster='gbtree', colsample_bylevel=1,\n",
       "              colsample_bynode=1, colsample_bytree=1, gamma=0,\n",
       "              learning_rate=0.04, max_delta_step=0, max_depth=12,\n",
       "              min_child_weight=1, missing=None, n_estimators=250, n_jobs=1,\n",
       "              nthread=None, objective='binary:logistic', random_state=0,\n",
       "              reg_alpha=0, reg_lambda=1, scale_pos_weight=1, seed=None,\n",
       "              silent=None, subsample=1, verbosity=1)"
      ]
     },
     "execution_count": 133,
     "metadata": {},
     "output_type": "execute_result"
    }
   ],
   "source": [
    "#Best Estimator (Model) after GridSearchCV of XGBoost Classifier\n",
    "xgb_cv.best_estimator_"
   ]
  },
  {
   "cell_type": "code",
   "execution_count": 134,
   "metadata": {
    "colab": {},
    "colab_type": "code",
    "id": "C9-E9a5ZdBb3"
   },
   "outputs": [],
   "source": [
    "#Predicting values for test using best model of XGBoost \n",
    "y_pred_xgbcv=xgb_cv.best_estimator_.predict(X_test.as_matrix())"
   ]
  },
  {
   "cell_type": "code",
   "execution_count": 135,
   "metadata": {
    "colab": {},
    "colab_type": "code",
    "id": "hUyfu2sHyndR"
   },
   "outputs": [
    {
     "data": {
      "text/plain": [
       "0.9397168296599037"
      ]
     },
     "execution_count": 135,
     "metadata": {},
     "output_type": "execute_result"
    }
   ],
   "source": [
    "#Accuracy score for best model XGBoost Classifier\n",
    "accuracy_score(y_test,y_pred_xgbcv)"
   ]
  },
  {
   "cell_type": "code",
   "execution_count": 136,
   "metadata": {
    "colab": {},
    "colab_type": "code",
    "id": "Q0kkTf6xyul6"
   },
   "outputs": [
    {
     "data": {
      "text/plain": [
       "0.4987864077669903"
      ]
     },
     "execution_count": 136,
     "metadata": {},
     "output_type": "execute_result"
    }
   ],
   "source": [
    "#f1 score for best model of XGBoost Classifier\n",
    "f1_score(y_test,y_pred_xgbcv)"
   ]
  },
  {
   "cell_type": "code",
   "execution_count": 137,
   "metadata": {
    "colab": {},
    "colab_type": "code",
    "id": "hnWvOIPTy1yx"
   },
   "outputs": [
    {
     "name": "stdout",
     "output_type": "stream",
     "text": [
      "              precision    recall  f1-score   support\n",
      "\n",
      "           0       0.94      0.99      0.97     12548\n",
      "           1       0.83      0.36      0.50      1154\n",
      "\n",
      "    accuracy                           0.94     13702\n",
      "   macro avg       0.89      0.67      0.73     13702\n",
      "weighted avg       0.93      0.94      0.93     13702\n",
      "\n"
     ]
    }
   ],
   "source": [
    "#Classification report for best model of XGBoost Classifier\n",
    "print(classification_report(y_test,y_pred_xgbcv))"
   ]
  },
  {
   "cell_type": "code",
   "execution_count": 138,
   "metadata": {
    "colab": {},
    "colab_type": "code",
    "id": "VR9gXTuxy4wm"
   },
   "outputs": [
    {
     "data": {
      "text/plain": [
       "0.674768956531011"
      ]
     },
     "execution_count": 138,
     "metadata": {},
     "output_type": "execute_result"
    }
   ],
   "source": [
    "#ROC-AUC score for best XGBoost Classifier\n",
    "roc_auc_score(y_test,y_pred_xgbcv)"
   ]
  },
  {
   "cell_type": "code",
   "execution_count": 139,
   "metadata": {
    "colab": {},
    "colab_type": "code",
    "id": "6ZJbIMmzL-jq"
   },
   "outputs": [
    {
     "data": {
      "text/plain": [
       "Text(0.5, 1.0, 'Feature Importance for XGBoost Best Estimator')"
      ]
     },
     "execution_count": 139,
     "metadata": {},
     "output_type": "execute_result"
    },
    {
     "data": {
      "image/png": "[encoded data removed]",
      "text/plain": [
       "<Figure size 432x432 with 1 Axes>"
      ]
     },
     "metadata": {
      "needs_background": "light"
     },
     "output_type": "display_data"
    }
   ],
   "source": [
    "#Feature importance using best XGBoost Classifier\n",
    "matplotlib.rcParams['figure.figsize'] = (6,6)\n",
    "coef=pd.Series(xgb_cv.best_estimator_.feature_importances_,index=X_dt.columns)\n",
    "coef.plot(kind='barh')\n",
    "plt.xlabel(\"Feature Importance value\")\n",
    "plt.ylabel(\"Features\")\n",
    "plt.title(\"Feature Importance for XGBoost Best Estimator\")"
   ]
  },
  {
   "cell_type": "code",
   "execution_count": 140,
   "metadata": {
    "colab": {},
    "colab_type": "code",
    "id": "XUiu8rYaQ6mt"
   },
   "outputs": [
    {
     "name": "stdout",
     "output_type": "stream",
     "text": [
      "Top three features are:  ['KPIs_met >80%', 'awards_won?', 'gender']\n"
     ]
    }
   ],
   "source": [
    "print(\"Top three features are: \", list(coef.nlargest(3).index))"
   ]
  },
  {
   "cell_type": "code",
   "execution_count": 141,
   "metadata": {
    "colab": {},
    "colab_type": "code",
    "id": "43jVYhRKSKKh"
   },
   "outputs": [
    {
     "data": {
      "image/png": "[encoded data removed]",
      "text/plain": [
       "<Figure size 432x432 with 1 Axes>"
      ]
     },
     "metadata": {
      "needs_background": "light"
     },
     "output_type": "display_data"
    }
   ],
   "source": [
    "#ROC-AUC curve for Best XGBoost Classifier model\n",
    "curve_roc(xgb_cv.best_estimator_,X_test.as_matrix(),y_test)"
   ]
  },
  {
   "cell_type": "markdown",
   "metadata": {
    "colab_type": "text",
    "id": "emvw6fOAy5lH"
   },
   "source": [
    "# Naive Bayes"
   ]
  },
  {
   "cell_type": "code",
   "execution_count": 142,
   "metadata": {
    "colab": {},
    "colab_type": "code",
    "id": "tShwQniSTIZj"
   },
   "outputs": [],
   "source": [
    "#Intializing Gaussian Naive Bayes Model\n",
    "nb=GaussianNB()"
   ]
  },
  {
   "cell_type": "code",
   "execution_count": 143,
   "metadata": {
    "colab": {
     "base_uri": "https://localhost:8080/",
     "height": 35
    },
    "colab_type": "code",
    "id": "EXXw7afZy-ep",
    "outputId": "35363a84-c768-4c63-ba48-ba1a70404bb2"
   },
   "outputs": [
    {
     "data": {
      "text/plain": [
       "GaussianNB(priors=None, var_smoothing=1e-09)"
      ]
     },
     "execution_count": 143,
     "metadata": {},
     "output_type": "execute_result"
    }
   ],
   "source": [
    "#Fitting Gaussian Naive Bayes Model on Training set\n",
    "nb.fit(X_train,y_train)"
   ]
  },
  {
   "cell_type": "code",
   "execution_count": 144,
   "metadata": {
    "colab": {},
    "colab_type": "code",
    "id": "JR_7e9zay_nv"
   },
   "outputs": [],
   "source": [
    "#Predicting values using Gaussian Naive Bayes model\n",
    "y_pred_nb=nb.predict(X_test)"
   ]
  },
  {
   "cell_type": "code",
   "execution_count": 145,
   "metadata": {
    "colab": {
     "base_uri": "https://localhost:8080/",
     "height": 35
    },
    "colab_type": "code",
    "id": "FdK0tk0FzMUZ",
    "outputId": "3f92dc7b-d922-461d-af65-4e9df5ad98c4"
   },
   "outputs": [
    {
     "data": {
      "text/plain": [
       "0.7760180995475113"
      ]
     },
     "execution_count": 145,
     "metadata": {},
     "output_type": "execute_result"
    }
   ],
   "source": [
    "#Accuracy score for Gaussian Naive Bayes model\n",
    "accuracy_score(y_test,y_pred_nb)"
   ]
  },
  {
   "cell_type": "code",
   "execution_count": 146,
   "metadata": {
    "colab": {
     "base_uri": "https://localhost:8080/",
     "height": 35
    },
    "colab_type": "code",
    "id": "ueOQKmsfzRV4",
    "outputId": "99be836c-aa44-41b3-978b-b155dfe9fd99"
   },
   "outputs": [
    {
     "data": {
      "text/plain": [
       "0.29819345986736795"
      ]
     },
     "execution_count": 146,
     "metadata": {},
     "output_type": "execute_result"
    }
   ],
   "source": [
    "#f1 score for Gaussian Naive Bayes Model\n",
    "f1_score(y_test,y_pred_nb)"
   ]
  },
  {
   "cell_type": "code",
   "execution_count": 147,
   "metadata": {
    "colab": {
     "base_uri": "https://localhost:8080/",
     "height": 182
    },
    "colab_type": "code",
    "id": "5UZxElY4zVgI",
    "outputId": "1012a0d3-e0e3-4626-cbf3-2555fa186480"
   },
   "outputs": [
    {
     "name": "stdout",
     "output_type": "stream",
     "text": [
      "              precision    recall  f1-score   support\n",
      "\n",
      "           0       0.95      0.80      0.87     12548\n",
      "           1       0.20      0.56      0.30      1154\n",
      "\n",
      "    accuracy                           0.78     13702\n",
      "   macro avg       0.58      0.68      0.58     13702\n",
      "weighted avg       0.89      0.78      0.82     13702\n",
      "\n"
     ]
    }
   ],
   "source": [
    "#Classification report for Gaussian Naive Bayes Model\n",
    "print(classification_report(y_test,y_pred_nb))"
   ]
  },
  {
   "cell_type": "code",
   "execution_count": 148,
   "metadata": {
    "colab": {
     "base_uri": "https://localhost:8080/",
     "height": 35
    },
    "colab_type": "code",
    "id": "G0BBMp5lzblr",
    "outputId": "13bb7c92-2d5d-46ec-c5fc-a1f369a46861"
   },
   "outputs": [
    {
     "data": {
      "text/plain": [
       "0.6802084501579791"
      ]
     },
     "execution_count": 148,
     "metadata": {},
     "output_type": "execute_result"
    }
   ],
   "source": [
    "#ROC-AUC score for Gaussian Naive Bayes model\n",
    "roc_auc_score(y_test,y_pred_nb)"
   ]
  },
  {
   "cell_type": "code",
   "execution_count": 149,
   "metadata": {
    "colab": {
     "base_uri": "https://localhost:8080/",
     "height": 388
    },
    "colab_type": "code",
    "id": "26z5YteIziyr",
    "outputId": "50c9f248-2828-42f4-fdd8-56682f390ebc"
   },
   "outputs": [
    {
     "data": {
      "image/png": "[encoded data removed]",
      "text/plain": [
       "<Figure size 432x432 with 1 Axes>"
      ]
     },
     "metadata": {
      "needs_background": "light"
     },
     "output_type": "display_data"
    }
   ],
   "source": [
    "#ROC-AUC score for Gaussian Naive Bayes model\n",
    "curve_roc(nb,X_test.as_matrix(),y_test)"
   ]
  },
  {
   "cell_type": "code",
   "execution_count": 150,
   "metadata": {
    "colab": {},
    "colab_type": "code",
    "id": "5RmN3K6srLyp"
   },
   "outputs": [],
   "source": [
    "acc_scores=[0.7860896219529996, 0.7857247117209166, 0.8931542840461246, 0.897460224784703, 0.9267990074441688, 0.9246825280980878, 0.9226390307984236, 0.94000875784557, 0.7763100277331776]\n",
    "f1_scores=[0.3796825396825396, 0.3803292528493035, 0.4181240063593004, 0.3685393258426966, 0.4019081693500298, 0.42217245240761475, 0.3299620733249052, 0.5024213075060533, 0.29814517975727045]"
   ]
  },
  {
   "cell_type": "code",
   "execution_count": 151,
   "metadata": {
    "colab": {},
    "colab_type": "code",
    "id": "MUoj6CdQ4z-4"
   },
   "outputs": [],
   "source": [
    "x=[\"Linear Regression\",\"Linear Regression with GridSearchCV\",\n",
    "   \"Decision Tree Classifier\",\"Decision Tree Classifier using GridSearchCV\",\n",
    "  \"Random Forest Classifier\",\"Random Forest Classifier using GridSearchCV\",\n",
    "  \"XGBoost Classifier\",\"XGBoost Classifier using GridSearchCV\",\n",
    "  \"Naive Bayes Classifier\"]"
   ]
  },
  {
   "cell_type": "code",
   "execution_count": 152,
   "metadata": {
    "colab": {
     "base_uri": "https://localhost:8080/",
     "height": 555
    },
    "colab_type": "code",
    "id": "hkPa7BDF7OYb",
    "outputId": "4139cbcb-2ef6-4a82-a69c-93d1a5b096bb"
   },
   "outputs": [
    {
     "data": {
      "text/plain": [
       "([0, 1, 2, 3, 4, 5, 6, 7, 8], <a list of 9 Text xticklabel objects>)"
      ]
     },
     "execution_count": 152,
     "metadata": {},
     "output_type": "execute_result"
    },
    {
     "data": {
      "image/png": "[encoded data removed]",
      "text/plain": [
       "<Figure size 720x360 with 1 Axes>"
      ]
     },
     "metadata": {
      "needs_background": "light"
     },
     "output_type": "display_data"
    }
   ],
   "source": [
    "#Accuracy score plot for different models\n",
    "import matplotlib.pyplot as plt\n",
    "import seaborn as sns\n",
    "plt.figure(figsize=(10,5))\n",
    "sns.lineplot(x,acc_scores,linewidth=3)\n",
    "plt.xticks(rotation=90)"
   ]
  },
  {
   "cell_type": "code",
   "execution_count": 153,
   "metadata": {
    "colab": {
     "base_uri": "https://localhost:8080/",
     "height": 555
    },
    "colab_type": "code",
    "id": "nQmEA6j97Wuk",
    "outputId": "b3c8ab61-c42e-40f9-8e58-9f8460adf47d"
   },
   "outputs": [
    {
     "data": {
      "text/plain": [
       "([0, 1, 2, 3, 4, 5, 6, 7, 8], <a list of 9 Text xticklabel objects>)"
      ]
     },
     "execution_count": 153,
     "metadata": {},
     "output_type": "execute_result"
    },
    {
     "data": {
      "image/png": "[encoded data removed]",
      "text/plain": [
       "<Figure size 720x360 with 1 Axes>"
      ]
     },
     "metadata": {
      "needs_background": "light"
     },
     "output_type": "display_data"
    }
   ],
   "source": [
    "#f1 score plot for different models\n",
    "plt.figure(figsize=(10,5))\n",
    "sns.lineplot(x,f1_scores,linewidth=3,markers=True)\n",
    "plt.xticks(rotation=90)"
   ]
  }
 ],
 "metadata": {
  "accelerator": "GPU",
  "colab": {
   "collapsed_sections": [],
   "name": "HR_Analytics.ipynb",
   "provenance": [],
   "toc_visible": true
  },
  "kernelspec": {
   "display_name": "Python 3",
   "language": "python",
   "name": "python3"
  },
  "language_info": {
   "codemirror_mode": {
    "name": "ipython",
    "version": 3
   },
   "file_extension": ".py",
   "mimetype": "text/x-python",
   "name": "python",
   "nbconvert_exporter": "python",
   "pygments_lexer": "ipython3",
   "version": "3.7.3"
  }
 },
 "nbformat": 4,
 "nbformat_minor": 1
}
