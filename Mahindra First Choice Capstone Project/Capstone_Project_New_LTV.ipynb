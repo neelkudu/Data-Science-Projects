{
 "cells": [
  {
   "cell_type": "code",
   "execution_count": 1,
   "metadata": {
    "colab": {},
    "colab_type": "code",
    "id": "agkCJmPGioam"
   },
   "outputs": [],
   "source": [
    "import warnings\n",
    "warnings.simplefilter('ignore')\n",
    "import pandas as pd\n",
    "import numpy as np \n",
    "import matplotlib.pyplot as plt\n",
    "import seaborn as sns\n",
    "import pgeocode\n",
    "nomi = pgeocode.Nominatim('IN')\n",
    "from sklearn.preprocessing import LabelEncoder,StandardScaler\n",
    "from sklearn.model_selection import train_test_split as tts,cross_val_score,ShuffleSplit\n",
    "from imblearn.over_sampling import SMOTE\n",
    "from sklearn.tree import DecisionTreeClassifier\n",
    "from sklearn.ensemble import RandomForestClassifier\n",
    "from xgboost import XGBClassifier\n",
    "from sklearn.cluster import KMeans\n",
    "from sklearn.decomposition import PCA\n",
    "from sklearn.metrics import accuracy_score,f1_score,classification_report,roc_auc_score"
   ]
  },
  {
   "cell_type": "code",
   "execution_count": 2,
   "metadata": {
    "colab": {
     "base_uri": "https://localhost:8080/",
     "height": 383
    },
    "colab_type": "code",
    "id": "IovcOuIGiobD",
    "outputId": "813ed19a-d5a2-45bf-d57f-c60282605862"
   },
   "outputs": [
    {
     "data": {
      "text/html": [
       "<div>\n",
       "<style scoped>\n",
       "    .dataframe tbody tr th:only-of-type {\n",
       "        vertical-align: middle;\n",
       "    }\n",
       "\n",
       "    .dataframe tbody tr th {\n",
       "        vertical-align: top;\n",
       "    }\n",
       "\n",
       "    .dataframe thead th {\n",
       "        text-align: right;\n",
       "    }\n",
       "</style>\n",
       "<table border=\"1\" class=\"dataframe\">\n",
       "  <thead>\n",
       "    <tr style=\"text-align: right;\">\n",
       "      <th></th>\n",
       "      <th>Unnamed: 0</th>\n",
       "      <th>Amt Rcvd From Custom</th>\n",
       "      <th>Amt Rcvd From Ins Co</th>\n",
       "      <th>Area / Locality</th>\n",
       "      <th>CGST(14%)</th>\n",
       "      <th>CGST(2.5%)</th>\n",
       "      <th>CGST(6%)</th>\n",
       "      <th>CGST(9%)</th>\n",
       "      <th>CITY</th>\n",
       "      <th>Cash /Cashless Type</th>\n",
       "      <th>...</th>\n",
       "      <th>Service Advisor Name</th>\n",
       "      <th>TDS amount</th>\n",
       "      <th>Technician Name</th>\n",
       "      <th>Total Amt Wtd Tax.</th>\n",
       "      <th>Total CGST</th>\n",
       "      <th>Total GST</th>\n",
       "      <th>Total IGST</th>\n",
       "      <th>Total SGST/UGST</th>\n",
       "      <th>Total Value</th>\n",
       "      <th>User ID</th>\n",
       "    </tr>\n",
       "  </thead>\n",
       "  <tbody>\n",
       "    <tr>\n",
       "      <th>0</th>\n",
       "      <td>0</td>\n",
       "      <td>0.0</td>\n",
       "      <td>0.0</td>\n",
       "      <td>MAJIWADA</td>\n",
       "      <td>0.0</td>\n",
       "      <td>0.0</td>\n",
       "      <td>0.0</td>\n",
       "      <td>0.0</td>\n",
       "      <td>Thane</td>\n",
       "      <td>NaN</td>\n",
       "      <td>...</td>\n",
       "      <td>NaN</td>\n",
       "      <td>0.0</td>\n",
       "      <td>RUPESH</td>\n",
       "      <td>4051.95</td>\n",
       "      <td>0.0</td>\n",
       "      <td>0.0</td>\n",
       "      <td>0.0</td>\n",
       "      <td>0.0</td>\n",
       "      <td>4051.95</td>\n",
       "      <td>BC01FS1</td>\n",
       "    </tr>\n",
       "    <tr>\n",
       "      <th>1</th>\n",
       "      <td>1</td>\n",
       "      <td>0.0</td>\n",
       "      <td>0.0</td>\n",
       "      <td>THNAE</td>\n",
       "      <td>0.0</td>\n",
       "      <td>0.0</td>\n",
       "      <td>0.0</td>\n",
       "      <td>0.0</td>\n",
       "      <td>THNAE</td>\n",
       "      <td>NaN</td>\n",
       "      <td>...</td>\n",
       "      <td>NaN</td>\n",
       "      <td>0.0</td>\n",
       "      <td>PRASHANT</td>\n",
       "      <td>1001.29</td>\n",
       "      <td>0.0</td>\n",
       "      <td>0.0</td>\n",
       "      <td>0.0</td>\n",
       "      <td>0.0</td>\n",
       "      <td>1001.29</td>\n",
       "      <td>BC01SA2</td>\n",
       "    </tr>\n",
       "    <tr>\n",
       "      <th>2</th>\n",
       "      <td>2</td>\n",
       "      <td>0.0</td>\n",
       "      <td>0.0</td>\n",
       "      <td>THANE</td>\n",
       "      <td>0.0</td>\n",
       "      <td>0.0</td>\n",
       "      <td>0.0</td>\n",
       "      <td>0.0</td>\n",
       "      <td>THANE[W]</td>\n",
       "      <td>NaN</td>\n",
       "      <td>...</td>\n",
       "      <td>NaN</td>\n",
       "      <td>0.0</td>\n",
       "      <td>IMRAN</td>\n",
       "      <td>233.14</td>\n",
       "      <td>0.0</td>\n",
       "      <td>0.0</td>\n",
       "      <td>0.0</td>\n",
       "      <td>0.0</td>\n",
       "      <td>233.14</td>\n",
       "      <td>BC01SA2</td>\n",
       "    </tr>\n",
       "    <tr>\n",
       "      <th>3</th>\n",
       "      <td>3</td>\n",
       "      <td>0.0</td>\n",
       "      <td>0.0</td>\n",
       "      <td>THNAE</td>\n",
       "      <td>0.0</td>\n",
       "      <td>0.0</td>\n",
       "      <td>0.0</td>\n",
       "      <td>0.0</td>\n",
       "      <td>THNAE</td>\n",
       "      <td>NaN</td>\n",
       "      <td>...</td>\n",
       "      <td>NaN</td>\n",
       "      <td>0.0</td>\n",
       "      <td>PRASHANT</td>\n",
       "      <td>0.00</td>\n",
       "      <td>0.0</td>\n",
       "      <td>0.0</td>\n",
       "      <td>0.0</td>\n",
       "      <td>0.0</td>\n",
       "      <td>0.00</td>\n",
       "      <td>BC01SA2</td>\n",
       "    </tr>\n",
       "    <tr>\n",
       "      <th>4</th>\n",
       "      <td>4</td>\n",
       "      <td>0.0</td>\n",
       "      <td>0.0</td>\n",
       "      <td>THANE</td>\n",
       "      <td>0.0</td>\n",
       "      <td>0.0</td>\n",
       "      <td>0.0</td>\n",
       "      <td>0.0</td>\n",
       "      <td>THANE</td>\n",
       "      <td>NaN</td>\n",
       "      <td>...</td>\n",
       "      <td>NaN</td>\n",
       "      <td>0.0</td>\n",
       "      <td>DAYANAND</td>\n",
       "      <td>2747.12</td>\n",
       "      <td>0.0</td>\n",
       "      <td>0.0</td>\n",
       "      <td>0.0</td>\n",
       "      <td>0.0</td>\n",
       "      <td>2747.12</td>\n",
       "      <td>BC01SA2</td>\n",
       "    </tr>\n",
       "  </tbody>\n",
       "</table>\n",
       "<p>5 rows × 59 columns</p>\n",
       "</div>"
      ],
      "text/plain": [
       "   Unnamed: 0  Amt Rcvd From Custom  Amt Rcvd From Ins Co Area / Locality  \\\n",
       "0           0                   0.0                   0.0        MAJIWADA   \n",
       "1           1                   0.0                   0.0           THNAE   \n",
       "2           2                   0.0                   0.0           THANE   \n",
       "3           3                   0.0                   0.0           THNAE   \n",
       "4           4                   0.0                   0.0           THANE   \n",
       "\n",
       "   CGST(14%)  CGST(2.5%)  CGST(6%)  CGST(9%)      CITY Cash /Cashless Type  \\\n",
       "0        0.0         0.0       0.0       0.0     Thane                 NaN   \n",
       "1        0.0         0.0       0.0       0.0     THNAE                 NaN   \n",
       "2        0.0         0.0       0.0       0.0  THANE[W]                 NaN   \n",
       "3        0.0         0.0       0.0       0.0     THNAE                 NaN   \n",
       "4        0.0         0.0       0.0       0.0     THANE                 NaN   \n",
       "\n",
       "   ... Service Advisor Name TDS amount Technician Name Total Amt Wtd Tax.  \\\n",
       "0  ...                  NaN        0.0          RUPESH            4051.95   \n",
       "1  ...                  NaN        0.0        PRASHANT            1001.29   \n",
       "2  ...                  NaN        0.0           IMRAN             233.14   \n",
       "3  ...                  NaN        0.0        PRASHANT               0.00   \n",
       "4  ...                  NaN        0.0        DAYANAND            2747.12   \n",
       "\n",
       "  Total CGST Total GST Total IGST  Total SGST/UGST  Total Value  User ID  \n",
       "0        0.0       0.0        0.0              0.0      4051.95  BC01FS1  \n",
       "1        0.0       0.0        0.0              0.0      1001.29  BC01SA2  \n",
       "2        0.0       0.0        0.0              0.0       233.14  BC01SA2  \n",
       "3        0.0       0.0        0.0              0.0         0.00  BC01SA2  \n",
       "4        0.0       0.0        0.0              0.0      2747.12  BC01SA2  \n",
       "\n",
       "[5 rows x 59 columns]"
      ]
     },
     "execution_count": 2,
     "metadata": {},
     "output_type": "execute_result"
    }
   ],
   "source": [
    "invoice=pd.read_csv(\"C:\\\\Users\\\\Neel\\\\Desktop\\\\GreyAtom Capstone Project\\\\Final_invoice.csv\")\n",
    "invoice.head()"
   ]
  },
  {
   "cell_type": "code",
   "execution_count": 3,
   "metadata": {
    "colab": {
     "base_uri": "https://localhost:8080/",
     "height": 35
    },
    "colab_type": "code",
    "id": "lsffmVJ6iobf",
    "outputId": "781daef5-34e6-4063-9f71-fad97f627df0"
   },
   "outputs": [
    {
     "data": {
      "text/plain": [
       "(492314, 59)"
      ]
     },
     "execution_count": 3,
     "metadata": {},
     "output_type": "execute_result"
    }
   ],
   "source": [
    "invoice.shape"
   ]
  },
  {
   "cell_type": "code",
   "execution_count": 4,
   "metadata": {
    "colab": {},
    "colab_type": "code",
    "id": "6ZiFDMwCioby"
   },
   "outputs": [],
   "source": [
    "invoice_missing=pd.DataFrame(invoice.isnull().sum()/invoice.shape[0]*100,columns=[\"Missing\"])"
   ]
  },
  {
   "cell_type": "markdown",
   "metadata": {
    "colab_type": "text",
    "id": "-LkOxlfTiocP"
   },
   "source": [
    "#### Drop columns containing more than 60% missing values"
   ]
  },
  {
   "cell_type": "code",
   "execution_count": 5,
   "metadata": {
    "colab": {},
    "colab_type": "code",
    "id": "Lemr3dpUiocU"
   },
   "outputs": [],
   "source": [
    "invoice.drop(list(invoice_missing[invoice_missing[\"Missing\"]>60].index),1,inplace=True)"
   ]
  },
  {
   "cell_type": "code",
   "execution_count": 6,
   "metadata": {
    "colab": {
     "base_uri": "https://localhost:8080/",
     "height": 35
    },
    "colab_type": "code",
    "id": "t15MDrZ6ioci",
    "outputId": "4bfa69a9-1b1c-4f55-8fab-dea4f09c0a04"
   },
   "outputs": [
    {
     "data": {
      "text/plain": [
       "(492314, 52)"
      ]
     },
     "execution_count": 6,
     "metadata": {},
     "output_type": "execute_result"
    }
   ],
   "source": [
    "invoice.shape"
   ]
  },
  {
   "cell_type": "code",
   "execution_count": 7,
   "metadata": {
    "colab": {
     "base_uri": "https://localhost:8080/",
     "height": 35
    },
    "colab_type": "code",
    "id": "AQSBMtyFiocs",
    "outputId": "cb71587b-d1b4-4cbe-e113-4304ecc2c742"
   },
   "outputs": [
    {
     "data": {
      "text/plain": [
       "(492314, 51)"
      ]
     },
     "execution_count": 7,
     "metadata": {},
     "output_type": "execute_result"
    }
   ],
   "source": [
    "pd.set_option('display.max_columns', None)\n",
    "invoice.drop([\"Unnamed: 0\"],1,inplace=True)\n",
    "invoice.shape"
   ]
  },
  {
   "cell_type": "code",
   "execution_count": 8,
   "metadata": {
    "colab": {
     "base_uri": "https://localhost:8080/",
     "height": 1000
    },
    "colab_type": "code",
    "id": "ONHpy3bLioc1",
    "outputId": "1d1443ff-dce6-43bb-9d04-d109379a270d"
   },
   "outputs": [
    {
     "name": "stdout",
     "output_type": "stream",
     "text": [
      "Amt Rcvd From Custom : [ 0. nan]\n",
      "Amt Rcvd From Ins Co : [ 0. nan]\n",
      "Area / Locality : ['MAJIWADA' 'THNAE' 'THANE' ... 'NEW AVADI RD' 'KOTTUR,' 'THANDURAI,']\n",
      "CGST(14%) : [ 0. nan]\n",
      "CGST(2.5%) : [ 0. nan]\n",
      "CGST(6%) : [ 0. nan]\n",
      "CGST(9%) : [ 0. nan]\n",
      "CITY : ['Thane' 'THNAE' 'THANE[W]' ... 'Pattabiram' 'ayanavaram' 'saidapet']\n",
      "Cust Type : ['Retail' 'Corporate others' 'Corporate- M&M' 'Fleets' 'MFCWL' 'Insurance'\n",
      " 'Franchise']\n",
      "Customer No. : ['67849' '84419' '81055' ... '203844' '203820' '204288']\n",
      "District : ['Maharashtra' 'Madhya Pradesh' 'Karnataka' 'Andhra Pradesh' 'Telangana'\n",
      " 'Tripura' 'Tamil Nadu' 'Punjab' 'Kerala' 'Puducherry' 'Gujarat' 'Haryana'\n",
      " 'Dadra and Nagar Hav.' 'Daman and Diu' 'Uttar Pradesh' 'Delhi'\n",
      " 'Uttarakhand' 'Chandigarh' 'Manipur' 'Himachal Pradesh'\n",
      " 'Arunachal Pradesh' 'Rajasthan' 'Jammu and Kashmir' 'Megalaya' 'Bihar'\n",
      " 'Jharkhand' 'West Bengal' 'Chhattisgarh' 'Nagaland' 'Sikkim' 'Goa'\n",
      " 'Lakshadweep' 'Andaman and Nico.In.' 'Odisha' 'Mizoram' 'Assam']\n",
      "Gate Pass Time : ['00:00:00' '17:50:23' '11:14:15' ... '11:36:05' '11:50:31' '12:15:47']\n",
      "IGST(12%) : [ 0. nan]\n",
      "IGST(18%) : [ 0. nan]\n",
      "IGST(28%) : [ 0. nan]\n",
      "IGST(5%) : [ 0. nan]\n",
      "Invoice Date : ['2015-01-02' '2015-01-03' '2015-01-04' ... '2016-06-28' '2016-06-29'\n",
      " '2016-06-30']\n",
      "Invoice No : [7005200002 7005200003 7005200004 ... 7231000019 7231000020 7231000021]\n",
      "Invoice Time : ['11:30:36' '10:07:32' '11:12:57' ... '21:11:36' '21:38:23' '20:11:24']\n",
      "Job Card No : [168303 173997 173889 ... 400082 400545 400891]\n",
      "JobCard Date : ['2014-12-13' '2015-01-02' '2015-01-03' ... '2016-10-31' '2016-10-29'\n",
      " '2016-10-30']\n",
      "JobCard Time : ['14:29:43' '14:12:18' '11:40:44' ... '08:03:18' '08:42:15' '08:27:51']\n",
      "KMs Reading : [ 49317  78584  33985 ... 205696 177433 149197]\n",
      "Labour Total : [1203.14  804.26  180.19 ... 2495.9  2443.47 2598.92]\n",
      "Make : ['GENERAL MOTORS' 'TATA MOTORS' 'MARUTI SUZUKI' 'HYUNDAI' 'TOYOTA' 'HONDA'\n",
      " 'FIAT' 'FORD' 'SKODA' 'MAHINDRA &  MAHINDRA' 'VOLKSWAGEN' 'NISSAN'\n",
      " 'RENAULT' 'MERCEDES BENZ' 'MITSUBISHI MOTORS' 'DAEWOO' 'BMW' 'FORCE'\n",
      " 'SONALIKA' 'VOLVO' 'HINDUSTAN MOTORS' 'AUDI' 'PREMIER\\xa0AUTOMOBILES'\n",
      " 'PORCHE' 'LAND ROVER' 'JEEP' 'MORRIS' 'SAN MOTORS']\n",
      "Misc Total : [   0.    197.03  100.   ... 3029.92  245.98  374.97]\n",
      "Model : ['SPARK' 'INDICA' 'ZEN' 'SANTRO XING' 'INNOVA' 'CITY' 'SWIFT DZIRE'\n",
      " 'INDIGO' 'ALTO' 'WAGONR' 'SANTRO' 'I10' 'VISTA' 'AVEO' 'GRAND PUNTO'\n",
      " 'FIESTA' 'RAPID' 'TAVERA' 'XYLO' 'POLO' 'LOGAN P' 'SWIFT' 'FIGO' 'VERITO'\n",
      " 'ESTEEM 1300' 'SCORPIO CRDE' 'SCORPIO NEF' 'ACCENT' '800' 'SAFARI'\n",
      " 'ZEN ESTILO' 'I20' 'VERNA' 'ETIOS' 'LOGAN D' 'GETZ' 'RITZ' 'IKON' 'CIVIC'\n",
      " 'XUV 500' 'SUMO' 'PALIO' 'BEAT' 'OPTRA' 'SX4' 'LAURA' 'JAZZ' 'EON'\n",
      " 'LINEA' 'QUALIS' 'INDIGO MANZA' 'FABIA' 'COROLLA' 'VENTO' 'BOLERO'\n",
      " 'SUPER SUNNY' 'EECO' 'ADVENTURE' 'CHEVROLET CRUZE' 'OCTAVIA' 'AVEO UV-A'\n",
      " 'OPEL' nan 'INDIGO MARINA' 'FORTUNER' 'MAXX' 'DUSTER' 'MICRA' 'ENDEAVOUR'\n",
      " 'FUSION' 'BRIO' 'RENAULT 1.9' 'OMNI' 'SUPERB' 'NANO' 'OPEL CORSA'\n",
      " 'A STAR' 'E-CLASS' 'LANCER' 'SAIL' 'CR-V' 'JETTA' 'COROLLA ALTIS'\n",
      " 'CAPTIVA' 'MAGIC' 'QUANTO' 'SSANYONG KORANDO' 'ACCORD' 'ESTEEM 1000'\n",
      " 'MATIZ' 'ERTIGA' 'AMAZE' 'SRV' 'ARIA' 'VERSA' 'BOLERO PIK UP' 'ESCORT'\n",
      " 'BMW-M3' 'PULSE' 'SONATA' 'BALENO' 'SUMO GRANDE' 'OPTRA MAGNUM'\n",
      " 'FORCE ONE' 'X-TRAIL' 'TEANA' 'COMMANDER' 'GYPSY 1000' 'ROOMSTER' 'TRAX'\n",
      " 'THAR' 'TAVERA NEO' 'XCENT' 'RHINO RX' 'ARMADA' 'GYPSY 1300' 'VOLVO XC90'\n",
      " 'YETI' 'ELANTRA' 'GRAND' 'MAHINDRA CNG' 'PALIO STILE' 'G CLASS' 'S 350 L'\n",
      " 'MARSHAL' 'UNO' '5 SERIES' 'CAMRY' 'MAHINDRA PIK UP' 'WINGER' 'VENTURE'\n",
      " 'SIERRA' 'CONTESSA' 'OPEL ASTRA' '207' 'PASSAT' 'LAUREL' 'FLUENCE'\n",
      " 'TERRACAN' 'PAJERO' 'C-CLASS' 'AMBASSADOR' 'FOCUS' 'MONTERO' 'Q7' 'Q5'\n",
      " '7 SERIES' 'CLASSIC' 'SONATA V-6' 'BMW-M5' 'CEDIA' 'XENON XT' 'KIZASHI'\n",
      " 'BMW-M6' 'LAND ROVER DISCOVERY' 'PETRA' 'JAGUAR XF' 'MAHINDRA MM' 'A4'\n",
      " 'SSANYONG REXTON' 'KOLEOS' 'SANTA FE' 'SIENA' 'GRAND VITARA' 'ACE'\n",
      " 'ML 350' 'S 320 CDI L' 'FORESTER' 'RIO' 'TL' 'SLK-CLASS' 'X5' 'X3' 'A6'\n",
      " 'CL-CLASS' 'MONDEO' 'X1' 'SWIFT D,ZIRE' 'JAGUAR XJ' 'ZEST' 'ECOSPORT'\n",
      " 'CIAZ' 'TERRANO' 'DATSUN GO' 'CELERIO' 'SCALA' 'CLS-CLASS' 'ENJOY'\n",
      " 'CAYENNE' 'MOBILIO' 'PADMINI' 'CIELO' 'OUTLANDER' 'ROVER' '3 SERIES'\n",
      " 'VELOSTER' 'BOLT' 'MINIS' 'TOUAREG' 'LAND CRUISER PRADO' 'LODGY' 'TUCSON'\n",
      " 'LIMOUSINE' 'S-CLASS' 'REVA' 'LAND ROVER RANGE ROVER' 'TATA-NANO'\n",
      " '6 SERIES' 'VOLVO S80' 'A8' 'A7' 'CHEROKEE' 'LAND ROVER FREELANDER'\n",
      " 'SL-CLASS' 'AUSTIN' 'JAGUAR XL' 'ML-CLASS' 'VECTRA' 'ESTILO' '500'\n",
      " 'CAYMAN S' 'TT' 'BMW X6' 'SAN STORM 1.2' 'CLK-CLASS' 'ASTAR' 'Z4'\n",
      " 'MAXXIMO' 'GENIO' 'CRETA' 'KWID' 'KUV100' 'BREZZA' 'BRV' 'TUV300' 'TIAGO'\n",
      " 'EVALIA' 'SUPRO' 'AMEO' 'AVIGO' 'ECO SPORT' 'TREKKER' 'GL-CLASS'\n",
      " 'TRAILBLAZER' 'PUSHPAK' 'NEXIA']\n",
      "ODN No. : [7.00520000e+09 7.00520000e+09 7.00520000e+09 ... 7.00007604e+09\n",
      " 7.00007604e+09            nan]\n",
      "OSL Total : [  500.06     0.     499.99 ... 15001.05 20001.07 25600.29]\n",
      "Order Type : ['Paid Service' 'SMC Value Package' 'Running Repairs' 'SMC Redemption'\n",
      " 'Accidental' 'Repeat Order' 'Workshop Damage' 'Mechanical' 'WBW Order']\n",
      "Outstanding Amt : [ 0. nan]\n",
      "Parts Total : [2348.75    0.     52.95 ... 6989.06 1587.28 4388.61]\n",
      "Pin code : [400601 400603 400607 ... 504310 503219 503187]\n",
      "Plant : ['BC01' 'BC02' 'BC03' 'BC05' 'BC06' 'BC07' 'BC08' 'BC12' 'BC13' 'BC15'\n",
      " 'BC16' 'BC17' 'BC18' 'BC19' 'BC20' 'BC21' 'BC22' 'BC23' 'BC24' 'BC25'\n",
      " 'BC26' 'BC27' 'BC28' 'BC29' 'BC30' 'BC31' 'BC32' 'BC33' 'BC34' 'X001'\n",
      " 'X005' 'X006' 'X008' 'X010' 'X011' 'X012' 'X013' 'X014' 'X017' 'X020'\n",
      " 'X021' 'X022' 'X024' 'X025' 'X029' 'X034' 'X036' 'X037' 'X039' 'X041'\n",
      " 'X016' 'X018' 'X026' 'X028' 'X049' 'X007' 'X027' 'X060' 'X023' 'X031'\n",
      " 'X032' 'X042' 'X045' 'X052' 'X054' 'X061' 'X072' 'X033' 'X051' 'X085'\n",
      " 'X098' 'X055' 'X058' 'X068' 'X074' 'X081' 'X048' 'X057' 'X082' 'X110'\n",
      " 'X064' 'X075' 'X080' 'X035' 'X047' 'X062' 'X063' 'X092' 'X109' 'X056'\n",
      " 'X102' 'X103' 'X124' 'X003' 'X044' 'X066' 'X079' 'X101' 'X114' 'X126'\n",
      " 'X127' 'X128' 'X174' 'X175' 'BC04' 'BC11' 'X046' 'X238' 'X125' 'X136'\n",
      " 'X091' 'X167' 'X171' 'X106' 'X233' 'X084' 'X111' 'X118' 'X147' 'X279'\n",
      " 'X156' 'X209' 'X095' 'X112' 'X123' 'X164' 'X113' 'X154' 'X105' 'X146'\n",
      " 'X204' 'X215' 'X229' 'X086' 'X099' 'X138' 'X170' 'X173' 'X185' 'X186'\n",
      " 'X187' 'X192' 'X224' 'X267' 'X107' 'X245' 'X129' 'X140' 'X252' 'X297'\n",
      " 'X328' 'X050' 'X053' 'X219' 'X259' 'X076' 'X172' 'X190' 'X331' 'X341'\n",
      " 'X188' 'X218' 'X243' 'X249' 'X254' 'X264' 'X386' 'X405' 'X132' 'X201'\n",
      " 'X247' 'X327' 'X347' 'X155' 'X270' 'X322' 'X329' 'X401' 'X149' 'X217'\n",
      " 'X253' 'X260' 'X350' 'X364' 'X121' 'X122' 'X437' 'X073' 'X261' 'X139'\n",
      " 'X241' 'X242' 'X246' 'X435' 'X133' 'X166' 'X180' 'X183' 'X203' 'X277'\n",
      " 'X334' 'X418' 'X281' 'X317' 'X308' 'X413' 'X205' 'X265' 'X332' 'X366'\n",
      " 'X384' 'X392' 'X135' 'X177' 'X199' 'X244' 'X339' 'X444' 'X131' 'X169'\n",
      " 'X286' 'X357' 'X380' 'X320' 'X161' 'X324' 'X397' 'X089' 'X214' 'X269'\n",
      " 'X316' 'X083' 'X119' 'X196' 'X202' 'X403' 'X458' 'X206' 'X359' 'X432'\n",
      " 'X285' 'X211']\n",
      "Plant Name1 : ['THANE' 'PUNE' 'NASHIK' 'MADEENAGUDA' 'GUINDY' 'NERKUNDRAM' 'VAPI'\n",
      " 'HYDERABAD L B NAGAR' 'SURAT UDHANA' 'BELLANDUR - BANGALORE'\n",
      " 'AMBATTUR - CHENNAI' 'NELLORE' 'COIMBATORE' 'HADAPSAR - PUNE'\n",
      " 'MOHAN NAGAR - GAZIABAD' 'EDAPPALLY - KOCHI' 'GREATER NOIDA'\n",
      " 'FARIDABAD 1' 'HINJAWADI – PUNE' 'NERUL - NAVI MUMBAI' 'NAGPUR'\n",
      " 'GT ROAD - LUDHIANA' 'NOIDA - 63' 'NOIDA - 05' 'SAS NAGAR - MOHALI'\n",
      " 'YESHWANTPUR - BANGALORE' 'GILL ROAD - LUDHIANA' 'PANCHKULLA'\n",
      " 'PIMPRI - PUNE' 'X001 - AUTO PLANET WHEELS' 'X005 - KLN MOTORS'\n",
      " 'X006 - A.M.MOTORS' 'X008- AAKASH AUTO (Puducherry)' 'X010 - LVM MOTORS'\n",
      " 'X011- AAKASH AUTO (Villupuram)' 'X012 - SR CAR CARE'\n",
      " 'X013 - SAI AUTO WORKS' 'X014 - NANGAN MOTORS PVT LTD.'\n",
      " 'X017 - HEM KIRAN DIESELS' 'X020 - SURYABALA SERVICE'\n",
      " 'X021 - THE TRUE SAI MOTORSS' 'X022 - ARASU CAR ACCESSORIES'\n",
      " 'X024 - ARASU CAR ACC (TRICHY)' 'X025 - SHIVALIK AUTOMOBILES'\n",
      " 'X029 - SWAMI AUTO CARE PVT LTD' 'X034 - SOHAMM MOTORS'\n",
      " 'X036 - X-PRESS MOTORS' 'X037 - DHEERAJ MOTORS' 'X039 - SAI AUTOMOBILES'\n",
      " 'X041 - VARDAJYOTI AUTOMOBILES' 'X016 - KHUTWAD MOTORS'\n",
      " 'X018 - EXPRESS WHEELS AUTO SER' 'X026 - MAHADEVI SERVICE CENTER'\n",
      " 'X028 - SAIDEEP CAR CARE' 'X049 - SHENBAGAM MOTORS'\n",
      " 'X007 - OM SRI SATYA SAI AUTOMO' 'X027 - RAHUL AUTO SERV. PVT.'\n",
      " 'X060 - SHIVANSH AUTOMOTIVE' 'X023 - ROYAL KRR AUTOS'\n",
      " 'X031 - ANUSHRI MOTORS' 'X032 - SBBS MOTORS'\n",
      " 'X042 - CAR PLANET ENTERPRISES' 'X045 - BA MOTORS' 'X052 - XPRESS MOTORS'\n",
      " 'X054 - HOREB AUTOMOBILES' 'X061 - APS MOTORCARE PVT LTD'\n",
      " 'X072 - PRABHAV PREMIUM AUTOMOB' 'X033 - TRISTAR INDIA TRADING'\n",
      " 'X051 - RAJATHI AUTO CARE PRIVA' 'X085 - SRI MOTORS'\n",
      " 'X098 - KAPOOR MOTORS' 'X055 - S K AUTOMOBILES' 'X058 - ASR AUTOMOBILES'\n",
      " 'X068 - VAKA CARS' 'X074 - VISHWA MOTORS' 'X081 - GEO MOTORS'\n",
      " 'X048 - HARI KRISHNA AUTOMOBILE' 'X057 - RANGANATHA SWAMY MOTORS'\n",
      " 'X082 - A&P MOTORS' 'X110 - KALYAN SERVICES' 'X064 - SHIVAM ENTERPRISES'\n",
      " 'X075 - FUTUREVISION INNOVATION' 'X080 - KHAMLA MOTORS'\n",
      " 'X035 - DOCTOR CARS' 'X047 - X-PRESS MOTORS' 'X062 - S N S MOTORS MYSORE'\n",
      " 'X063 - CHAKARAVARTHY AUTOMOTIV' 'X092 - EXCEL AUTO CORP. PVT. L'\n",
      " 'X109 - NANGAN MOTORS PVT. LTD' 'X056 - SRI RAJABABU AUTOMOTIVE'\n",
      " 'X102 - WEST COAST AUTOMOTIVE' 'X103 - DAYAL MOTORS' 'X124 - ZEF MOTORS'\n",
      " 'X003 - Om Sri Satya Sai Automo' 'X044 - KANMANI CAR CARE'\n",
      " 'X066 - REVATHI SERVICE CENTRE' 'X079 -  SHREE R V CAR CARE'\n",
      " 'X101 - ARIHANT AUTO' 'X114 - A J MOTORWORKS'\n",
      " 'X126 - M.P AUTO VEHICLES PVT.' 'X127 - MY SUPREME'\n",
      " 'X128 - SRI LAKSHMI AUTOMOBILES' 'X174 - ANKITHA MOTORS'\n",
      " 'X175 - SPYNS AUTO' 'BALANAGAR' 'ANDHERI'\n",
      " 'X027-RAHUL AUTO SERV. PVT. LTD' 'X046 - SVERA AUTOMOBILES'\n",
      " 'X238 - BASAVDEEP MOTORS' 'X125 - SHRI WARDHMAN MOTO CORP'\n",
      " 'X136 - SUNRISE AUTO CARE' 'X091 - HARIKRIPA ENTERPRISES'\n",
      " 'X167 - MANAK AUTO WORLD' 'X171 - SRI OM MOTORS' 'X106 - TRS MOTORS'\n",
      " 'X233 - SINGHAL AUTOMOBILES' 'X084 - RM AUTOMOTIVE SERVICES'\n",
      " 'X111 - RUDRA MOTORS' 'X118 - SURBHI GLOBAL PVT. LTD'\n",
      " 'X147 - SPECTRUM AUTOMOTIVES' 'X279 - J B CAR CARE'\n",
      " 'X156 - MANGLAM AUTOMOBILES' 'X209 - UMA AUTOMOBILES'\n",
      " 'X095 - NATIONAL AUTOMOBILE' 'X112 - PATNA WHEELS POINT'\n",
      " 'X123 - WHEELOCITY CAR SERVICES' 'X164 - EQRA AUTO'\n",
      " 'X113 - S G AUTOMOTIVES' 'X154 - G.K.CAR ZONE' 'X105 - MSK CARS'\n",
      " 'X146 - RUGRUT MOTORS' 'X204 - SREEDEVI AUTOMOTIVE SER'\n",
      " 'X215 - VINAY AUTO SERVICES' 'X229 - OM MOTORS'\n",
      " 'X086 - STRIKER AUTOMOBLIES' 'X099 - AUTO WORLD CAR CARE'\n",
      " 'X138 - HIM AUTOS' 'X170 - S K  AUTOMOBILES'\n",
      " 'X173 - TRIMURTI AUTOMOBILES' 'X185 - GUPTA CAR CARE'\n",
      " 'X186 - AISHWARYA MOTORS' 'X187 - MOTIWALA SERVICES'\n",
      " 'X192 - POKATTIL MOTORS' 'X224 - ADITYA AUTO'\n",
      " 'X267 - VISHWAKARMA AUTOMOBILE' 'X107 - DIXIT MOTORS'\n",
      " 'X245 - ABHI FUEL CENTER' 'X129 - A.V. AUTOMOBILES'\n",
      " 'X140 - SRI RAJARAJESHWARI SERV' 'X167 - MANAK MOTORS P LTD'\n",
      " 'X252 - DINASARASWATI ENTERPRIE' 'X297 - WAI AUTO WORLD LLP'\n",
      " 'X328 - PRAMUKH AUTO' 'X050 - VISHWATMAK AUTOMOBILES'\n",
      " 'X053 - PREM AUTOMOBILES' 'X219 - JPG CAR CARE' 'X259 - ROUNAK MOTORS'\n",
      " 'X076 - CAR X CARE' 'X172 - MARRCO MACHINERIES' 'X190 - NITHIYA MOTORS'\n",
      " 'X331 - NEXSTEP AUTO CARE' 'X341 - KUMAWAT DIESEL SERVICE'\n",
      " 'X188 - SONA AUTOMOBILES' 'X218 - PRAGATI MOTORS'\n",
      " 'X243 - JINDAL AUTOMOBILES' \"X249 - AMBUJA'S AUTOMOTIVES\"\n",
      " 'X254 - MOTOCARE' 'X264 - RAJINDERA MOTORS' 'X386 - VINAYAKA MOTORS'\n",
      " 'X405 - NANGAN MOTORS PVT. LTD.' 'X132 - KATIYAR MANGALAM AUTOMO'\n",
      " 'X201 - ADITYA AUTO WORLD' 'X247 - SATTVIK MOTORS'\n",
      " 'X327 - B.H.MOTORS PRIVATE LIMI' 'X347 - HONEST MOTORS'\n",
      " 'X155 - AVEER AUTO SPARES AND S' 'X270 - MONDAL MOTORS'\n",
      " 'X322 - SINGH BROTHERS AUTOMOBI' 'X329 - SMILE NEW'\n",
      " 'X401 - SAI AUTO SERVICES' 'X149 - SARVADNYA AUTO CARE LAT'\n",
      " 'X217 - SHEETAL AUTO SERVICES' 'X253 - GURUPRABHA AUTOWHEELS'\n",
      " 'X260 - YAGNIK MOTORS' 'X350 - B.H.MOTORS PRIVATE LIMI'\n",
      " 'X364 - JUST DRIVE' 'X121 - MANICK ENTERPRISES' 'X122 - S & B AUTOMOBILE'\n",
      " 'X437 - RAHUL AUTO SERVICES PVT' 'X073- KRITI AUTOMOBILE REPAIR'\n",
      " 'X261 - SHREE MOTORS' 'X139 - INDRADHANUSH AUTOMOBILE'\n",
      " 'X241 - SHRI KRISHNA AUTOMOTIVE' 'X242 - LAXMI AUTOMOBILES'\n",
      " 'X246 - SHIVA JYOTI MOTORS' 'X435 - PAHWA AUTOMOTIVE'\n",
      " 'X133 - SRI BALAJI MOTORS' 'X166 - ANAND AUTOMOTIVE'\n",
      " 'X180 - RAMSUN ADVANTAGE' 'X183 - MANALI AUTO WORLD'\n",
      " 'X203 - B.M.M AUTOMOBILE SERVIC' 'X277 - BRISTI AUTOMOBILES'\n",
      " 'X334 - TOP AUTOMOBILES' 'X418 - BHARDWAJ ENGICON LTD'\n",
      " 'X281 - EVERGREEN CAR CARE' 'X317 - DAILA MOTORS'\n",
      " 'X308 - SHRI RAM CAR SERVICES' 'X413 - SARVAJEET MOTORS'\n",
      " 'X205 - ABHINANDAN AUTOMOBILES' 'X265 - SHUBHAM MOTORS'\n",
      " 'X332 - KAINIKKARA MOTORS' 'X366 -  R S AUTOMOBILES'\n",
      " 'X384 - KOORI MOTORS' 'X392 - AUTOMOBIA INDIA'\n",
      " 'X135 - S P JIRAPURE MOTORS' 'X177 - MAHAMAYA MOTORS'\n",
      " 'X199 - RUDRA AUTOCARE' 'X244 - SHYAM MOTORS'\n",
      " 'X339 - OSL AUTOCAR PRIVATE LIM' 'X444 - SAI AUTO SERVICE'\n",
      " 'X131 - LEELA AUTOMOBILE' 'X169 - DREAMWORKS AUTOMOTIVE'\n",
      " 'X286 - M/S MAHALAKSHMI MOTORS' 'X357 - RAJ AUTOMOBILES'\n",
      " 'X380 - A2Z AUTOWORLD' 'X320 - BARUAH AUTOMOBILE CENTR'\n",
      " 'X161 - ADVANCE AUTO SERVICES' 'X324 -  NANDHA MOTORS'\n",
      " 'X397 -  DHARTI AUTO' 'X089 - AKOLA NATIONAL GARAGE'\n",
      " 'X214 - M/S J.P. AUTOMOBILES' 'X269 - VENUS MOTORS SERVICES'\n",
      " 'X316 - K & S AUTO' 'X083 - EXCELLENT SERVICE' 'X119 - Vivek Services'\n",
      " 'X196 -  BHATTAD AUTO SERVICES' 'X202 - BHARATH MOTORS'\n",
      " 'X403 -  S V MOTORS' 'X458 - SAIRAM AUTOMOBILES'\n",
      " 'X206 - SHRI SAI SHAKTI SERVICE' 'X359 - STAR AUTOMOBILES'\n",
      " 'X432 - HARSH AUTOMOBILES' 'X285 - SWAMI NARAYAN AUTOMOBIL'\n",
      " 'X211 -  M/S KAMAL MOTORS']\n",
      "Print Status : ['NO' 'YES']\n",
      "Recovrbl Exp : [    0.    1000.01   499.97  2999.98   500.14   500.01   300.     299.99\n",
      "   900.    1500.02   399.99   300.01   200.04   499.99   200.32  1000.\n",
      "   200.01    70.01    70.      50.     999.99   800.03  1300.     100.01\n",
      "  3999.97   500.    4499.99   600.      49.98   349.93   599.99  1300.25\n",
      "  1200.1   1049.99  1500.01  1500.     300.17  2000.     999.98   200.\n",
      "  1750.03  6000.02  3000.   11000.01  5800.     200.05   499.98  2499.94\n",
      "  1999.98   299.98  2500.01  1999.76   200.02  1600.     250.    1300.35\n",
      "   700.     600.02  1000.04   999.97  2499.93  3200.02   799.99  1200.01\n",
      "  2187.01 15000.    3000.01   800.14  1349.99  1299.99  2000.01  5500.01\n",
      "  6499.99   592.    5999.99   699.99   800.     500.07   370.     700.17\n",
      "  7500.    5000.01  3000.05  2300.     600.01  1000.02   999.96  1500.05\n",
      "  1200.12   800.01  1800.01   399.97   499.94  6100.02  1855.02  2500.\n",
      "  2750.06   799.92   599.97   500.04  1114.92  1250.01   700.03  1900.\n",
      "    49.96  1999.91   500.02   700.01  4500.     100.     400.    1199.92\n",
      "  1499.89   500.03  3249.97   550.     150.     500.13   700.05  2299.98\n",
      "    99.99  2999.93  3000.03   499.96  1599.88   599.96  3870.02   650.\n",
      "  4000.   10000.05  2799.94  2800.05   400.1    380.01   499.83   699.96\n",
      "   900.32   299.91  1454.01  1140.    1499.98   949.98   680.02  2000.05\n",
      "   846.    4000.04  1999.97  1699.99  2250.    1100.     500.45   499.95\n",
      "  5000.06  4000.07  1099.96   899.99   560.03  2499.99  4000.06  2000.02\n",
      "  3999.98  4500.11   450.     750.    1999.99   199.99  1400.     517.08\n",
      "   563.05   200.11   249.99   499.9    250.07   849.99  2200.     600.04\n",
      "   699.95  1000.08   750.01   400.02  8000.    2369.88  1800.02  1600.37\n",
      " 21000.26   999.94   499.92  1000.12    69.99   500.06  1225.09  2999.96]\n"
     ]
    },
    {
     "name": "stdout",
     "output_type": "stream",
     "text": [
      "Regn No : ['KA19MA1291' 'MH43R3046' 'AP09AX0582' ... 'TN22BW1485' 'TN38Y9343'\n",
      " 'TN10T3317']\n",
      "SGST/UGST(14%) : [ 0. nan]\n",
      "SGST/UGST(2.5%) : [ 0. nan]\n",
      "SGST/UGST(6%) : [ 0. nan]\n",
      "SGST/UGST(9%) : [ 0. nan]\n",
      "TDS amount : [ 0. nan]\n",
      "Technician Name : ['RUPESH' 'PRASHANT' 'IMRAN' ... 'SADA' 'azhar/sadab/rajesh'\n",
      " 'SANDEEP HARDEEP']\n",
      "Total Amt Wtd Tax. : [ 4051.95  1001.29   233.14 ... 12052.14  4458.15  6832.08]\n",
      "Total CGST : [ 0. nan]\n",
      "Total GST : [ 0. nan]\n",
      "Total IGST : [ 0. nan]\n",
      "Total SGST/UGST : [ 0. nan]\n",
      "Total Value : [ 4051.95  1001.29   233.14 ...  6598.74 33420.95      nan]\n",
      "User ID : ['BC01FS1' 'BC01SA2' 'BC01SA1' 'BC01WM1' 'BC02SA2' 'BC02SA1' 'BC02WM1'\n",
      " 'BC02FS1' 'BC03SA2' 'BC03SA4' 'BC03SA1' 'BC03SA3' 'BC03FS1' 'BC03WM1'\n",
      " 'BC05SA2' 'BC05SA1' 'BC05FS1' 'BC05WM1' '23109043' 'BC06SA1' 'BC06SA2'\n",
      " 'BC06FS1' 'BC07SA2' 'BC07SA1' 'BC07FS1' 'BC08FS1' 'BC08SA1' 'BC08SA2'\n",
      " 'BC12SA1' 'BC12SA2' 'BC12FS1' 'BC13SA3' 'BC13SA2' 'BC13SA1' 'BC13FS1'\n",
      " 'BC15SA1' 'BC15SA2' 'BC15FS1' 'BC16SA2' 'BC16SA1' 'BC16FS1' 'BC17SA1'\n",
      " 'BC17FS1' 'BC18SA1' 'BC18FS1' 'BC19SA2' 'BC19SA1' 'BC19FS1' 'BC20SA3'\n",
      " 'BC20SA1' 'BC20FS1' 'BC20SA2' 'BC21SA2' 'BC21SA1' 'BC21FS1' 'BC22SA3'\n",
      " 'BC22SA1' 'BC22SA2' 'BC22FS1' 'BC23SA1' 'BC23SA3' 'BC23SA2' 'BC23FS1'\n",
      " 'BC24SA1' 'BC24FS1' 'BC24SA2' 'BC25SA2' 'BC25FS1' 'BC26SA3' 'BC26SA1'\n",
      " 'BC26SA2' 'BC26FS1' 'BC27SA1' 'BC27SA2' 'BC27FS1' 'BC28SA1' 'BC28SA3'\n",
      " 'BC28WM1' 'BC28SA2' 'BC28FS1' 'BC29SA2' 'BC29SA3' 'BC29SA1' 'BC29FS1'\n",
      " 'BC30SA1' 'BC30FS1' 'BC30SA2' 'BC31SA2' 'BC31SA1' 'BC31FS1' 'BC32SA2'\n",
      " 'BC32FS1' 'BC33SA2' 'BC33SA1' 'BC33FS1' 'BC34SA2' 'BC34SA1' 'BC34FS1'\n",
      " 'X001SA1' 'X001WM1' 'X005SA1' 'X005WM1' 'X006SA1' 'X006WM1' 'X008SA1'\n",
      " 'X010SA1' 'X010WM1' 'X011SA1' 'X012SA1' 'X012WM1' 'X013SA1' 'X013WM1'\n",
      " 'X014SA1' 'X014WM1' 'X017SA1' 'X020SA1' 'X021SA1' 'X022SA1' 'X024SA1'\n",
      " 'X025SA1' 'X025WM1' 'X029WM1' 'X029SA1' 'X034SA1' 'X036SA1' 'X036WM1'\n",
      " 'X037SA1' 'X037WM1' 'X039SA1' 'X039WM1' 'X041SA1' '23108844' 'BC18SA2'\n",
      " 'BC25SA1' 'X016SA1' 'X018SA1' 'X024WM1' 'X026SA1' 'X028SA1' 'X049SA1'\n",
      " 'BC18ACC1' 'BC22WM1' 'X007SA1' 'X007WM1' 'X008WM1' 'X021WM1' 'X022WM1'\n",
      " 'X027SA1' 'X049WM1' 'X060SA1' 'BC08WM1' 'BC17SA2' 'X011WM1' 'X023SA1'\n",
      " 'X031SA1' 'X032SA1' 'X032WM1' 'X034WM1' 'X041WM1' 'X042SA1' 'X045SA1'\n",
      " 'X052SA1' 'X054SA1' 'X054WM1' 'X061SA1' 'X061WM1' 'X072SA1' 'BC16ACC1'\n",
      " 'BC32SA1' 'X016WM1' 'X028WM1' 'X045WM1' 'BC12ACC1' 'BC34WM1' 'X018WM1'\n",
      " 'X027WM1' 'X031WM1' 'X033SA1' 'X033WM1' 'X051SA1' 'X052WM1' 'X085SA1'\n",
      " 'X098WM1' 'BC19WM1' 'X042WM1' 'X055SA1' 'X058SA1' 'X060WM1' 'X068SA1'\n",
      " 'X074SA1' 'X081SA1' 'X085WM1' 'X098SA1' 'BC25WM1' 'X048SA1' 'X048WM1'\n",
      " 'X051WM1' 'X057SA1' 'X057WM1' 'X058WM1' 'X081WM1' 'X082SA1' 'X082WM1'\n",
      " 'X110SA1' 'BC23WM1' 'BC29WM1' 'X064SA1' 'X064WM1' 'X074WM1' 'X075SA1'\n",
      " 'X080SA1' 'X080WM1' '23108983' 'X035SA1' 'X035WM1' 'X047SA1' 'X062SA1'\n",
      " 'X062WM1' 'X063WM1' 'X072WM1' 'X075WM1' 'X092SA1' 'X109WM1' 'X109SA1'\n",
      " 'X110WM1' 'BC20WM1' 'X020WM1' 'X047WM1' 'X056SA1' 'X063SA1' 'X068WM1'\n",
      " 'X092WM1' 'X102SA1' 'X102WM1' 'X103SA1' 'X124SA1' 'X124WM1' 'X003SA1'\n",
      " 'X017WM1' 'X023WM1' 'X044SA1' 'X044WM1' 'X066SA1' 'X066WM1' 'X079SA1'\n",
      " 'X079WM1' 'X101SA1' 'X103WM1' 'X114SA1' 'X114WM1' 'X126SA1' 'X126WM1'\n",
      " 'X127SA1' 'X127WM1' 'X128SA1' 'X174SA1' 'X175SA1' 'X175WM1' 'BC13WM1'\n",
      " 'BC04FS1' 'BC04WM1' 'BC04SA1' 'BC27WM1' '23108911' 'BC17WM1' 'BC21WM1'\n",
      " 'BC31WM1' 'BC12WM1' 'MFCSL_SUSER' 'BC17ACC1' 'BC07WM1' 'BC31ACC1'\n",
      " 'BC06WM1' 'GOLIVE' 'SFI_ANANDT' 'BC04SA2' 'BC11SA2' 'BC11SA1' 'BC11WM1'\n",
      " 'BC11FS1' 'BC16WM1' '23108880' 'BC15WM1' 'BC15ACC1' '23108930' 'BC24WM1'\n",
      " 'BC26WM1' 'BC18WM1' 'BC21ACC1' 'X174WM1' 'X046SA1' 'X046WM1' 'X238SA1'\n",
      " 'X125SA1' 'X128WM1' 'X136SA1' 'X136WM1' 'X238WM1' 'X091SA1' 'X167SA1'\n",
      " 'X171SA1' 'X003WM1' 'X106SA1' 'X125WM1' 'X167WM1' 'X233SA1' 'BC32WM1'\n",
      " 'X084WM1' 'X106WM1' 'X111SA1' 'X118SA1' 'X147SA1' 'X171WM1' 'X279SA1'\n",
      " 'X279WM1' 'X084SA1' 'X091WM1' 'X101WM1' 'X147WM1' 'X156SA1' 'X209SA1'\n",
      " 'X209WM1' 'X233WM1' 'X095SA1' 'X112SA1' 'X123WM1' 'X123SA1' 'X164SA1'\n",
      " 'X164WM1' 'X113SA1' 'X154SA1' 'X046SA2' 'X095WM1' 'X105SA1' 'X105WM1'\n",
      " 'X113WM1' 'X146SA1' 'X204SA1' 'X204WM1' 'X215SA1' 'X229SA1' 'X229WM1'\n",
      " 'X086SA1' 'X099SA1' 'X112WM1' 'X138WM1' 'X146WM1' 'X154WM1' 'X170SA1'\n",
      " 'X173SA1' 'X185SA1' 'X186SA1' 'X187SA1' 'X192SA1' 'X224WM1' 'X267SA1'\n",
      " 'X267WM1' 'X086WM1' 'X099WM1' 'X107SA1' 'X156WM1' 'X173WM1' 'X187WM1'\n",
      " 'X215WM1' 'X224SA1' 'X245WM1' 'X245SA1' 'X129SA1' 'X138SA1' 'X140WM1'\n",
      " 'X140SA1' 'X170WM1' 'X186WM1' 'X252SA1' 'X297WM1' 'X297SA1' 'X328SA1'\n",
      " 'X050WM1' 'X050SA1' 'X053SA1' 'X056WM1' 'X111WM1' 'X129WM1' 'X192WM1'\n",
      " 'X219SA1' 'X252WM1' 'X328WM1' 'X107WM1' 'X185WM1' 'X259SA1' 'X076SA1'\n",
      " 'X076WM1' 'X172SA1' 'X172WM1' 'X190SA1' 'X331WM1' 'X331SA1' 'X341SA1'\n",
      " 'X188SA1' 'X218WM1' 'X218SA1' 'X243WM1' 'X243SA1' 'X249SA1' 'X249WM1'\n",
      " 'X254SA1' 'X259WM1' 'X264SA1' 'X386SA1' 'X386WM1' 'X405SA1' 'X405WM1'\n",
      " 'X132SA1' 'X201SA1' 'X201WM1' 'X247SA1' 'X254WM1' 'X327WM1' 'X327SA1'\n",
      " 'X347WM1' 'X347SA1' 'X155SA1' 'X190WM1' 'X247WM1' 'X264WM1' 'X270SA1'\n",
      " 'X322SA1' 'X329SA1' 'X329WM1' 'X401SA1' 'X053WM1' 'X149SA1' 'X217SA1'\n",
      " 'X270WM1' 'X401WM1' 'X118WM1' 'X132WM1' 'X149WM1' 'X155WM1' 'X253SA1'\n",
      " 'X253WM1' 'X260SA1' 'X350SA1' 'X364WM1' 'X217WM1' 'X121SA1' 'X122WM1'\n",
      " 'X122SA1' 'X437SA1' 'X073SA1' 'X073WM1' 'X261SA1' 'X350WM1' 'X139SA1'\n",
      " 'X241SA1' 'X241WM1' 'X242WM1' 'X242SA1' 'X246SA1' 'X260WM1' 'X364SA1'\n",
      " 'X435SA1' 'X133SA1' 'X133WM1' 'X139WM1' 'X166SA1' 'X180SA1' 'X183WM1'\n",
      " 'X183SA1' 'X203WM1' 'X203SA1' 'X246WM1' 'X261WM1' 'X277SA1' 'X334SA1'\n",
      " 'X334WM1' 'X418SA1' 'X281SA1' 'X281WM1' 'X317SA1' 'X317WM1' 'X308SA1'\n",
      " 'X413SA1' 'X205SA1' 'X265WM1' 'X322WM1' 'X332SA1' 'X366WM1' 'X366SA1'\n",
      " 'X384SA1' 'X392SA1' 'X413WM1' 'X121WM1' 'X135SA1' 'X177SA1' 'X177WM1'\n",
      " 'X199WM1' 'X199SA1' 'X244SA1' 'X244WM1' 'X265SA1' 'X339SA1' 'X384WM1'\n",
      " 'X444SA1' 'X444WM1' 'X131SA1' 'X169SA1' 'X169WM1' 'X188WM1' 'X205WM1'\n",
      " 'X219WM1' 'X286SA1' 'X332WM1' 'X357SA1' 'X380SA1' 'X131WM1' 'X135WM1'\n",
      " 'X308WM1' 'X380WM1' 'X392WM1' 'X320SA1' 'X320WM1' 'X161SA1' 'X324SA1'\n",
      " 'X357WM1' 'X397SA1' 'X397WM1' 'X435WM1' 'X089SA1' 'X089WM1' 'X214WM1'\n",
      " 'X269SA1' 'X316SA1' 'X083SA1' 'X119SA1' 'X196SA1' 'X196WM1' 'X202SA1'\n",
      " 'X202WM1' 'X214SA1' 'X316WM1' 'X324WM1' 'X403SA1' 'X458SA1' 'X206SA1'\n",
      " 'X286WM1' 'X359SA1' 'X432SA1' 'X437WM1' 'X458WM1' 'X119WM1' 'X277WM1'\n",
      " 'X285SA1' 'X432WM1' 'X211SA1' 'X418WM1' 'X341WM1']\n"
     ]
    }
   ],
   "source": [
    "for col in list(invoice):\n",
    "    print(col,\":\",invoice[col].unique())"
   ]
  },
  {
   "cell_type": "code",
   "execution_count": 9,
   "metadata": {
    "colab": {},
    "colab_type": "code",
    "id": "T6VX-kIViodB"
   },
   "outputs": [],
   "source": [
    "remove_cols=list(invoice_missing[(invoice_missing[\"Missing\"]>39) & (invoice_missing[\"Missing\"]<90)].index)"
   ]
  },
  {
   "cell_type": "code",
   "execution_count": 10,
   "metadata": {
    "colab": {},
    "colab_type": "code",
    "id": "PI775Q95iodK"
   },
   "outputs": [],
   "source": [
    "remove_cols.remove(\"ODN No.\")\n",
    "remove_cols.remove('Outstanding Amt')\n",
    "remove_cols.remove('Technician Name')\n",
    "remove_cols.remove('Total Value')"
   ]
  },
  {
   "cell_type": "code",
   "execution_count": 11,
   "metadata": {
    "colab": {
     "base_uri": "https://localhost:8080/",
     "height": 35
    },
    "colab_type": "code",
    "id": "Weg8naIqiodX",
    "outputId": "7a6da4c1-d0f0-4da1-b6fb-98144de01c37"
   },
   "outputs": [
    {
     "data": {
      "text/plain": [
       "(492314, 32)"
      ]
     },
     "execution_count": 11,
     "metadata": {},
     "output_type": "execute_result"
    }
   ],
   "source": [
    "invoice.drop(remove_cols,1,inplace=True)\n",
    "invoice.shape"
   ]
  },
  {
   "cell_type": "code",
   "execution_count": 12,
   "metadata": {
    "colab": {
     "base_uri": "https://localhost:8080/",
     "height": 348
    },
    "colab_type": "code",
    "id": "M0VhDdB5iodk",
    "outputId": "8a9d3ac1-b317-491d-d56d-a70798ed3975"
   },
   "outputs": [
    {
     "data": {
      "text/html": [
       "<div>\n",
       "<style scoped>\n",
       "    .dataframe tbody tr th:only-of-type {\n",
       "        vertical-align: middle;\n",
       "    }\n",
       "\n",
       "    .dataframe tbody tr th {\n",
       "        vertical-align: top;\n",
       "    }\n",
       "\n",
       "    .dataframe thead th {\n",
       "        text-align: right;\n",
       "    }\n",
       "</style>\n",
       "<table border=\"1\" class=\"dataframe\">\n",
       "  <thead>\n",
       "    <tr style=\"text-align: right;\">\n",
       "      <th></th>\n",
       "      <th>Area / Locality</th>\n",
       "      <th>CITY</th>\n",
       "      <th>Cust Type</th>\n",
       "      <th>Customer No.</th>\n",
       "      <th>District</th>\n",
       "      <th>Gate Pass Time</th>\n",
       "      <th>Invoice Date</th>\n",
       "      <th>Invoice No</th>\n",
       "      <th>Invoice Time</th>\n",
       "      <th>Job Card No</th>\n",
       "      <th>JobCard Date</th>\n",
       "      <th>JobCard Time</th>\n",
       "      <th>KMs Reading</th>\n",
       "      <th>Labour Total</th>\n",
       "      <th>Make</th>\n",
       "      <th>Misc Total</th>\n",
       "      <th>Model</th>\n",
       "      <th>ODN No.</th>\n",
       "      <th>OSL Total</th>\n",
       "      <th>Order Type</th>\n",
       "      <th>Outstanding Amt</th>\n",
       "      <th>Parts Total</th>\n",
       "      <th>Pin code</th>\n",
       "      <th>Plant</th>\n",
       "      <th>Plant Name1</th>\n",
       "      <th>Print Status</th>\n",
       "      <th>Recovrbl Exp</th>\n",
       "      <th>Regn No</th>\n",
       "      <th>Technician Name</th>\n",
       "      <th>Total Amt Wtd Tax.</th>\n",
       "      <th>Total Value</th>\n",
       "      <th>User ID</th>\n",
       "    </tr>\n",
       "  </thead>\n",
       "  <tbody>\n",
       "    <tr>\n",
       "      <th>0</th>\n",
       "      <td>MAJIWADA</td>\n",
       "      <td>Thane</td>\n",
       "      <td>Retail</td>\n",
       "      <td>67849</td>\n",
       "      <td>Maharashtra</td>\n",
       "      <td>00:00:00</td>\n",
       "      <td>2015-01-02</td>\n",
       "      <td>7005200002</td>\n",
       "      <td>11:30:36</td>\n",
       "      <td>168303</td>\n",
       "      <td>2014-12-13</td>\n",
       "      <td>14:29:43</td>\n",
       "      <td>49317</td>\n",
       "      <td>1203.14</td>\n",
       "      <td>GENERAL MOTORS</td>\n",
       "      <td>0.00</td>\n",
       "      <td>SPARK</td>\n",
       "      <td>7.005200e+09</td>\n",
       "      <td>500.06</td>\n",
       "      <td>Paid Service</td>\n",
       "      <td>0.0</td>\n",
       "      <td>2348.75</td>\n",
       "      <td>400601</td>\n",
       "      <td>BC01</td>\n",
       "      <td>THANE</td>\n",
       "      <td>NO</td>\n",
       "      <td>0.0</td>\n",
       "      <td>KA19MA1291</td>\n",
       "      <td>RUPESH</td>\n",
       "      <td>4051.95</td>\n",
       "      <td>4051.95</td>\n",
       "      <td>BC01FS1</td>\n",
       "    </tr>\n",
       "    <tr>\n",
       "      <th>1</th>\n",
       "      <td>THNAE</td>\n",
       "      <td>THNAE</td>\n",
       "      <td>Retail</td>\n",
       "      <td>84419</td>\n",
       "      <td>Maharashtra</td>\n",
       "      <td>00:00:00</td>\n",
       "      <td>2015-01-03</td>\n",
       "      <td>7005200003</td>\n",
       "      <td>10:07:32</td>\n",
       "      <td>173997</td>\n",
       "      <td>2015-01-02</td>\n",
       "      <td>14:12:18</td>\n",
       "      <td>78584</td>\n",
       "      <td>804.26</td>\n",
       "      <td>TATA MOTORS</td>\n",
       "      <td>197.03</td>\n",
       "      <td>INDICA</td>\n",
       "      <td>7.005200e+09</td>\n",
       "      <td>0.00</td>\n",
       "      <td>SMC Value Package</td>\n",
       "      <td>0.0</td>\n",
       "      <td>0.00</td>\n",
       "      <td>400603</td>\n",
       "      <td>BC01</td>\n",
       "      <td>THANE</td>\n",
       "      <td>NO</td>\n",
       "      <td>0.0</td>\n",
       "      <td>MH43R3046</td>\n",
       "      <td>PRASHANT</td>\n",
       "      <td>1001.29</td>\n",
       "      <td>1001.29</td>\n",
       "      <td>BC01SA2</td>\n",
       "    </tr>\n",
       "    <tr>\n",
       "      <th>2</th>\n",
       "      <td>THANE</td>\n",
       "      <td>THANE[W]</td>\n",
       "      <td>Retail</td>\n",
       "      <td>81055</td>\n",
       "      <td>Maharashtra</td>\n",
       "      <td>00:00:00</td>\n",
       "      <td>2015-01-03</td>\n",
       "      <td>7005200004</td>\n",
       "      <td>11:12:57</td>\n",
       "      <td>173889</td>\n",
       "      <td>2015-01-02</td>\n",
       "      <td>11:40:44</td>\n",
       "      <td>33985</td>\n",
       "      <td>180.19</td>\n",
       "      <td>MARUTI SUZUKI</td>\n",
       "      <td>0.00</td>\n",
       "      <td>ZEN</td>\n",
       "      <td>7.005200e+09</td>\n",
       "      <td>0.00</td>\n",
       "      <td>Running Repairs</td>\n",
       "      <td>0.0</td>\n",
       "      <td>52.95</td>\n",
       "      <td>400607</td>\n",
       "      <td>BC01</td>\n",
       "      <td>THANE</td>\n",
       "      <td>NO</td>\n",
       "      <td>0.0</td>\n",
       "      <td>AP09AX0582</td>\n",
       "      <td>IMRAN</td>\n",
       "      <td>233.14</td>\n",
       "      <td>233.14</td>\n",
       "      <td>BC01SA2</td>\n",
       "    </tr>\n",
       "    <tr>\n",
       "      <th>3</th>\n",
       "      <td>THNAE</td>\n",
       "      <td>THNAE</td>\n",
       "      <td>Retail</td>\n",
       "      <td>84419</td>\n",
       "      <td>Maharashtra</td>\n",
       "      <td>00:00:00</td>\n",
       "      <td>2015-01-03</td>\n",
       "      <td>7005200005</td>\n",
       "      <td>11:40:44</td>\n",
       "      <td>174158</td>\n",
       "      <td>2015-01-03</td>\n",
       "      <td>10:12:32</td>\n",
       "      <td>78584</td>\n",
       "      <td>0.00</td>\n",
       "      <td>TATA MOTORS</td>\n",
       "      <td>0.00</td>\n",
       "      <td>INDICA</td>\n",
       "      <td>7.005200e+09</td>\n",
       "      <td>0.00</td>\n",
       "      <td>SMC Redemption</td>\n",
       "      <td>0.0</td>\n",
       "      <td>0.00</td>\n",
       "      <td>400603</td>\n",
       "      <td>BC01</td>\n",
       "      <td>THANE</td>\n",
       "      <td>NO</td>\n",
       "      <td>0.0</td>\n",
       "      <td>MH43R3046</td>\n",
       "      <td>PRASHANT</td>\n",
       "      <td>0.00</td>\n",
       "      <td>0.00</td>\n",
       "      <td>BC01SA2</td>\n",
       "    </tr>\n",
       "    <tr>\n",
       "      <th>4</th>\n",
       "      <td>THANE</td>\n",
       "      <td>THANE</td>\n",
       "      <td>Retail</td>\n",
       "      <td>18980</td>\n",
       "      <td>Maharashtra</td>\n",
       "      <td>00:00:00</td>\n",
       "      <td>2015-01-03</td>\n",
       "      <td>7005200006</td>\n",
       "      <td>12:07:17</td>\n",
       "      <td>173860</td>\n",
       "      <td>2015-01-02</td>\n",
       "      <td>10:45:42</td>\n",
       "      <td>50057</td>\n",
       "      <td>1202.97</td>\n",
       "      <td>HYUNDAI</td>\n",
       "      <td>100.00</td>\n",
       "      <td>SANTRO XING</td>\n",
       "      <td>7.005200e+09</td>\n",
       "      <td>499.99</td>\n",
       "      <td>Paid Service</td>\n",
       "      <td>0.0</td>\n",
       "      <td>944.16</td>\n",
       "      <td>400603</td>\n",
       "      <td>BC01</td>\n",
       "      <td>THANE</td>\n",
       "      <td>NO</td>\n",
       "      <td>0.0</td>\n",
       "      <td>MH04CD9768</td>\n",
       "      <td>DAYANAND</td>\n",
       "      <td>2747.12</td>\n",
       "      <td>2747.12</td>\n",
       "      <td>BC01SA2</td>\n",
       "    </tr>\n",
       "  </tbody>\n",
       "</table>\n",
       "</div>"
      ],
      "text/plain": [
       "  Area / Locality      CITY Cust Type Customer No.     District  \\\n",
       "0        MAJIWADA     Thane    Retail        67849  Maharashtra   \n",
       "1           THNAE     THNAE    Retail        84419  Maharashtra   \n",
       "2           THANE  THANE[W]    Retail        81055  Maharashtra   \n",
       "3           THNAE     THNAE    Retail        84419  Maharashtra   \n",
       "4           THANE     THANE    Retail        18980  Maharashtra   \n",
       "\n",
       "  Gate Pass Time Invoice Date  Invoice No Invoice Time  Job Card No  \\\n",
       "0       00:00:00   2015-01-02  7005200002     11:30:36       168303   \n",
       "1       00:00:00   2015-01-03  7005200003     10:07:32       173997   \n",
       "2       00:00:00   2015-01-03  7005200004     11:12:57       173889   \n",
       "3       00:00:00   2015-01-03  7005200005     11:40:44       174158   \n",
       "4       00:00:00   2015-01-03  7005200006     12:07:17       173860   \n",
       "\n",
       "  JobCard Date JobCard Time  KMs Reading  Labour Total            Make  \\\n",
       "0   2014-12-13     14:29:43        49317       1203.14  GENERAL MOTORS   \n",
       "1   2015-01-02     14:12:18        78584        804.26     TATA MOTORS   \n",
       "2   2015-01-02     11:40:44        33985        180.19   MARUTI SUZUKI   \n",
       "3   2015-01-03     10:12:32        78584          0.00     TATA MOTORS   \n",
       "4   2015-01-02     10:45:42        50057       1202.97         HYUNDAI   \n",
       "\n",
       "   Misc Total        Model       ODN No.  OSL Total         Order Type  \\\n",
       "0        0.00        SPARK  7.005200e+09     500.06       Paid Service   \n",
       "1      197.03       INDICA  7.005200e+09       0.00  SMC Value Package   \n",
       "2        0.00          ZEN  7.005200e+09       0.00    Running Repairs   \n",
       "3        0.00       INDICA  7.005200e+09       0.00     SMC Redemption   \n",
       "4      100.00  SANTRO XING  7.005200e+09     499.99       Paid Service   \n",
       "\n",
       "   Outstanding Amt  Parts Total  Pin code Plant Plant Name1 Print Status  \\\n",
       "0              0.0      2348.75    400601  BC01       THANE           NO   \n",
       "1              0.0         0.00    400603  BC01       THANE           NO   \n",
       "2              0.0        52.95    400607  BC01       THANE           NO   \n",
       "3              0.0         0.00    400603  BC01       THANE           NO   \n",
       "4              0.0       944.16    400603  BC01       THANE           NO   \n",
       "\n",
       "   Recovrbl Exp     Regn No Technician Name  Total Amt Wtd Tax.  Total Value  \\\n",
       "0           0.0  KA19MA1291          RUPESH             4051.95      4051.95   \n",
       "1           0.0   MH43R3046        PRASHANT             1001.29      1001.29   \n",
       "2           0.0  AP09AX0582           IMRAN              233.14       233.14   \n",
       "3           0.0   MH43R3046        PRASHANT                0.00         0.00   \n",
       "4           0.0  MH04CD9768        DAYANAND             2747.12      2747.12   \n",
       "\n",
       "   User ID  \n",
       "0  BC01FS1  \n",
       "1  BC01SA2  \n",
       "2  BC01SA2  \n",
       "3  BC01SA2  \n",
       "4  BC01SA2  "
      ]
     },
     "execution_count": 12,
     "metadata": {},
     "output_type": "execute_result"
    }
   ],
   "source": [
    "invoice.head()"
   ]
  },
  {
   "cell_type": "markdown",
   "metadata": {
    "colab_type": "text",
    "id": "uvX9Ex1xiodv"
   },
   "source": [
    "#### Convert \"Invoice Date\" and \"Inovoice Time\" to datetime format, similarly for \"JobCard TIme\" and \"JobCard Date\""
   ]
  },
  {
   "cell_type": "code",
   "execution_count": 67,
   "metadata": {
    "colab": {},
    "colab_type": "code",
    "id": "GREAcC_Diody"
   },
   "outputs": [],
   "source": [
    "invoice[\"Invoice_DateTime\"]=pd.to_datetime(invoice[\"Invoice Date\"]+\" \"+invoice[\"Invoice Time\"])\n",
    "invoice[\"JobCard_DateTime\"]=pd.to_datetime(invoice[\"JobCard Date\"]+\" \"+invoice[\"JobCard Time\"])"
   ]
  },
  {
   "cell_type": "markdown",
   "metadata": {
    "colab_type": "text",
    "id": "31nwBH-2iod7"
   },
   "source": [
    "#### Drop columns which are already combined "
   ]
  },
  {
   "cell_type": "code",
   "execution_count": 68,
   "metadata": {
    "colab": {},
    "colab_type": "code",
    "id": "s9AeJw6yiod_"
   },
   "outputs": [],
   "source": [
    "invoice.drop([\"Invoice Date\",\"Invoice Time\",\"JobCard Date\",\"JobCard Time\"],1,inplace=True)"
   ]
  },
  {
   "cell_type": "markdown",
   "metadata": {
    "colab_type": "text",
    "id": "zDfvtHskioeJ"
   },
   "source": [
    "#### Calculate Service Time based on JobCard Datetime and Invoice Datetime"
   ]
  },
  {
   "cell_type": "code",
   "execution_count": 69,
   "metadata": {
    "colab": {},
    "colab_type": "code",
    "id": "cpXaZtKaioeL"
   },
   "outputs": [],
   "source": [
    "invoice[\"Service_Time\"]=invoice[\"Invoice_DateTime\"]-invoice[\"JobCard_DateTime\"]"
   ]
  },
  {
   "cell_type": "markdown",
   "metadata": {
    "colab_type": "text",
    "id": "owbZiTdYioeR"
   },
   "source": [
    "#### Drop unnecessary columns"
   ]
  },
  {
   "cell_type": "code",
   "execution_count": 70,
   "metadata": {
    "colab": {},
    "colab_type": "code",
    "id": "HbJTfnCDioeT"
   },
   "outputs": [],
   "source": [
    "invoice.drop([\"Labour Total\",\"Misc Total\",\"OSL Total\",\"Parts Total\",\"Total Amt Wtd Tax.\"],1,inplace=True)"
   ]
  },
  {
   "cell_type": "code",
   "execution_count": 71,
   "metadata": {
    "colab": {
     "base_uri": "https://localhost:8080/",
     "height": 35
    },
    "colab_type": "code",
    "id": "dwoVeBtvioed",
    "outputId": "6f81354d-6c32-414c-aba4-59419d1b57c5"
   },
   "outputs": [
    {
     "data": {
      "text/plain": [
       "(492314, 26)"
      ]
     },
     "execution_count": 71,
     "metadata": {},
     "output_type": "execute_result"
    }
   ],
   "source": [
    "invoice.shape"
   ]
  },
  {
   "cell_type": "markdown",
   "metadata": {
    "colab_type": "text",
    "id": "TcNMoVYmioel"
   },
   "source": [
    "#### Cleaning \"Area/Locality\", \"City\" and \"District\" columns "
   ]
  },
  {
   "cell_type": "code",
   "execution_count": 72,
   "metadata": {
    "colab": {},
    "colab_type": "code",
    "id": "HXB5yHL9ioeo"
   },
   "outputs": [],
   "source": [
    "invoice[\"Clean_CITY\"]=nomi.query_postal_code(np.array(invoice[\"Pin code\"].astype(str))).county_name\n",
    "invoice[\"Clean_District\"]=nomi.query_postal_code(np.array(invoice[\"Pin code\"].astype(str))).state_name\n",
    "invoice[\"Clean_Location_Area\"]=nomi.query_postal_code(np.array(invoice[\"Pin code\"].astype(str))).place_name"
   ]
  },
  {
   "cell_type": "markdown",
   "metadata": {
    "colab_type": "text",
    "id": "soUsnSvWioev"
   },
   "source": [
    "#### Dropping old  \"Area/Locality\", \"City\" and \"District\" columns "
   ]
  },
  {
   "cell_type": "code",
   "execution_count": 73,
   "metadata": {
    "colab": {},
    "colab_type": "code",
    "id": "K_NOc47vioey"
   },
   "outputs": [],
   "source": [
    "invoice.drop([\"Area / Locality\",\"CITY\",\"District\"],1,inplace=True)"
   ]
  },
  {
   "cell_type": "code",
   "execution_count": 74,
   "metadata": {
    "colab": {},
    "colab_type": "code",
    "id": "oMG0M0Roioe7"
   },
   "outputs": [],
   "source": [
    "invoice.drop([\"Outstanding Amt\"],1,inplace=True)"
   ]
  },
  {
   "cell_type": "code",
   "execution_count": 75,
   "metadata": {
    "colab": {},
    "colab_type": "code",
    "id": "G0pBmsBsiofC"
   },
   "outputs": [],
   "source": [
    "invoice[\"Year\"]=invoice[\"Invoice_DateTime\"].dt.year"
   ]
  },
  {
   "cell_type": "code",
   "execution_count": 76,
   "metadata": {
    "colab": {
     "base_uri": "https://localhost:8080/",
     "height": 35
    },
    "colab_type": "code",
    "id": "DCGwM4f3iofK",
    "outputId": "7b7c731f-23c6-4144-d62f-9d82af130639"
   },
   "outputs": [
    {
     "data": {
      "text/plain": [
       "(492314, 26)"
      ]
     },
     "execution_count": 76,
     "metadata": {},
     "output_type": "execute_result"
    }
   ],
   "source": [
    "invoice.shape"
   ]
  },
  {
   "cell_type": "markdown",
   "metadata": {
    "colab_type": "text",
    "id": "S-N_WbWLiofR"
   },
   "source": [
    "#### Calculation of Life Time Value for each customer over a period of 2013-2015 (3 years) based on \"Make\" and \"Model\" of the cars for only \"Running Repairs\""
   ]
  },
  {
   "cell_type": "code",
   "execution_count": 77,
   "metadata": {
    "colab": {},
    "colab_type": "code",
    "id": "mKAeRcMeiofU"
   },
   "outputs": [],
   "source": [
    "invoice_13_15=invoice[invoice[\"Year\"].isin([2013,2014,2015])]"
   ]
  },
  {
   "cell_type": "code",
   "execution_count": 78,
   "metadata": {
    "colab": {
     "base_uri": "https://localhost:8080/",
     "height": 35
    },
    "colab_type": "code",
    "id": "4iczUaJgiofa",
    "outputId": "d1e56b3a-756a-4754-a9a2-99f29dbd4e12"
   },
   "outputs": [
    {
     "data": {
      "text/plain": [
       "(276393, 26)"
      ]
     },
     "execution_count": 78,
     "metadata": {},
     "output_type": "execute_result"
    }
   ],
   "source": [
    "invoice_13_15.shape"
   ]
  },
  {
   "cell_type": "code",
   "execution_count": 79,
   "metadata": {
    "colab": {},
    "colab_type": "code",
    "id": "_z_JoZBBiofh"
   },
   "outputs": [],
   "source": [
    "invoice_13_15[\"Service_Time_Hours\"]=invoice_13_15[\"Service_Time\"]/np.timedelta64(1, 'h')"
   ]
  },
  {
   "cell_type": "code",
   "execution_count": 80,
   "metadata": {
    "colab": {
     "base_uri": "https://localhost:8080/",
     "height": 348
    },
    "colab_type": "code",
    "id": "NKfplMg1iofm",
    "outputId": "6cee1f54-8aef-41e2-8ae0-0b123a647de5"
   },
   "outputs": [
    {
     "data": {
      "text/html": [
       "<div>\n",
       "<style scoped>\n",
       "    .dataframe tbody tr th:only-of-type {\n",
       "        vertical-align: middle;\n",
       "    }\n",
       "\n",
       "    .dataframe tbody tr th {\n",
       "        vertical-align: top;\n",
       "    }\n",
       "\n",
       "    .dataframe thead th {\n",
       "        text-align: right;\n",
       "    }\n",
       "</style>\n",
       "<table border=\"1\" class=\"dataframe\">\n",
       "  <thead>\n",
       "    <tr style=\"text-align: right;\">\n",
       "      <th></th>\n",
       "      <th>Cust Type</th>\n",
       "      <th>Customer No.</th>\n",
       "      <th>Gate Pass Time</th>\n",
       "      <th>Invoice No</th>\n",
       "      <th>Job Card No</th>\n",
       "      <th>KMs Reading</th>\n",
       "      <th>Make</th>\n",
       "      <th>Model</th>\n",
       "      <th>ODN No.</th>\n",
       "      <th>Order Type</th>\n",
       "      <th>Pin code</th>\n",
       "      <th>Plant</th>\n",
       "      <th>Plant Name1</th>\n",
       "      <th>Print Status</th>\n",
       "      <th>Recovrbl Exp</th>\n",
       "      <th>Regn No</th>\n",
       "      <th>Technician Name</th>\n",
       "      <th>Total Value</th>\n",
       "      <th>User ID</th>\n",
       "      <th>Invoice_DateTime</th>\n",
       "      <th>JobCard_DateTime</th>\n",
       "      <th>Service_Time</th>\n",
       "      <th>Clean_CITY</th>\n",
       "      <th>Clean_District</th>\n",
       "      <th>Clean_Location_Area</th>\n",
       "      <th>Year</th>\n",
       "      <th>Service_Time_Hours</th>\n",
       "    </tr>\n",
       "  </thead>\n",
       "  <tbody>\n",
       "    <tr>\n",
       "      <th>0</th>\n",
       "      <td>Retail</td>\n",
       "      <td>67849</td>\n",
       "      <td>00:00:00</td>\n",
       "      <td>7005200002</td>\n",
       "      <td>168303</td>\n",
       "      <td>49317</td>\n",
       "      <td>GENERAL MOTORS</td>\n",
       "      <td>SPARK</td>\n",
       "      <td>7.005200e+09</td>\n",
       "      <td>Paid Service</td>\n",
       "      <td>400601</td>\n",
       "      <td>BC01</td>\n",
       "      <td>THANE</td>\n",
       "      <td>NO</td>\n",
       "      <td>0.0</td>\n",
       "      <td>KA19MA1291</td>\n",
       "      <td>RUPESH</td>\n",
       "      <td>4051.95</td>\n",
       "      <td>BC01FS1</td>\n",
       "      <td>2015-01-02 11:30:36</td>\n",
       "      <td>2014-12-13 14:29:43</td>\n",
       "      <td>19 days 21:00:53</td>\n",
       "      <td>Thane</td>\n",
       "      <td>Maharashtra</td>\n",
       "      <td>Thane H.O, Thane Bazar, Thane R.S.</td>\n",
       "      <td>2015</td>\n",
       "      <td>477.014722</td>\n",
       "    </tr>\n",
       "    <tr>\n",
       "      <th>1</th>\n",
       "      <td>Retail</td>\n",
       "      <td>84419</td>\n",
       "      <td>00:00:00</td>\n",
       "      <td>7005200003</td>\n",
       "      <td>173997</td>\n",
       "      <td>78584</td>\n",
       "      <td>TATA MOTORS</td>\n",
       "      <td>INDICA</td>\n",
       "      <td>7.005200e+09</td>\n",
       "      <td>SMC Value Package</td>\n",
       "      <td>400603</td>\n",
       "      <td>BC01</td>\n",
       "      <td>THANE</td>\n",
       "      <td>NO</td>\n",
       "      <td>0.0</td>\n",
       "      <td>MH43R3046</td>\n",
       "      <td>PRASHANT</td>\n",
       "      <td>1001.29</td>\n",
       "      <td>BC01SA2</td>\n",
       "      <td>2015-01-03 10:07:32</td>\n",
       "      <td>2015-01-02 14:12:18</td>\n",
       "      <td>0 days 19:55:14</td>\n",
       "      <td>Thane</td>\n",
       "      <td>Maharashtra</td>\n",
       "      <td>Thane East, Kopri Colony</td>\n",
       "      <td>2015</td>\n",
       "      <td>19.920556</td>\n",
       "    </tr>\n",
       "    <tr>\n",
       "      <th>2</th>\n",
       "      <td>Retail</td>\n",
       "      <td>81055</td>\n",
       "      <td>00:00:00</td>\n",
       "      <td>7005200004</td>\n",
       "      <td>173889</td>\n",
       "      <td>33985</td>\n",
       "      <td>MARUTI SUZUKI</td>\n",
       "      <td>ZEN</td>\n",
       "      <td>7.005200e+09</td>\n",
       "      <td>Running Repairs</td>\n",
       "      <td>400607</td>\n",
       "      <td>BC01</td>\n",
       "      <td>THANE</td>\n",
       "      <td>NO</td>\n",
       "      <td>0.0</td>\n",
       "      <td>AP09AX0582</td>\n",
       "      <td>IMRAN</td>\n",
       "      <td>233.14</td>\n",
       "      <td>BC01SA2</td>\n",
       "      <td>2015-01-03 11:12:57</td>\n",
       "      <td>2015-01-02 11:40:44</td>\n",
       "      <td>0 days 23:32:13</td>\n",
       "      <td>Thane</td>\n",
       "      <td>Maharashtra</td>\n",
       "      <td>Chitalsar Manpada, Sandozbaugh</td>\n",
       "      <td>2015</td>\n",
       "      <td>23.536944</td>\n",
       "    </tr>\n",
       "    <tr>\n",
       "      <th>3</th>\n",
       "      <td>Retail</td>\n",
       "      <td>84419</td>\n",
       "      <td>00:00:00</td>\n",
       "      <td>7005200005</td>\n",
       "      <td>174158</td>\n",
       "      <td>78584</td>\n",
       "      <td>TATA MOTORS</td>\n",
       "      <td>INDICA</td>\n",
       "      <td>7.005200e+09</td>\n",
       "      <td>SMC Redemption</td>\n",
       "      <td>400603</td>\n",
       "      <td>BC01</td>\n",
       "      <td>THANE</td>\n",
       "      <td>NO</td>\n",
       "      <td>0.0</td>\n",
       "      <td>MH43R3046</td>\n",
       "      <td>PRASHANT</td>\n",
       "      <td>0.00</td>\n",
       "      <td>BC01SA2</td>\n",
       "      <td>2015-01-03 11:40:44</td>\n",
       "      <td>2015-01-03 10:12:32</td>\n",
       "      <td>0 days 01:28:12</td>\n",
       "      <td>Thane</td>\n",
       "      <td>Maharashtra</td>\n",
       "      <td>Thane East, Kopri Colony</td>\n",
       "      <td>2015</td>\n",
       "      <td>1.470000</td>\n",
       "    </tr>\n",
       "    <tr>\n",
       "      <th>4</th>\n",
       "      <td>Retail</td>\n",
       "      <td>18980</td>\n",
       "      <td>00:00:00</td>\n",
       "      <td>7005200006</td>\n",
       "      <td>173860</td>\n",
       "      <td>50057</td>\n",
       "      <td>HYUNDAI</td>\n",
       "      <td>SANTRO XING</td>\n",
       "      <td>7.005200e+09</td>\n",
       "      <td>Paid Service</td>\n",
       "      <td>400603</td>\n",
       "      <td>BC01</td>\n",
       "      <td>THANE</td>\n",
       "      <td>NO</td>\n",
       "      <td>0.0</td>\n",
       "      <td>MH04CD9768</td>\n",
       "      <td>DAYANAND</td>\n",
       "      <td>2747.12</td>\n",
       "      <td>BC01SA2</td>\n",
       "      <td>2015-01-03 12:07:17</td>\n",
       "      <td>2015-01-02 10:45:42</td>\n",
       "      <td>1 days 01:21:35</td>\n",
       "      <td>Thane</td>\n",
       "      <td>Maharashtra</td>\n",
       "      <td>Thane East, Kopri Colony</td>\n",
       "      <td>2015</td>\n",
       "      <td>25.359722</td>\n",
       "    </tr>\n",
       "  </tbody>\n",
       "</table>\n",
       "</div>"
      ],
      "text/plain": [
       "  Cust Type Customer No. Gate Pass Time  Invoice No  Job Card No  KMs Reading  \\\n",
       "0    Retail        67849       00:00:00  7005200002       168303        49317   \n",
       "1    Retail        84419       00:00:00  7005200003       173997        78584   \n",
       "2    Retail        81055       00:00:00  7005200004       173889        33985   \n",
       "3    Retail        84419       00:00:00  7005200005       174158        78584   \n",
       "4    Retail        18980       00:00:00  7005200006       173860        50057   \n",
       "\n",
       "             Make        Model       ODN No.         Order Type  Pin code  \\\n",
       "0  GENERAL MOTORS        SPARK  7.005200e+09       Paid Service    400601   \n",
       "1     TATA MOTORS       INDICA  7.005200e+09  SMC Value Package    400603   \n",
       "2   MARUTI SUZUKI          ZEN  7.005200e+09    Running Repairs    400607   \n",
       "3     TATA MOTORS       INDICA  7.005200e+09     SMC Redemption    400603   \n",
       "4         HYUNDAI  SANTRO XING  7.005200e+09       Paid Service    400603   \n",
       "\n",
       "  Plant Plant Name1 Print Status  Recovrbl Exp     Regn No Technician Name  \\\n",
       "0  BC01       THANE           NO           0.0  KA19MA1291          RUPESH   \n",
       "1  BC01       THANE           NO           0.0   MH43R3046        PRASHANT   \n",
       "2  BC01       THANE           NO           0.0  AP09AX0582           IMRAN   \n",
       "3  BC01       THANE           NO           0.0   MH43R3046        PRASHANT   \n",
       "4  BC01       THANE           NO           0.0  MH04CD9768        DAYANAND   \n",
       "\n",
       "   Total Value  User ID    Invoice_DateTime    JobCard_DateTime  \\\n",
       "0      4051.95  BC01FS1 2015-01-02 11:30:36 2014-12-13 14:29:43   \n",
       "1      1001.29  BC01SA2 2015-01-03 10:07:32 2015-01-02 14:12:18   \n",
       "2       233.14  BC01SA2 2015-01-03 11:12:57 2015-01-02 11:40:44   \n",
       "3         0.00  BC01SA2 2015-01-03 11:40:44 2015-01-03 10:12:32   \n",
       "4      2747.12  BC01SA2 2015-01-03 12:07:17 2015-01-02 10:45:42   \n",
       "\n",
       "      Service_Time Clean_CITY Clean_District  \\\n",
       "0 19 days 21:00:53      Thane    Maharashtra   \n",
       "1  0 days 19:55:14      Thane    Maharashtra   \n",
       "2  0 days 23:32:13      Thane    Maharashtra   \n",
       "3  0 days 01:28:12      Thane    Maharashtra   \n",
       "4  1 days 01:21:35      Thane    Maharashtra   \n",
       "\n",
       "                  Clean_Location_Area  Year  Service_Time_Hours  \n",
       "0  Thane H.O, Thane Bazar, Thane R.S.  2015          477.014722  \n",
       "1            Thane East, Kopri Colony  2015           19.920556  \n",
       "2      Chitalsar Manpada, Sandozbaugh  2015           23.536944  \n",
       "3            Thane East, Kopri Colony  2015            1.470000  \n",
       "4            Thane East, Kopri Colony  2015           25.359722  "
      ]
     },
     "execution_count": 80,
     "metadata": {},
     "output_type": "execute_result"
    }
   ],
   "source": [
    "invoice_13_15.head()"
   ]
  },
  {
   "cell_type": "code",
   "execution_count": 81,
   "metadata": {
    "colab": {
     "base_uri": "https://localhost:8080/",
     "height": 348
    },
    "colab_type": "code",
    "id": "r_wYXYEpiofw",
    "outputId": "adc447e9-824f-43f6-e24c-ffde4f47141e"
   },
   "outputs": [
    {
     "data": {
      "text/html": [
       "<div>\n",
       "<style scoped>\n",
       "    .dataframe tbody tr th:only-of-type {\n",
       "        vertical-align: middle;\n",
       "    }\n",
       "\n",
       "    .dataframe tbody tr th {\n",
       "        vertical-align: top;\n",
       "    }\n",
       "\n",
       "    .dataframe thead th {\n",
       "        text-align: right;\n",
       "    }\n",
       "</style>\n",
       "<table border=\"1\" class=\"dataframe\">\n",
       "  <thead>\n",
       "    <tr style=\"text-align: right;\">\n",
       "      <th></th>\n",
       "      <th>Make</th>\n",
       "      <th>Model</th>\n",
       "      <th>Clean_Location_Area</th>\n",
       "      <th>Customer No.</th>\n",
       "      <th>Invoice No</th>\n",
       "      <th>Total Value</th>\n",
       "      <th>Service_Time_Hours</th>\n",
       "      <th>LTV (for Running Repairs)</th>\n",
       "    </tr>\n",
       "  </thead>\n",
       "  <tbody>\n",
       "    <tr>\n",
       "      <th>0</th>\n",
       "      <td>AUDI</td>\n",
       "      <td>A4</td>\n",
       "      <td>Anandibazar, Ahmednagar H.O, Ahmednagar City, ...</td>\n",
       "      <td>118262</td>\n",
       "      <td>1</td>\n",
       "      <td>1754.44</td>\n",
       "      <td>0.268056</td>\n",
       "      <td>1754.44</td>\n",
       "    </tr>\n",
       "    <tr>\n",
       "      <th>1</th>\n",
       "      <td>AUDI</td>\n",
       "      <td>A4</td>\n",
       "      <td>Chander Nagar</td>\n",
       "      <td>58055</td>\n",
       "      <td>1</td>\n",
       "      <td>5700.48</td>\n",
       "      <td>26.655278</td>\n",
       "      <td>5700.48</td>\n",
       "    </tr>\n",
       "    <tr>\n",
       "      <th>2</th>\n",
       "      <td>AUDI</td>\n",
       "      <td>A4</td>\n",
       "      <td>Charatghar, Bhatoli, Jakhera, Nangran, Mehatpu...</td>\n",
       "      <td>137682</td>\n",
       "      <td>1</td>\n",
       "      <td>359.87</td>\n",
       "      <td>0.052778</td>\n",
       "      <td>359.87</td>\n",
       "    </tr>\n",
       "    <tr>\n",
       "      <th>3</th>\n",
       "      <td>AUDI</td>\n",
       "      <td>A4</td>\n",
       "      <td>Dapodi, Dapodi Bazar</td>\n",
       "      <td>11604</td>\n",
       "      <td>1</td>\n",
       "      <td>299.04</td>\n",
       "      <td>1.235278</td>\n",
       "      <td>299.04</td>\n",
       "    </tr>\n",
       "    <tr>\n",
       "      <th>4</th>\n",
       "      <td>AUDI</td>\n",
       "      <td>A4</td>\n",
       "      <td>Electronics City</td>\n",
       "      <td>113926</td>\n",
       "      <td>1</td>\n",
       "      <td>21834.92</td>\n",
       "      <td>28.306389</td>\n",
       "      <td>21834.92</td>\n",
       "    </tr>\n",
       "  </tbody>\n",
       "</table>\n",
       "</div>"
      ],
      "text/plain": [
       "   Make Model                                Clean_Location_Area Customer No.  \\\n",
       "0  AUDI    A4  Anandibazar, Ahmednagar H.O, Ahmednagar City, ...       118262   \n",
       "1  AUDI    A4                                      Chander Nagar        58055   \n",
       "2  AUDI    A4  Charatghar, Bhatoli, Jakhera, Nangran, Mehatpu...       137682   \n",
       "3  AUDI    A4                               Dapodi, Dapodi Bazar        11604   \n",
       "4  AUDI    A4                                   Electronics City       113926   \n",
       "\n",
       "   Invoice No  Total Value  Service_Time_Hours  LTV (for Running Repairs)  \n",
       "0           1      1754.44            0.268056                    1754.44  \n",
       "1           1      5700.48           26.655278                    5700.48  \n",
       "2           1       359.87            0.052778                     359.87  \n",
       "3           1       299.04            1.235278                     299.04  \n",
       "4           1     21834.92           28.306389                   21834.92  "
      ]
     },
     "execution_count": 81,
     "metadata": {},
     "output_type": "execute_result"
    }
   ],
   "source": [
    "invoice_running=invoice_13_15[invoice_13_15[\"Order Type\"]==\"Running Repairs\"]\n",
    "invoice_running.head()\n",
    "\n",
    "#model_transaction=invoice_running.groupby([\"Make\",\"Model\"]).agg({\"Invoice No\":'count',\"Total Value\":'mean'})\n",
    "#model_transaction=model_transaction.reset_index()\n",
    "\n",
    "customer_freq=invoice_running.groupby([\"Make\",\"Model\",\"Clean_Location_Area\",\"Customer No.\"]).agg({\"Invoice No\":'count',\"Total Value\":'mean',\"Service_Time_Hours\":'mean'})\n",
    "customer_freq=customer_freq.reset_index()\n",
    "customer_freq.head()\n",
    "ltv_make_model_r=customer_freq.copy()\n",
    "\n",
    "#ltv_make_model_r=pd.merge(customer_freq,model_transaction,on=[\"Make\",\"Model\"],how='left')\n",
    "#ltv_make_model_r.drop([\"Make_y\"],1,inplace=True)\n",
    "#ltv_make_model_r.head()\n",
    "\n",
    "ltv_make_model_r[\"LTV (for Running Repairs)\"]=ltv_make_model_r[\"Invoice No\"]*ltv_make_model_r[\"Total Value\"]\n",
    "ltv_make_model_r.head()"
   ]
  },
  {
   "cell_type": "code",
   "execution_count": 82,
   "metadata": {},
   "outputs": [
    {
     "data": {
      "text/plain": [
       "(87496, 8)"
      ]
     },
     "execution_count": 82,
     "metadata": {},
     "output_type": "execute_result"
    }
   ],
   "source": [
    "ltv_make_model_r.shape"
   ]
  },
  {
   "cell_type": "code",
   "execution_count": 83,
   "metadata": {
    "colab": {
     "base_uri": "https://localhost:8080/",
     "height": 35
    },
    "colab_type": "code",
    "id": "qz9dqYk2iof3",
    "outputId": "91798fe4-cd12-46ed-f720-e5614aad6eb5"
   },
   "outputs": [
    {
     "data": {
      "text/plain": [
       "count     87496.000000\n",
       "mean       4299.899055\n",
       "std       10325.711523\n",
       "min           0.000000\n",
       "25%         315.060000\n",
       "50%        1083.690000\n",
       "75%        4209.352500\n",
       "max      732727.590000\n",
       "Name: LTV (for Running Repairs), dtype: float64"
      ]
     },
     "execution_count": 83,
     "metadata": {},
     "output_type": "execute_result"
    }
   ],
   "source": [
    "ltv_make_model_r[\"LTV (for Running Repairs)\"].describe()"
   ]
  },
  {
   "cell_type": "code",
   "execution_count": 84,
   "metadata": {
    "colab": {
     "base_uri": "https://localhost:8080/",
     "height": 72
    },
    "colab_type": "code",
    "id": "5ZS8c2APiogF",
    "outputId": "b2145fc5-702b-433e-cf80-7238cd781690"
   },
   "outputs": [
    {
     "name": "stdout",
     "output_type": "stream",
     "text": [
      "(43748, 8)\n",
      "(22199, 8)\n",
      "(21549, 8)\n"
     ]
    }
   ],
   "source": [
    "print(ltv_make_model_r[ltv_make_model_r[\"LTV (for Running Repairs)\"]<=1083.690000].shape)\n",
    "print(ltv_make_model_r[(ltv_make_model_r[\"LTV (for Running Repairs)\"]>1083.690000)&(ltv_make_model_r[\"LTV (for Running Repairs)\"]<=4299.899055)].shape)\n",
    "print(ltv_make_model_r[ltv_make_model_r[\"LTV (for Running Repairs)\"]>4299.899055].shape)"
   ]
  },
  {
   "cell_type": "code",
   "execution_count": 85,
   "metadata": {
    "colab": {},
    "colab_type": "code",
    "id": "Car18mzNiogL"
   },
   "outputs": [],
   "source": [
    "bins=[-1,1083.690000,4299.899055,732727.60]\n",
    "labels=[\"Low\",\"Medium\",\"High\"]\n",
    "ltv_make_model_r[\"LTV Binned\"]=pd.cut(ltv_make_model_r[\"LTV (for Running Repairs)\"], bins=bins, labels=labels)"
   ]
  },
  {
   "cell_type": "code",
   "execution_count": 86,
   "metadata": {
    "colab": {
     "base_uri": "https://localhost:8080/",
     "height": 90
    },
    "colab_type": "code",
    "id": "znlkYh20mZwv",
    "outputId": "f2abfbde-a8fd-4f8c-d0e8-2a654809d6e1"
   },
   "outputs": [
    {
     "data": {
      "text/plain": [
       "Low       43748\n",
       "Medium    22199\n",
       "High      21549\n",
       "Name: LTV Binned, dtype: int64"
      ]
     },
     "execution_count": 86,
     "metadata": {},
     "output_type": "execute_result"
    }
   ],
   "source": [
    "ltv_make_model_r[\"LTV Binned\"].value_counts()"
   ]
  },
  {
   "cell_type": "code",
   "execution_count": 87,
   "metadata": {
    "colab": {},
    "colab_type": "code",
    "id": "Ac6Gdi7ZiogQ"
   },
   "outputs": [],
   "source": [
    "ltv_make_model_r.dropna(inplace=True)"
   ]
  },
  {
   "cell_type": "code",
   "execution_count": 88,
   "metadata": {
    "colab": {},
    "colab_type": "code",
    "id": "GzvhflCyiogV"
   },
   "outputs": [],
   "source": [
    "temp_ltv_make_model_r=ltv_make_model_r.copy()"
   ]
  },
  {
   "cell_type": "code",
   "execution_count": 89,
   "metadata": {
    "colab": {},
    "colab_type": "code",
    "id": "VGbc3tR5ioga"
   },
   "outputs": [],
   "source": [
    "le=LabelEncoder()\n",
    "temp_ltv_make_model_r[\"Make\"]=le.fit_transform(temp_ltv_make_model_r[\"Make\"])\n",
    "temp_ltv_make_model_r[\"Model\"]=le.fit_transform(temp_ltv_make_model_r[\"Model\"])\n",
    "temp_ltv_make_model_r[\"LTV Binned\"]=le.fit_transform(temp_ltv_make_model_r[\"LTV Binned\"])\n",
    "temp_ltv_make_model_r[\"Clean_Location_Area\"]=le.fit_transform(temp_ltv_make_model_r[\"Clean_Location_Area\"])"
   ]
  },
  {
   "cell_type": "code",
   "execution_count": 90,
   "metadata": {
    "colab": {
     "base_uri": "https://localhost:8080/",
     "height": 244
    },
    "colab_type": "code",
    "id": "wxuoOpK6iogg",
    "outputId": "068b7cb8-5127-4f5b-ab1e-c2a1b71d5dff"
   },
   "outputs": [
    {
     "data": {
      "text/html": [
       "<div>\n",
       "<style scoped>\n",
       "    .dataframe tbody tr th:only-of-type {\n",
       "        vertical-align: middle;\n",
       "    }\n",
       "\n",
       "    .dataframe tbody tr th {\n",
       "        vertical-align: top;\n",
       "    }\n",
       "\n",
       "    .dataframe thead th {\n",
       "        text-align: right;\n",
       "    }\n",
       "</style>\n",
       "<table border=\"1\" class=\"dataframe\">\n",
       "  <thead>\n",
       "    <tr style=\"text-align: right;\">\n",
       "      <th></th>\n",
       "      <th>Make</th>\n",
       "      <th>Model</th>\n",
       "      <th>Clean_Location_Area</th>\n",
       "      <th>Customer No.</th>\n",
       "      <th>Invoice No</th>\n",
       "      <th>Total Value</th>\n",
       "      <th>Service_Time_Hours</th>\n",
       "      <th>LTV (for Running Repairs)</th>\n",
       "      <th>LTV Binned</th>\n",
       "    </tr>\n",
       "  </thead>\n",
       "  <tbody>\n",
       "    <tr>\n",
       "      <th>0</th>\n",
       "      <td>0</td>\n",
       "      <td>8</td>\n",
       "      <td>112</td>\n",
       "      <td>118262</td>\n",
       "      <td>1</td>\n",
       "      <td>1754.44</td>\n",
       "      <td>0.268056</td>\n",
       "      <td>1754.44</td>\n",
       "      <td>2</td>\n",
       "    </tr>\n",
       "    <tr>\n",
       "      <th>1</th>\n",
       "      <td>0</td>\n",
       "      <td>8</td>\n",
       "      <td>424</td>\n",
       "      <td>58055</td>\n",
       "      <td>1</td>\n",
       "      <td>5700.48</td>\n",
       "      <td>26.655278</td>\n",
       "      <td>5700.48</td>\n",
       "      <td>0</td>\n",
       "    </tr>\n",
       "    <tr>\n",
       "      <th>2</th>\n",
       "      <td>0</td>\n",
       "      <td>8</td>\n",
       "      <td>438</td>\n",
       "      <td>137682</td>\n",
       "      <td>1</td>\n",
       "      <td>359.87</td>\n",
       "      <td>0.052778</td>\n",
       "      <td>359.87</td>\n",
       "      <td>1</td>\n",
       "    </tr>\n",
       "    <tr>\n",
       "      <th>3</th>\n",
       "      <td>0</td>\n",
       "      <td>8</td>\n",
       "      <td>551</td>\n",
       "      <td>11604</td>\n",
       "      <td>1</td>\n",
       "      <td>299.04</td>\n",
       "      <td>1.235278</td>\n",
       "      <td>299.04</td>\n",
       "      <td>1</td>\n",
       "    </tr>\n",
       "    <tr>\n",
       "      <th>4</th>\n",
       "      <td>0</td>\n",
       "      <td>8</td>\n",
       "      <td>666</td>\n",
       "      <td>113926</td>\n",
       "      <td>1</td>\n",
       "      <td>21834.92</td>\n",
       "      <td>28.306389</td>\n",
       "      <td>21834.92</td>\n",
       "      <td>0</td>\n",
       "    </tr>\n",
       "  </tbody>\n",
       "</table>\n",
       "</div>"
      ],
      "text/plain": [
       "   Make  Model  Clean_Location_Area Customer No.  Invoice No  Total Value  \\\n",
       "0     0      8                  112       118262           1      1754.44   \n",
       "1     0      8                  424        58055           1      5700.48   \n",
       "2     0      8                  438       137682           1       359.87   \n",
       "3     0      8                  551        11604           1       299.04   \n",
       "4     0      8                  666       113926           1     21834.92   \n",
       "\n",
       "   Service_Time_Hours  LTV (for Running Repairs)  LTV Binned  \n",
       "0            0.268056                    1754.44           2  \n",
       "1           26.655278                    5700.48           0  \n",
       "2            0.052778                     359.87           1  \n",
       "3            1.235278                     299.04           1  \n",
       "4           28.306389                   21834.92           0  "
      ]
     },
     "execution_count": 90,
     "metadata": {},
     "output_type": "execute_result"
    }
   ],
   "source": [
    "temp_ltv_make_model_r.head()"
   ]
  },
  {
   "cell_type": "code",
   "execution_count": 91,
   "metadata": {
    "colab": {},
    "colab_type": "code",
    "id": "y_ldDpBNiogl"
   },
   "outputs": [],
   "source": [
    "X=temp_ltv_make_model_r.drop([\"Customer No.\",\"LTV (for Running Repairs)\",\"LTV Binned\",\"Invoice No\"],1)\n",
    "y=temp_ltv_make_model_r[\"LTV Binned\"]"
   ]
  },
  {
   "cell_type": "code",
   "execution_count": 92,
   "metadata": {
    "colab": {
     "base_uri": "https://localhost:8080/",
     "height": 35
    },
    "colab_type": "code",
    "id": "3JWk8nIdiu_K",
    "outputId": "84c6685c-9a00-4c6e-e84c-2df73a39ebae"
   },
   "outputs": [
    {
     "data": {
      "text/plain": [
       "['Make', 'Model', 'Clean_Location_Area', 'Total Value', 'Service_Time_Hours']"
      ]
     },
     "execution_count": 92,
     "metadata": {},
     "output_type": "execute_result"
    }
   ],
   "source": [
    "list(X)"
   ]
  },
  {
   "cell_type": "code",
   "execution_count": 93,
   "metadata": {
    "colab": {},
    "colab_type": "code",
    "id": "nbClf_FSiogp"
   },
   "outputs": [],
   "source": [
    "X_train,X_test,y_train,y_test=tts(X,y,test_size=0.3,random_state=0)"
   ]
  },
  {
   "cell_type": "code",
   "execution_count": 94,
   "metadata": {
    "colab": {},
    "colab_type": "code",
    "id": "ZzDZOFv4iogu"
   },
   "outputs": [],
   "source": [
    "rfc=RandomForestClassifier(criterion='entropy',random_state=0)"
   ]
  },
  {
   "cell_type": "code",
   "execution_count": 95,
   "metadata": {
    "colab": {
     "base_uri": "https://localhost:8080/",
     "height": 164
    },
    "colab_type": "code",
    "id": "B8VCTxDqiog2",
    "outputId": "bfd38301-9729-4806-b5d7-41e8e84e9dd7"
   },
   "outputs": [
    {
     "data": {
      "text/plain": [
       "RandomForestClassifier(bootstrap=True, class_weight=None, criterion='entropy',\n",
       "                       max_depth=None, max_features='auto', max_leaf_nodes=None,\n",
       "                       min_impurity_decrease=0.0, min_impurity_split=None,\n",
       "                       min_samples_leaf=1, min_samples_split=2,\n",
       "                       min_weight_fraction_leaf=0.0, n_estimators=10,\n",
       "                       n_jobs=None, oob_score=False, random_state=0, verbose=0,\n",
       "                       warm_start=False)"
      ]
     },
     "execution_count": 95,
     "metadata": {},
     "output_type": "execute_result"
    }
   ],
   "source": [
    "rfc.fit(X_train,y_train)"
   ]
  },
  {
   "cell_type": "code",
   "execution_count": 96,
   "metadata": {
    "colab": {},
    "colab_type": "code",
    "id": "ZbVkc4A0nG_4"
   },
   "outputs": [],
   "source": [
    "y_pred_rfc=rfc.predict(X_test)"
   ]
  },
  {
   "cell_type": "code",
   "execution_count": 97,
   "metadata": {
    "colab": {
     "base_uri": "https://localhost:8080/",
     "height": 201
    },
    "colab_type": "code",
    "id": "-05hvDOHnG51",
    "outputId": "a1a7f4ee-f404-4bce-f5ab-a93ffb5eb04c"
   },
   "outputs": [
    {
     "name": "stdout",
     "output_type": "stream",
     "text": [
      "              precision    recall  f1-score   support\n",
      "\n",
      "           0       0.88      0.82      0.85      6441\n",
      "           1       0.92      0.99      0.95     13204\n",
      "           2       0.79      0.72      0.76      6604\n",
      "\n",
      "    accuracy                           0.88     26249\n",
      "   macro avg       0.86      0.84      0.85     26249\n",
      "weighted avg       0.88      0.88      0.88     26249\n",
      "\n"
     ]
    }
   ],
   "source": [
    "print(classification_report(y_test,y_pred_rfc))"
   ]
  },
  {
   "cell_type": "code",
   "execution_count": 98,
   "metadata": {
    "colab": {
     "base_uri": "https://localhost:8080/",
     "height": 35
    },
    "colab_type": "code",
    "id": "klFBNiCKtTbg",
    "outputId": "a133eba7-be9c-4ab0-be29-ce30edc0917c"
   },
   "outputs": [
    {
     "data": {
      "text/plain": [
       "0.8800716217760677"
      ]
     },
     "execution_count": 98,
     "metadata": {},
     "output_type": "execute_result"
    }
   ],
   "source": [
    "accuracy_score(y_test,y_pred_rfc)"
   ]
  },
  {
   "cell_type": "code",
   "execution_count": 99,
   "metadata": {
    "colab": {
     "base_uri": "https://localhost:8080/",
     "height": 283
    },
    "colab_type": "code",
    "id": "4fwkUghFiohi",
    "outputId": "86313c5f-fc45-4864-bbf9-d18a7c76c2e6"
   },
   "outputs": [
    {
     "data": {
      "text/plain": [
       "<BarContainer object of 5 artists>"
      ]
     },
     "execution_count": 99,
     "metadata": {},
     "output_type": "execute_result"
    },
    {
     "data": {
      "image/png": "[encoded data removed]",
      "text/plain": [
       "<Figure size 432x288 with 1 Axes>"
      ]
     },
     "metadata": {
      "needs_background": "light"
     },
     "output_type": "display_data"
    }
   ],
   "source": [
    "plt.barh(list(X),list(rfc.feature_importances_))"
   ]
  },
  {
   "cell_type": "code",
   "execution_count": 104,
   "metadata": {
    "colab": {},
    "colab_type": "code",
    "id": "seOC2uftioht"
   },
   "outputs": [],
   "source": [
    "score=cross_val_score(estimator=rfc,X=X,y=y,cv=5)"
   ]
  },
  {
   "cell_type": "code",
   "execution_count": 105,
   "metadata": {
    "colab": {
     "base_uri": "https://localhost:8080/",
     "height": 35
    },
    "colab_type": "code",
    "id": "s6AWsz8aioiL",
    "outputId": "64e6cbe7-1992-4965-f88a-beb4c14f1482"
   },
   "outputs": [
    {
     "data": {
      "text/plain": [
       "0.8161989489855184"
      ]
     },
     "execution_count": 105,
     "metadata": {},
     "output_type": "execute_result"
    }
   ],
   "source": [
    "score.mean()"
   ]
  },
  {
   "cell_type": "code",
   "execution_count": 106,
   "metadata": {
    "colab": {},
    "colab_type": "code",
    "id": "RytSQeZFioiP"
   },
   "outputs": [],
   "source": [
    "xgb=XGBClassifier()"
   ]
  },
  {
   "cell_type": "code",
   "execution_count": 107,
   "metadata": {
    "colab": {
     "base_uri": "https://localhost:8080/",
     "height": 146
    },
    "colab_type": "code",
    "id": "obo-rUrE5V6-",
    "outputId": "0eb0a767-d1df-4f09-a19a-c62d5e4d254f"
   },
   "outputs": [
    {
     "data": {
      "text/plain": [
       "XGBClassifier(base_score=0.5, booster='gbtree', colsample_bylevel=1,\n",
       "              colsample_bynode=1, colsample_bytree=1, gamma=0,\n",
       "              learning_rate=0.1, max_delta_step=0, max_depth=3,\n",
       "              min_child_weight=1, missing=None, n_estimators=100, n_jobs=1,\n",
       "              nthread=None, objective='multi:softprob', random_state=0,\n",
       "              reg_alpha=0, reg_lambda=1, scale_pos_weight=1, seed=None,\n",
       "              silent=None, subsample=1, verbosity=1)"
      ]
     },
     "execution_count": 107,
     "metadata": {},
     "output_type": "execute_result"
    }
   ],
   "source": [
    "xgb.fit(X_train,y_train)"
   ]
  },
  {
   "cell_type": "code",
   "execution_count": 108,
   "metadata": {
    "colab": {},
    "colab_type": "code",
    "id": "_brbVeJ05V_O"
   },
   "outputs": [],
   "source": [
    "y_pred_xgb=xgb.predict(X_test)"
   ]
  },
  {
   "cell_type": "code",
   "execution_count": 109,
   "metadata": {
    "colab": {
     "base_uri": "https://localhost:8080/",
     "height": 35
    },
    "colab_type": "code",
    "id": "QOJEcWDz5V3n",
    "outputId": "3dbd30af-eeb2-4fd9-898c-82dc49df8e18"
   },
   "outputs": [
    {
     "data": {
      "text/plain": [
       "0.891386338527182"
      ]
     },
     "execution_count": 109,
     "metadata": {},
     "output_type": "execute_result"
    }
   ],
   "source": [
    "accuracy_score(y_test,y_pred_xgb)"
   ]
  },
  {
   "cell_type": "code",
   "execution_count": 110,
   "metadata": {
    "colab": {
     "base_uri": "https://localhost:8080/",
     "height": 201
    },
    "colab_type": "code",
    "id": "xOR8IOTI5lGU",
    "outputId": "bc1da195-c545-40ee-9e47-8012040ebe70"
   },
   "outputs": [
    {
     "name": "stdout",
     "output_type": "stream",
     "text": [
      "              precision    recall  f1-score   support\n",
      "\n",
      "           0       0.98      0.76      0.86      6441\n",
      "           1       0.91      1.00      0.95     13204\n",
      "           2       0.78      0.80      0.79      6604\n",
      "\n",
      "    accuracy                           0.89     26249\n",
      "   macro avg       0.89      0.86      0.87     26249\n",
      "weighted avg       0.90      0.89      0.89     26249\n",
      "\n"
     ]
    }
   ],
   "source": [
    "print(classification_report(y_test,y_pred_xgb))"
   ]
  },
  {
   "cell_type": "code",
   "execution_count": 111,
   "metadata": {
    "colab": {},
    "colab_type": "code",
    "id": "VAiFbWLGjJDZ"
   },
   "outputs": [],
   "source": [
    "scores_xgb=cross_val_score(estimator=xgb,X=X,y=y,cv=5)"
   ]
  },
  {
   "cell_type": "code",
   "execution_count": 112,
   "metadata": {
    "colab": {
     "base_uri": "https://localhost:8080/",
     "height": 35
    },
    "colab_type": "code",
    "id": "MaYPl3D4ioiz",
    "outputId": "4111538b-9c9f-4fcd-faae-eb55478ef840"
   },
   "outputs": [
    {
     "data": {
      "text/plain": [
       "0.8462192952505039"
      ]
     },
     "execution_count": 112,
     "metadata": {},
     "output_type": "execute_result"
    }
   ],
   "source": [
    "scores_xgb.mean()"
   ]
  },
  {
   "cell_type": "code",
   "execution_count": null,
   "metadata": {},
   "outputs": [],
   "source": []
  }
 ],
 "metadata": {
  "accelerator": "GPU",
  "colab": {
   "machine_shape": "hm",
   "name": "Capstone Project New.ipynb",
   "provenance": [],
   "toc_visible": true
  },
  "kernelspec": {
   "display_name": "Python 3",
   "language": "python",
   "name": "python3"
  },
  "language_info": {
   "codemirror_mode": {
    "name": "ipython",
    "version": 3
   },
   "file_extension": ".py",
   "mimetype": "text/x-python",
   "name": "python",
   "nbconvert_exporter": "python",
   "pygments_lexer": "ipython3",
   "version": "3.7.3"
  }
 },
 "nbformat": 4,
 "nbformat_minor": 1
}
